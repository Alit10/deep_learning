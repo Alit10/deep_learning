{
 "cells": [
  {
   "cell_type": "code",
   "execution_count": 11,
   "metadata": {
    "ExecuteTime": {
     "end_time": "2019-05-21T07:09:27.369182Z",
     "start_time": "2019-05-21T07:09:27.078173Z"
    }
   },
   "outputs": [
    {
     "name": "stdout",
     "output_type": "stream",
     "text": [
      "The autoreload extension is already loaded. To reload it, use:\n",
      "  %reload_ext autoreload\n"
     ]
    }
   ],
   "source": [
    "# Data exploration snippet\n",
    "import pandas as pd\n",
    "import numpy as np\n",
    "from tqdm import tqdm_notebook as tqdm\n",
    "import matplotlib.pyplot as plt\n",
    "from sklearn.metrics import confusion_matrix,accuracy_score\n",
    "from sklearn.model_selection import train_test_split\n",
    "\n",
    "from keras.utils import to_categorical\n",
    "from keras.utils.vis_utils import plot_model\n",
    "from keras.layers import Input, Dense, Activation, ZeroPadding2D, BatchNormalization, Flatten, Conv2D\n",
    "from keras.layers import AveragePooling2D, MaxPooling2D, Dropout, GlobalMaxPooling2D, GlobalAveragePooling2D,MaxPool2D\n",
    "from keras.models import Model ,Sequential\n",
    "from keras.preprocessing import image\n",
    "from keras.optimizers import RMSprop\n",
    "import seaborn as sns\n",
    "import scipy\n",
    "import itertools\n",
    "\n",
    "%matplotlib inline\n",
    "%load_ext autoreload\n",
    "%autoreload 2\n",
    "\n",
    "pd.options.display.max_columns = 999\n",
    "pd.options.display.max_rows = 999"
   ]
  },
  {
   "cell_type": "code",
   "execution_count": 2,
   "metadata": {
    "ExecuteTime": {
     "end_time": "2019-05-21T07:06:52.612984Z",
     "start_time": "2019-05-21T07:06:52.343644Z"
    }
   },
   "outputs": [],
   "source": [
    "def plot_confusion_matrix(y_true,y_pred, classes,\n",
    "                          normalize=False,\n",
    "                          title='Confusion matrix',\n",
    "                          cmap=plt.cm.Blues):\n",
    "    \"\"\"\n",
    "    This function prints and plots the confusion matrix.\n",
    "    Normalization can be applied by setting `normalize=True`.\n",
    "    \"\"\"\n",
    "    cm = confusion_matrix(y_true,y_pred)\n",
    "    plt.imshow(cm, interpolation='nearest', cmap=cmap)\n",
    "    plt.title(title)\n",
    "    plt.colorbar()\n",
    "    tick_marks = np.arange(len(classes))\n",
    "    plt.xticks(tick_marks, classes, rotation=45)\n",
    "    plt.yticks(tick_marks, classes)\n",
    "\n",
    "    if normalize:\n",
    "        cm = cm.astype('float') / cm.sum(axis=1)[:, np.newaxis]\n",
    "\n",
    "    thresh = cm.max() / 2.\n",
    "    for i, j in itertools.product(range(cm.shape[0]), range(cm.shape[1])):\n",
    "        plt.text(j, i, cm[i, j],\n",
    "                 horizontalalignment=\"center\",\n",
    "                 color=\"white\" if cm[i, j] > thresh else \"black\")\n",
    "\n",
    "    plt.tight_layout()\n",
    "    plt.ylabel('True label')\n",
    "    plt.xlabel('Predicted label')\n",
    "    print(\"accuracy score = {} \".format(accuracy_score(y_true,y_pred)))"
   ]
  },
  {
   "cell_type": "code",
   "execution_count": 3,
   "metadata": {
    "ExecuteTime": {
     "end_time": "2019-05-21T07:07:08.326424Z",
     "start_time": "2019-05-21T07:06:52.614918Z"
    }
   },
   "outputs": [
    {
     "data": {
      "text/plain": [
       "(42000, 785)"
      ]
     },
     "execution_count": 3,
     "metadata": {},
     "output_type": "execute_result"
    }
   ],
   "source": [
    "df = pd.read_csv(\"./data/train.csv\",sep=\",\")\n",
    "df_test = pd.read_csv(\"./data/test.csv\",sep=\",\")\n",
    "df.shape"
   ]
  },
  {
   "cell_type": "code",
   "execution_count": 4,
   "metadata": {
    "ExecuteTime": {
     "end_time": "2019-05-21T07:07:08.804205Z",
     "start_time": "2019-05-21T07:07:08.328418Z"
    }
   },
   "outputs": [],
   "source": [
    "X = df.iloc[:,1:]\n",
    "y = df.iloc[:,0]\n",
    "x_train, x_test, y_train, y_test = train_test_split(X,y, test_size= 0.25, random_state=27)\n"
   ]
  },
  {
   "cell_type": "code",
   "execution_count": 217,
   "metadata": {
    "ExecuteTime": {
     "end_time": "2019-05-21T10:18:31.177009Z",
     "start_time": "2019-05-21T10:18:29.651676Z"
    }
   },
   "outputs": [],
   "source": [
    "x_train = x_train/255\n",
    "x_test = x_test / 255"
   ]
  },
  {
   "cell_type": "code",
   "execution_count": 5,
   "metadata": {
    "ExecuteTime": {
     "end_time": "2019-05-21T07:07:09.083434Z",
     "start_time": "2019-05-21T07:07:08.806140Z"
    }
   },
   "outputs": [
    {
     "data": {
      "text/plain": [
       "(31500, 10)"
      ]
     },
     "execution_count": 5,
     "metadata": {},
     "output_type": "execute_result"
    }
   ],
   "source": [
    "y_train2 = to_categorical(y_train, num_classes = 10)\n",
    "y_train2.shape"
   ]
  },
  {
   "cell_type": "markdown",
   "metadata": {},
   "source": [
    "# First cnn model"
   ]
  },
  {
   "cell_type": "code",
   "execution_count": 6,
   "metadata": {
    "ExecuteTime": {
     "end_time": "2019-05-19T15:32:08.861738Z",
     "start_time": "2019-05-19T15:32:08.233634Z"
    }
   },
   "outputs": [],
   "source": [
    "def mnist_model(input_shape):\n",
    "    \"\"\"\n",
    "    Arguments:\n",
    "    input_shape -- shape of the images of the dataset\n",
    "\n",
    "    Returns:\n",
    "    model -- a Model() instance in Keras\n",
    "    \"\"\"\n",
    "    X_input = Input(input_shape)\n",
    "\n",
    "    # Zero-Padding: pads the border of X_input with zeroes\n",
    "    X = ZeroPadding2D((3, 3))(X_input)\n",
    "\n",
    "    # CONV -> BN -> RELU Block applied to X\n",
    "    X = Conv2D(32, (7, 7), strides=(1, 1), name='conv0')(X)\n",
    "    X = BatchNormalization(axis=3, name='bn0')(X)\n",
    "    X = Activation('relu')(X)\n",
    "\n",
    "    # MAXPOOL\n",
    "    X = MaxPooling2D((2, 2), name='max_pool')(X)\n",
    "\n",
    "    # FLATTEN X (means convert it to a vector) + FULLYCONNECTED\n",
    "    X = Flatten()(X)\n",
    "    X = Dense(10, activation='softmax', name='fc')(X)\n",
    "\n",
    "    # Create model. This creates your Keras model instance, you'll use this instance to train/test the model.\n",
    "    model = Model(inputs=X_input, outputs=X, name='mnist')\n",
    "\n",
    "    return model\n",
    "    ### END CODE HERE ###\n",
    "    \n",
    "    return model"
   ]
  },
  {
   "cell_type": "code",
   "execution_count": null,
   "metadata": {
    "ExecuteTime": {
     "start_time": "2019-05-19T15:30:14.883Z"
    }
   },
   "outputs": [],
   "source": [
    "x_train.shape[1:] , np.array(x_train.iloc[0,:]).reshape((-1,28,28,1)).shape"
   ]
  },
  {
   "cell_type": "code",
   "execution_count": 7,
   "metadata": {
    "ExecuteTime": {
     "end_time": "2019-05-19T15:32:14.621019Z",
     "start_time": "2019-05-19T15:32:13.606411Z"
    }
   },
   "outputs": [
    {
     "name": "stdout",
     "output_type": "stream",
     "text": [
      "WARNING:tensorflow:From C:\\Users\\ali.tber\\AppData\\Local\\Continuum\\anaconda3\\lib\\site-packages\\tensorflow\\python\\framework\\op_def_library.py:263: colocate_with (from tensorflow.python.framework.ops) is deprecated and will be removed in a future version.\n",
      "Instructions for updating:\n",
      "Colocations handled automatically by placer.\n"
     ]
    }
   ],
   "source": [
    "model1  = mnist_model(np.array(x_train.iloc[0,:]).reshape((-1,28,28,1)).shape[1:])"
   ]
  },
  {
   "cell_type": "code",
   "execution_count": 8,
   "metadata": {
    "ExecuteTime": {
     "end_time": "2019-05-19T15:32:15.789092Z",
     "start_time": "2019-05-19T15:32:15.092801Z"
    }
   },
   "outputs": [],
   "source": [
    "model1.compile('rmsprop', 'categorical_crossentropy', metrics=['accuracy'])"
   ]
  },
  {
   "cell_type": "code",
   "execution_count": 9,
   "metadata": {
    "ExecuteTime": {
     "end_time": "2019-05-19T15:44:58.000917Z",
     "start_time": "2019-05-19T15:32:22.587789Z"
    },
    "scrolled": true
   },
   "outputs": [
    {
     "name": "stdout",
     "output_type": "stream",
     "text": [
      "WARNING:tensorflow:From C:\\Users\\ali.tber\\AppData\\Local\\Continuum\\anaconda3\\lib\\site-packages\\tensorflow\\python\\ops\\math_ops.py:3066: to_int32 (from tensorflow.python.ops.math_ops) is deprecated and will be removed in a future version.\n",
      "Instructions for updating:\n",
      "Use tf.cast instead.\n",
      "Epoch 1/6\n",
      "31500/31500 [==============================] - ETA: 1:45 - loss: 3.1917 - acc: 0.048 - ETA: 1:18 - loss: 4.6991 - acc: 0.150 - ETA: 53s - loss: 5.7359 - acc: 0.195 - ETA: 29s - loss: 5.7709 - acc: 0.19 - ETA: 6s - loss: 5.8018 - acc: 0.2349 - 126s 4ms/step - loss: 5.7744 - acc: 0.2433\n",
      "Epoch 2/6\n",
      "31500/31500 [==============================] - ETA: 1:51 - loss: 4.0841 - acc: 0.489 - ETA: 1:21 - loss: 3.9952 - acc: 0.544 - ETA: 55s - loss: 3.4290 - acc: 0.554 - ETA: 30s - loss: 2.8045 - acc: 0.58 - ETA: 6s - loss: 2.5050 - acc: 0.6019 - 128s 4ms/step - loss: 2.4340 - acc: 0.6087\n",
      "Epoch 3/6\n",
      "31500/31500 [==============================] - ETA: 1:43 - loss: 0.6704 - acc: 0.766 - ETA: 1:19 - loss: 0.6583 - acc: 0.770 - ETA: 54s - loss: 0.6596 - acc: 0.776 - ETA: 29s - loss: 0.6212 - acc: 0.78 - ETA: 5s - loss: 0.6090 - acc: 0.7916 - 124s 4ms/step - loss: 0.6031 - acc: 0.7933\n",
      "Epoch 4/6\n",
      "31500/31500 [==============================] - ETA: 1:38 - loss: 0.4818 - acc: 0.851 - ETA: 1:18 - loss: 0.4685 - acc: 0.849 - ETA: 53s - loss: 0.4659 - acc: 0.850 - ETA: 29s - loss: 0.4775 - acc: 0.84 - ETA: 6s - loss: 0.4961 - acc: 0.8381 - 129s 4ms/step - loss: 0.5036 - acc: 0.8358\n",
      "Epoch 5/6\n",
      "31500/31500 [==============================] - ETA: 1:37 - loss: 0.5606 - acc: 0.827 - ETA: 1:17 - loss: 0.5673 - acc: 0.817 - ETA: 53s - loss: 0.5477 - acc: 0.823 - ETA: 29s - loss: 0.5210 - acc: 0.83 - ETA: 5s - loss: 0.5146 - acc: 0.8299 - 124s 4ms/step - loss: 0.5109 - acc: 0.8308\n",
      "Epoch 6/6\n",
      "31500/31500 [==============================] - ETA: 1:36 - loss: 0.4610 - acc: 0.839 - ETA: 1:16 - loss: 0.4896 - acc: 0.834 - ETA: 52s - loss: 0.5100 - acc: 0.829 - ETA: 29s - loss: 0.5461 - acc: 0.82 - ETA: 5s - loss: 0.5379 - acc: 0.8283 - 124s 4ms/step - loss: 0.5338 - acc: 0.8296\n"
     ]
    },
    {
     "data": {
      "text/plain": [
       "<keras.callbacks.History at 0x23d58262d68>"
      ]
     },
     "execution_count": 9,
     "metadata": {},
     "output_type": "execute_result"
    }
   ],
   "source": [
    "model1.fit(np.array(x_train).reshape(-1,28,28,1), y_train2, epochs=6, batch_size=6000)"
   ]
  },
  {
   "cell_type": "code",
   "execution_count": 15,
   "metadata": {
    "ExecuteTime": {
     "end_time": "2019-05-19T15:55:44.538546Z",
     "start_time": "2019-05-19T15:55:31.750253Z"
    }
   },
   "outputs": [
    {
     "name": "stdout",
     "output_type": "stream",
     "text": [
      "10500/10500 [==============================] - ETA: 13 - ETA: 11 - ETA: 11 - ETA: 11 - ETA: 11 - ETA: 11 - ETA: 11 - ETA: 11 - ETA: 11 - ETA: 11 - ETA: 11 - ETA: 11 - ETA: 11 - ETA: 11 - ETA: 11 - ETA: 11 - ETA: 10 - ETA: 10 - ETA: 10 - ETA: 10 - ETA: 10 - ETA: 10 - ETA: 10 - ETA: 10 - ETA: 10 - ETA: 10 - ETA: 10 - ETA: 9 - ETA:  - ETA:  - ETA:  - ETA:  - ETA:  - ETA:  - ETA:  - ETA:  - ETA:  - ETA:  - ETA:  - ETA:  - ETA:  - ETA:  - ETA:  - ETA:  - ETA:  - ETA:  - ETA:  - ETA:  - ETA:  - ETA:  - ETA:  - ETA:  - ETA:  - ETA:  - ETA:  - ETA:  - ETA:  - ETA:  - ETA:  - ETA:  - ETA:  - ETA:  - ETA:  - ETA:  - ETA:  - ETA:  - ETA:  - ETA:  - ETA:  - ETA:  - ETA:  - ETA:  - ETA:  - ETA:  - ETA:  - ETA:  - ETA:  - ETA:  - ETA:  - ETA:  - ETA:  - ETA:  - ETA:  - ETA:  - ETA:  - ETA:  - ETA:  - ETA:  - ETA:  - ETA:  - ETA:  - ETA:  - ETA:  - ETA:  - ETA:  - ETA:  - ETA:  - ETA:  - ETA:  - ETA:  - ETA:  - ETA:  - ETA:  - ETA:  - ETA:  - ETA:  - ETA:  - ETA:  - ETA:  - ETA:  - ETA:  - ETA:  - ETA:  - ETA:  - ETA:  - ETA:  - ETA:  - ETA:  - ETA:  - ETA:  - ETA:  - ETA:  - ETA:  - ETA:  - ETA:  - ETA:  - ETA:  - ETA:  - ETA:  - ETA:  - ETA:  - ETA:  - ETA:  - ETA:  - ETA:  - ETA:  - ETA:  - ETA:  - ETA:  - ETA:  - ETA:  - ETA:  - ETA:  - ETA:  - ETA:  - ETA:  - ETA:  - ETA:  - ETA:  - ETA:  - ETA:  - ETA:  - ETA:  - ETA:  - ETA:  - ETA:  - ETA:  - ETA:  - ETA:  - ETA:  - ETA:  - ETA:  - ETA:  - ETA:  - ETA:  - ETA:  - ETA:  - ETA:  - 12s 1ms/step\n"
     ]
    }
   ],
   "source": [
    "v_test = model1.predict(np.array(x_test).reshape(-1,28,28,1),verbose=1)"
   ]
  },
  {
   "cell_type": "code",
   "execution_count": 31,
   "metadata": {
    "ExecuteTime": {
     "end_time": "2019-05-19T16:44:05.783995Z",
     "start_time": "2019-05-19T16:44:05.169721Z"
    }
   },
   "outputs": [
    {
     "data": {
      "text/plain": [
       "array([0., 0., 0., ..., 0., 0., 0.])"
      ]
     },
     "execution_count": 31,
     "metadata": {},
     "output_type": "execute_result"
    }
   ],
   "source": [
    "a=np.zeros(len(v_test))\n",
    "a"
   ]
  },
  {
   "cell_type": "code",
   "execution_count": 36,
   "metadata": {
    "ExecuteTime": {
     "end_time": "2019-05-19T16:45:18.955524Z",
     "start_time": "2019-05-19T16:45:18.299528Z"
    }
   },
   "outputs": [
    {
     "data": {
      "text/plain": [
       "array([2], dtype=int64)"
      ]
     },
     "execution_count": 36,
     "metadata": {},
     "output_type": "execute_result"
    }
   ],
   "source": [
    "np.flatnonzero(v_test[0] == max(v_test[0]))"
   ]
  },
  {
   "cell_type": "code",
   "execution_count": 37,
   "metadata": {
    "ExecuteTime": {
     "end_time": "2019-05-19T16:45:35.220800Z",
     "start_time": "2019-05-19T16:45:34.413613Z"
    }
   },
   "outputs": [],
   "source": [
    "v_test = model1.predict(np.array(x_test).reshape(-1,28,28,1),verbose=1)\n",
    "a = np.zeros(len(v_test))\n",
    "for i in range(len(v_test)):\n",
    "    a[i] = (np.flatnonzero(v_test[i] == max(v_test[i])))"
   ]
  },
  {
   "cell_type": "code",
   "execution_count": 39,
   "metadata": {
    "ExecuteTime": {
     "end_time": "2019-05-19T16:46:01.950295Z",
     "start_time": "2019-05-19T16:46:00.455349Z"
    }
   },
   "outputs": [
    {
     "name": "stdout",
     "output_type": "stream",
     "text": [
      "accuracy score = 0.8591428571428571 \n"
     ]
    },
    {
     "data": {
      "image/png": "[encoded data removed]",
      "text/plain": [
       "<Figure size 432x288 with 2 Axes>"
      ]
     },
     "metadata": {
      "needs_background": "light"
     },
     "output_type": "display_data"
    }
   ],
   "source": [
    "plot_confusion_matrix(y_test,a,np.arange(10))"
   ]
  },
  {
   "cell_type": "code",
   "execution_count": 49,
   "metadata": {
    "ExecuteTime": {
     "end_time": "2019-05-19T18:08:20.521211Z",
     "start_time": "2019-05-19T18:08:20.198048Z"
    }
   },
   "outputs": [
    {
     "name": "stdout",
     "output_type": "stream",
     "text": [
      "_________________________________________________________________\n",
      "Layer (type)                 Output Shape              Param #   \n",
      "=================================================================\n",
      "input_1 (InputLayer)         (None, 28, 28, 1)         0         \n",
      "_________________________________________________________________\n",
      "zero_padding2d_1 (ZeroPaddin (None, 34, 34, 1)         0         \n",
      "_________________________________________________________________\n",
      "conv0 (Conv2D)               (None, 28, 28, 32)        1600      \n",
      "_________________________________________________________________\n",
      "bn0 (BatchNormalization)     (None, 28, 28, 32)        128       \n",
      "_________________________________________________________________\n",
      "activation_1 (Activation)    (None, 28, 28, 32)        0         \n",
      "_________________________________________________________________\n",
      "max_pool (MaxPooling2D)      (None, 14, 14, 32)        0         \n",
      "_________________________________________________________________\n",
      "flatten_1 (Flatten)          (None, 6272)              0         \n",
      "_________________________________________________________________\n",
      "fc (Dense)                   (None, 10)                62730     \n",
      "=================================================================\n",
      "Total params: 64,458\n",
      "Trainable params: 64,394\n",
      "Non-trainable params: 64\n",
      "_________________________________________________________________\n"
     ]
    }
   ],
   "source": [
    "model1.summary()"
   ]
  },
  {
   "cell_type": "markdown",
   "metadata": {},
   "source": [
    "# With sequential model\n"
   ]
  },
  {
   "cell_type": "code",
   "execution_count": 218,
   "metadata": {
    "ExecuteTime": {
     "end_time": "2019-05-21T10:19:38.923539Z",
     "start_time": "2019-05-21T10:19:38.504420Z"
    }
   },
   "outputs": [],
   "source": [
    "# Set the CNN model \n",
    "# my CNN architechture is In -> [[Conv2D->relu]*2 -> MaxPool2D -> Dropout]*2 -> Flatten -> Dense -> Dropout -> Out\n",
    "\n",
    "model = Sequential()\n",
    "\n",
    "model.add(Conv2D(filters = 32, kernel_size = (5,5),padding = 'Same', \n",
    "                 activation ='relu', input_shape = (28,28,1)))\n",
    "model.add(Conv2D(filters = 32, kernel_size = (5,5),padding = 'Same', \n",
    "                 activation ='relu'))\n",
    "model.add(MaxPool2D(pool_size=(2,2)))\n",
    "model.add(Dropout(0.25))\n",
    "\n",
    "\n",
    "model.add(Conv2D(filters = 64, kernel_size = (3,3),padding = 'Same', \n",
    "                 activation ='relu'))\n",
    "model.add(Conv2D(filters = 64, kernel_size = (3,3),padding = 'Same', \n",
    "                 activation ='relu'))\n",
    "model.add(MaxPool2D(pool_size=(2,2), strides=(2,2)))\n",
    "model.add(Dropout(0.25))\n",
    "\n",
    "\n",
    "model.add(Flatten())\n",
    "model.add(Dense(256, activation = \"relu\"))\n",
    "model.add(Dropout(0.5))\n",
    "model.add(Dense(10, activation = \"softmax\"))"
   ]
  },
  {
   "cell_type": "code",
   "execution_count": 219,
   "metadata": {
    "ExecuteTime": {
     "end_time": "2019-05-21T10:19:40.063692Z",
     "start_time": "2019-05-21T10:19:39.758438Z"
    }
   },
   "outputs": [],
   "source": [
    "optimizer = RMSprop(lr=0.001, rho=0.9, epsilon=1e-08, decay=0.0)\n",
    "model.compile(optimizer = optimizer , loss = \"categorical_crossentropy\", metrics=[\"accuracy\"])"
   ]
  },
  {
   "cell_type": "code",
   "execution_count": 220,
   "metadata": {
    "ExecuteTime": {
     "end_time": "2019-05-21T11:17:56.139957Z",
     "start_time": "2019-05-21T10:20:13.896145Z"
    },
    "scrolled": true
   },
   "outputs": [
    {
     "name": "stdout",
     "output_type": "stream",
     "text": [
      "Epoch 1/20\n",
      "31500/31500 [==============================] - ETA: 2:31 - loss: 2.3066 - acc: 0.093 - ETA: 2:19 - loss: 2.2613 - acc: 0.139 - ETA: 1:34 - loss: 2.1780 - acc: 0.203 - ETA: 50s - loss: 2.1843 - acc: 0.235 - ETA: 9s - loss: 2.1775 - acc: 0.2859 - 203s 6ms/step - loss: 2.1514 - acc: 0.2994\n",
      "Epoch 2/20\n",
      "31500/31500 [==============================] - ETA: 2:23 - loss: 1.1467 - acc: 0.603 - ETA: 1:51 - loss: 1.8036 - acc: 0.463 - ETA: 1:14 - loss: 1.8183 - acc: 0.482 - ETA: 40s - loss: 1.7059 - acc: 0.516 - ETA: 8s - loss: 1.5456 - acc: 0.5617 - 173s 5ms/step - loss: 1.5050 - acc: 0.5723\n",
      "Epoch 3/20\n",
      "31500/31500 [==============================] - ETA: 2:14 - loss: 0.9299 - acc: 0.687 - ETA: 1:40 - loss: 0.9370 - acc: 0.686 - ETA: 1:15 - loss: 0.8688 - acc: 0.712 - ETA: 42s - loss: 0.7871 - acc: 0.741 - ETA: 8s - loss: 0.7369 - acc: 0.7563 - 183s 6ms/step - loss: 0.7304 - acc: 0.7576\n",
      "Epoch 4/20\n",
      "31500/31500 [==============================] - ETA: 2:25 - loss: 0.5990 - acc: 0.789 - ETA: 1:54 - loss: 0.5376 - acc: 0.817 - ETA: 1:18 - loss: 0.4937 - acc: 0.835 - ETA: 44s - loss: 0.4745 - acc: 0.843 - ETA: 8s - loss: 0.4797 - acc: 0.8442 - 180s 6ms/step - loss: 0.4827 - acc: 0.8434\n",
      "Epoch 5/20\n",
      "31500/31500 [==============================] - ETA: 2:07 - loss: 0.4692 - acc: 0.846 - ETA: 1:46 - loss: 0.4187 - acc: 0.866 - ETA: 1:11 - loss: 0.3959 - acc: 0.871 - ETA: 39s - loss: 0.3762 - acc: 0.879 - ETA: 7s - loss: 0.3629 - acc: 0.8837 - 163s 5ms/step - loss: 0.3587 - acc: 0.8853\n",
      "Epoch 6/20\n",
      "31500/31500 [==============================] - ETA: 2:04 - loss: 0.2711 - acc: 0.914 - ETA: 1:32 - loss: 0.2681 - acc: 0.918 - ETA: 1:06 - loss: 0.2675 - acc: 0.917 - ETA: 37s - loss: 0.2800 - acc: 0.915 - ETA: 7s - loss: 0.3023 - acc: 0.9063 - 160s 5ms/step - loss: 0.3069 - acc: 0.9048\n",
      "Epoch 7/20\n",
      "31500/31500 [==============================] - ETA: 1:52 - loss: 0.2956 - acc: 0.905 - ETA: 1:31 - loss: 0.2616 - acc: 0.917 - ETA: 1:05 - loss: 0.2535 - acc: 0.921 - ETA: 37s - loss: 0.2474 - acc: 0.923 - ETA: 7s - loss: 0.2436 - acc: 0.9249 - 158s 5ms/step - loss: 0.2401 - acc: 0.9262\n",
      "Epoch 8/20\n",
      "31500/31500 [==============================] - ETA: 2:15 - loss: 0.2154 - acc: 0.931 - ETA: 1:46 - loss: 0.2230 - acc: 0.928 - ETA: 1:14 - loss: 0.2317 - acc: 0.926 - ETA: 40s - loss: 0.2504 - acc: 0.920 - ETA: 8s - loss: 0.2522 - acc: 0.9191 - 171s 5ms/step - loss: 0.2515 - acc: 0.9195\n",
      "Epoch 9/20\n",
      "31500/31500 [==============================] - ETA: 2:21 - loss: 0.2094 - acc: 0.937 - ETA: 1:48 - loss: 0.1961 - acc: 0.940 - ETA: 1:16 - loss: 0.1875 - acc: 0.942 - ETA: 42s - loss: 0.1837 - acc: 0.944 - ETA: 8s - loss: 0.1782 - acc: 0.9467 - 179s 6ms/step - loss: 0.1757 - acc: 0.9474\n",
      "Epoch 10/20\n",
      "31500/31500 [==============================] - ETA: 2:35 - loss: 0.1506 - acc: 0.953 - ETA: 1:58 - loss: 0.1450 - acc: 0.956 - ETA: 1:22 - loss: 0.1543 - acc: 0.954 - ETA: 44s - loss: 0.1790 - acc: 0.945 - ETA: 9s - loss: 0.2334 - acc: 0.9295 - 188s 6ms/step - loss: 0.2363 - acc: 0.9288\n",
      "Epoch 11/20\n",
      "31500/31500 [==============================] - ETA: 2:24 - loss: 0.1790 - acc: 0.946 - ETA: 1:52 - loss: 0.1604 - acc: 0.951 - ETA: 1:18 - loss: 0.1498 - acc: 0.954 - ETA: 43s - loss: 0.1441 - acc: 0.955 - ETA: 8s - loss: 0.1406 - acc: 0.9570 - 182s 6ms/step - loss: 0.1404 - acc: 0.9572\n",
      "Epoch 12/20\n",
      "31500/31500 [==============================] - ETA: 3:20 - loss: 0.1394 - acc: 0.956 - ETA: 2:20 - loss: 0.1293 - acc: 0.959 - ETA: 1:29 - loss: 0.1247 - acc: 0.960 - ETA: 48s - loss: 0.1246 - acc: 0.961 - ETA: 9s - loss: 0.1218 - acc: 0.9620 - 200s 6ms/step - loss: 0.1228 - acc: 0.9614\n",
      "Epoch 13/20\n",
      "31500/31500 [==============================] - ETA: 2:06 - loss: 0.1618 - acc: 0.944 - ETA: 1:37 - loss: 0.1468 - acc: 0.953 - ETA: 1:08 - loss: 0.1365 - acc: 0.956 - ETA: 38s - loss: 0.1305 - acc: 0.958 - ETA: 7s - loss: 0.1287 - acc: 0.9584 - 161s 5ms/step - loss: 0.1288 - acc: 0.9583\n",
      "Epoch 14/20\n",
      "31500/31500 [==============================] - ETA: 2:02 - loss: 0.1338 - acc: 0.962 - ETA: 1:40 - loss: 0.1181 - acc: 0.964 - ETA: 1:07 - loss: 0.1204 - acc: 0.963 - ETA: 38s - loss: 0.1359 - acc: 0.958 - ETA: 7s - loss: 0.1416 - acc: 0.9555 - 161s 5ms/step - loss: 0.1417 - acc: 0.9556\n",
      "Epoch 15/20\n",
      "31500/31500 [==============================] - ETA: 2:06 - loss: 0.1400 - acc: 0.957 - ETA: 1:48 - loss: 0.1308 - acc: 0.960 - ETA: 1:15 - loss: 0.1246 - acc: 0.962 - ETA: 42s - loss: 0.1164 - acc: 0.964 - ETA: 8s - loss: 0.1115 - acc: 0.9663 - 177s 6ms/step - loss: 0.1097 - acc: 0.9669\n",
      "Epoch 16/20\n",
      "31500/31500 [==============================] - ETA: 2:10 - loss: 0.0790 - acc: 0.975 - ETA: 1:37 - loss: 0.0803 - acc: 0.975 - ETA: 1:09 - loss: 0.0810 - acc: 0.975 - ETA: 38s - loss: 0.0849 - acc: 0.973 - ETA: 7s - loss: 0.0899 - acc: 0.9726 - 161s 5ms/step - loss: 0.0902 - acc: 0.9725\n",
      "Epoch 17/20\n",
      "31500/31500 [==============================] - ETA: 1:58 - loss: 0.0928 - acc: 0.973 - ETA: 1:31 - loss: 0.0794 - acc: 0.976 - ETA: 1:08 - loss: 0.0777 - acc: 0.976 - ETA: 39s - loss: 0.0795 - acc: 0.975 - ETA: 7s - loss: 0.0833 - acc: 0.9748 - 167s 5ms/step - loss: 0.0857 - acc: 0.9739\n",
      "Epoch 18/20\n",
      "31500/31500 [==============================] - ETA: 2:41 - loss: 0.1295 - acc: 0.962 - ETA: 1:49 - loss: 0.1132 - acc: 0.967 - ETA: 1:15 - loss: 0.1075 - acc: 0.967 - ETA: 41s - loss: 0.1035 - acc: 0.968 - ETA: 8s - loss: 0.0996 - acc: 0.9693 - 172s 5ms/step - loss: 0.0997 - acc: 0.9695\n",
      "Epoch 19/20\n",
      "31500/31500 [==============================] - ETA: 2:08 - loss: 0.1074 - acc: 0.965 - ETA: 1:37 - loss: 0.1124 - acc: 0.965 - ETA: 1:07 - loss: 0.1017 - acc: 0.969 - ETA: 38s - loss: 0.0921 - acc: 0.971 - ETA: 7s - loss: 0.0846 - acc: 0.9741 - 161s 5ms/step - loss: 0.0844 - acc: 0.9743\n",
      "Epoch 20/20\n",
      "31500/31500 [==============================] - ETA: 2:01 - loss: 0.0782 - acc: 0.973 - ETA: 1:33 - loss: 0.0862 - acc: 0.971 - ETA: 1:04 - loss: 0.0882 - acc: 0.970 - ETA: 37s - loss: 0.0851 - acc: 0.972 - ETA: 7s - loss: 0.0807 - acc: 0.9739 - 159s 5ms/step - loss: 0.0799 - acc: 0.9742\n"
     ]
    },
    {
     "data": {
      "text/plain": [
       "<keras.callbacks.History at 0x2e6026476a0>"
      ]
     },
     "execution_count": 220,
     "metadata": {},
     "output_type": "execute_result"
    }
   ],
   "source": [
    "model.fit(np.array(x_train).reshape(-1,28,28,1), y_train2, epochs=20, batch_size=6000)"
   ]
  },
  {
   "cell_type": "markdown",
   "metadata": {
    "ExecuteTime": {
     "end_time": "2019-05-21T07:07:47.005481Z",
     "start_time": "2019-05-21T07:07:46.734983Z"
    }
   },
   "source": [
    "## Inspect the model"
   ]
  },
  {
   "cell_type": "code",
   "execution_count": 69,
   "metadata": {
    "ExecuteTime": {
     "end_time": "2019-05-21T07:47:29.073969Z",
     "start_time": "2019-05-21T07:47:27.678878Z"
    }
   },
   "outputs": [
    {
     "name": "stdout",
     "output_type": "stream",
     "text": [
      "_________________________________________________________________\n",
      "Layer (type)                 Output Shape              Param #   \n",
      "=================================================================\n",
      "conv2d_1 (Conv2D)            (None, 28, 28, 32)        832       \n",
      "_________________________________________________________________\n",
      "conv2d_2 (Conv2D)            (None, 28, 28, 32)        25632     \n",
      "_________________________________________________________________\n",
      "max_pooling2d_1 (MaxPooling2 (None, 14, 14, 32)        0         \n",
      "_________________________________________________________________\n",
      "dropout_1 (Dropout)          (None, 14, 14, 32)        0         \n",
      "_________________________________________________________________\n",
      "conv2d_3 (Conv2D)            (None, 14, 14, 64)        18496     \n",
      "_________________________________________________________________\n",
      "conv2d_4 (Conv2D)            (None, 14, 14, 64)        36928     \n",
      "_________________________________________________________________\n",
      "max_pooling2d_2 (MaxPooling2 (None, 7, 7, 64)          0         \n",
      "_________________________________________________________________\n",
      "dropout_2 (Dropout)          (None, 7, 7, 64)          0         \n",
      "_________________________________________________________________\n",
      "flatten_1 (Flatten)          (None, 3136)              0         \n",
      "_________________________________________________________________\n",
      "dense_1 (Dense)              (None, 256)               803072    \n",
      "_________________________________________________________________\n",
      "dropout_3 (Dropout)          (None, 256)               0         \n",
      "_________________________________________________________________\n",
      "dense_2 (Dense)              (None, 10)                2570      \n",
      "=================================================================\n",
      "Total params: 887,530\n",
      "Trainable params: 887,530\n",
      "Non-trainable params: 0\n",
      "_________________________________________________________________\n"
     ]
    }
   ],
   "source": [
    "model.summary()"
   ]
  },
  {
   "cell_type": "code",
   "execution_count": 13,
   "metadata": {
    "ExecuteTime": {
     "end_time": "2019-05-21T07:10:06.992519Z",
     "start_time": "2019-05-21T07:10:06.521828Z"
    }
   },
   "outputs": [],
   "source": [
    "plot_model(model,to_file='',show_shapes=True)"
   ]
  },
  {
   "cell_type": "code",
   "execution_count": 70,
   "metadata": {
    "ExecuteTime": {
     "end_time": "2019-05-21T07:47:35.460776Z",
     "start_time": "2019-05-21T07:47:34.930890Z"
    }
   },
   "outputs": [
    {
     "data": {
      "text/plain": [
       "([<tf.Tensor 'conv2d_1_input:0' shape=(?, 28, 28, 1) dtype=float32>],\n",
       " [<tf.Tensor 'dense_2/Softmax:0' shape=(?, 10) dtype=float32>])"
      ]
     },
     "execution_count": 70,
     "metadata": {},
     "output_type": "execute_result"
    }
   ],
   "source": [
    "model.inputs, model.outputs"
   ]
  },
  {
   "cell_type": "markdown",
   "metadata": {},
   "source": [
    "<strong>Les poids w ->0 et  les biais ->1"
   ]
  },
  {
   "cell_type": "code",
   "execution_count": 80,
   "metadata": {
    "ExecuteTime": {
     "end_time": "2019-05-21T07:48:47.199661Z",
     "start_time": "2019-05-21T07:48:46.885363Z"
    }
   },
   "outputs": [
    {
     "data": {
      "text/plain": [
       "array([[[-2.55971383e-02, -8.36343877e-03, -3.94603983e-02,\n",
       "         -2.02950183e-02,  3.78381312e-02],\n",
       "        [ 1.81059111e-02, -6.58091009e-02, -4.51099314e-02,\n",
       "         -3.62211056e-02, -6.51006307e-03],\n",
       "        [ 3.69300395e-02,  2.62171626e-02, -4.58210371e-02,\n",
       "          1.61531623e-02, -5.46660088e-02],\n",
       "        [ 7.79380128e-02,  1.56106707e-02,  3.14419391e-04,\n",
       "         -7.38138705e-02, -7.00887442e-02],\n",
       "        [-7.46642873e-02, -2.28067935e-02,  5.21267354e-02,\n",
       "         -6.84974417e-02, -5.85316345e-02]],\n",
       "\n",
       "       [[-3.92559916e-02,  3.66619192e-02, -7.12817237e-02,\n",
       "         -6.08865842e-02, -7.97285289e-02],\n",
       "        [-2.74445564e-02,  3.02143302e-02, -3.57721411e-02,\n",
       "         -2.07256991e-02, -1.51114818e-02],\n",
       "        [ 5.43111078e-02, -1.89159587e-02,  3.88056971e-02,\n",
       "          7.34041855e-02,  7.00135306e-02],\n",
       "        [ 7.59511394e-03, -7.89993629e-02, -7.89060742e-02,\n",
       "         -4.80260700e-03,  8.39017052e-03],\n",
       "        [-5.18507045e-03,  2.72360221e-02,  2.15469636e-02,\n",
       "         -4.43196064e-03, -7.40882978e-02]],\n",
       "\n",
       "       [[-7.64891580e-02,  6.72704205e-02, -5.74078299e-02,\n",
       "          2.15756614e-02,  9.38882679e-03],\n",
       "        [-2.59358548e-02, -1.05722630e-02, -8.76067281e-02,\n",
       "          3.76443863e-02,  9.38616786e-03],\n",
       "        [-6.07770197e-02,  8.13576281e-02, -6.31325319e-02,\n",
       "         -2.67290361e-02,  6.97164983e-02],\n",
       "        [ 7.98342675e-02, -5.36612421e-02, -7.02842313e-04,\n",
       "          1.46525474e-02,  2.88810860e-02],\n",
       "        [-4.10659723e-02, -2.48765945e-02, -5.00114709e-02,\n",
       "          7.50735253e-02, -7.64633492e-02]],\n",
       "\n",
       "       [[-1.98334269e-02,  3.53067555e-02,  7.22007006e-02,\n",
       "         -6.02995828e-02,  4.59936783e-02],\n",
       "        [-1.14469696e-02,  4.24205437e-02, -2.29260828e-02,\n",
       "          6.92031980e-02,  4.05137008e-03],\n",
       "        [ 4.07125317e-02,  5.25098629e-02, -2.15996848e-03,\n",
       "          2.36720257e-02, -2.50466145e-03],\n",
       "        [ 6.20983951e-02,  6.68583587e-02, -2.95213647e-02,\n",
       "         -6.96655363e-02, -5.14024608e-02],\n",
       "        [-2.71220244e-02, -1.59301870e-02,  3.77132706e-02,\n",
       "         -4.05116528e-02, -4.21158336e-02]],\n",
       "\n",
       "       [[ 6.58990219e-02,  1.76411197e-02, -2.01163553e-02,\n",
       "          4.76131067e-02, -5.63560426e-02],\n",
       "        [-8.17838684e-02,  7.74465203e-02,  3.87320183e-02,\n",
       "          1.49699114e-02, -7.96908233e-03],\n",
       "        [-3.48974355e-02,  2.68662833e-02,  7.75086358e-02,\n",
       "          7.81418681e-02, -1.29525922e-02],\n",
       "        [ 5.39192669e-02, -7.29854405e-02,  2.60162950e-02,\n",
       "          3.06133665e-02,  6.83455146e-05],\n",
       "        [ 1.73856542e-02,  3.39579023e-02, -8.62657744e-03,\n",
       "          1.30383773e-02, -4.38282453e-02]],\n",
       "\n",
       "       [[-8.13688040e-02, -3.31131071e-02,  7.25350752e-02,\n",
       "         -3.02415285e-02, -1.10351900e-03],\n",
       "        [-6.97336793e-02, -2.61094756e-02, -3.42310697e-04,\n",
       "         -5.45876427e-03, -3.99840111e-03],\n",
       "        [-1.25325553e-03, -7.03133121e-02,  3.67441140e-02,\n",
       "         -6.03969805e-02, -6.84562176e-02],\n",
       "        [-5.57676796e-03, -4.15780582e-02, -2.88865026e-02,\n",
       "         -3.42922881e-02,  2.56272741e-02],\n",
       "        [ 5.85347824e-02, -2.21095793e-02,  3.99938747e-02,\n",
       "          5.84726073e-02,  3.11851166e-02]],\n",
       "\n",
       "       [[ 1.60160810e-02, -8.40041786e-03,  1.33737307e-02,\n",
       "          3.64782400e-02,  5.62177412e-03],\n",
       "        [ 4.30950820e-02,  3.26894894e-02,  2.04161108e-02,\n",
       "          4.90464196e-02,  8.11749836e-04],\n",
       "        [ 1.31612131e-03,  7.51385689e-02, -8.50086566e-04,\n",
       "          2.01873407e-02,  4.45177071e-02],\n",
       "        [-2.74217054e-02,  6.88656792e-02, -7.99724553e-03,\n",
       "          5.09870388e-02, -1.20227020e-02],\n",
       "        [-6.79637939e-02, -6.07463419e-02,  6.51925150e-03,\n",
       "          3.03837378e-03, -2.74869092e-02]],\n",
       "\n",
       "       [[ 2.31324900e-02, -7.16987923e-02, -1.13849556e-02,\n",
       "          5.18405661e-02,  2.75681484e-02],\n",
       "        [-1.38892327e-02,  2.60872650e-03,  7.40536600e-02,\n",
       "         -3.30433883e-02,  1.95551887e-02],\n",
       "        [ 4.38227840e-02, -7.14466497e-02,  7.22559020e-02,\n",
       "         -5.09354919e-02,  8.07847828e-02],\n",
       "        [ 4.69040535e-02,  7.05839843e-02,  4.21222448e-02,\n",
       "         -7.57179633e-02,  1.47774275e-02],\n",
       "        [-8.72233063e-02, -3.54910549e-03, -3.14284787e-02,\n",
       "          2.35549528e-02,  3.36936973e-02]],\n",
       "\n",
       "       [[-6.88317269e-02,  4.17860486e-02,  5.50260469e-02,\n",
       "         -2.10407563e-02, -3.99585776e-02],\n",
       "        [-4.21013646e-02, -3.71861458e-02,  7.72616938e-02,\n",
       "          6.51075989e-02, -7.41091743e-02],\n",
       "        [-5.27526923e-02,  3.70025896e-02,  9.11232643e-03,\n",
       "          3.85195054e-02, -6.61002472e-02],\n",
       "        [-3.87151516e-03,  1.19946068e-02,  6.81402907e-02,\n",
       "          4.88850810e-02, -6.53932020e-02],\n",
       "        [ 1.39517933e-02, -6.75317869e-02, -6.58557415e-02,\n",
       "         -4.69638668e-02, -8.52086246e-02]],\n",
       "\n",
       "       [[ 3.49299088e-02, -5.81724904e-02, -3.43371257e-02,\n",
       "          7.90600553e-02, -8.68880935e-03],\n",
       "        [ 1.16057731e-02, -2.26743184e-02,  4.62534279e-03,\n",
       "          7.61655718e-02,  2.88240872e-02],\n",
       "        [-9.77844372e-03, -8.14327821e-02,  5.96577004e-02,\n",
       "          3.62655781e-02, -3.99270616e-02],\n",
       "        [ 7.84459636e-02, -2.55597867e-02, -7.43140876e-02,\n",
       "          9.85694025e-03, -1.51988203e-02],\n",
       "        [ 4.16741893e-02,  7.58729354e-02,  2.62733363e-02,\n",
       "         -5.32138273e-02, -5.55995740e-02]],\n",
       "\n",
       "       [[ 5.32596931e-03,  2.56806239e-02,  6.77103847e-02,\n",
       "         -1.44465349e-03,  3.87758017e-02],\n",
       "        [ 6.10336326e-02, -2.73488145e-02,  5.79658486e-02,\n",
       "          6.75349236e-02, -6.35554940e-02],\n",
       "        [-1.94403343e-02,  5.06728217e-02, -3.95491347e-02,\n",
       "          2.50916881e-03, -2.78447475e-02],\n",
       "        [ 6.99817315e-02, -2.25448310e-02,  6.19778410e-02,\n",
       "          4.30515502e-04, -2.28493405e-03],\n",
       "        [ 3.71969193e-02, -5.22376150e-02,  3.70714441e-02,\n",
       "          3.12091727e-02,  3.72481644e-02]],\n",
       "\n",
       "       [[-7.97525346e-02,  5.85575663e-02,  6.88594058e-02,\n",
       "          5.22883274e-02,  7.05840141e-02],\n",
       "        [-1.79316697e-03, -4.62280074e-03, -8.44060108e-02,\n",
       "          5.46785221e-02, -8.25449601e-02],\n",
       "        [ 3.21550970e-03,  4.76805232e-02,  9.06315353e-03,\n",
       "         -5.26740104e-02, -2.17611827e-02],\n",
       "        [ 1.44889429e-02,  1.21975485e-02,  3.98717150e-02,\n",
       "         -2.12896187e-02,  8.45626146e-02],\n",
       "        [-7.73389563e-02,  4.07368429e-02, -9.59068816e-03,\n",
       "         -6.32297099e-02, -2.05571461e-03]],\n",
       "\n",
       "       [[-4.99197515e-03, -3.04856878e-02, -8.76800865e-02,\n",
       "         -4.15633470e-02,  5.31871468e-02],\n",
       "        [ 4.92729060e-02, -3.92247252e-02,  4.83015738e-02,\n",
       "          6.63769664e-03, -5.64082712e-02],\n",
       "        [-8.24769512e-02,  4.46992032e-02, -5.58485016e-02,\n",
       "          7.88742900e-02, -6.81066737e-02],\n",
       "        [-7.10857511e-02,  7.96745624e-03,  6.64947852e-02,\n",
       "          2.71511618e-02,  6.60609752e-02],\n",
       "        [-6.33724453e-03,  4.82705869e-02, -5.11499718e-02,\n",
       "          4.93733808e-02,  1.00539140e-02]],\n",
       "\n",
       "       [[ 6.51915893e-02, -4.00399715e-02,  3.49127129e-02,\n",
       "          4.10093926e-02,  2.94316504e-02],\n",
       "        [-7.64362514e-02,  1.89084187e-02,  8.54033232e-02,\n",
       "          6.00661151e-02, -6.17891587e-02],\n",
       "        [ 2.86430884e-02,  4.31942269e-02, -5.72639592e-02,\n",
       "         -4.67204899e-02,  5.56489117e-02],\n",
       "        [ 8.10483173e-02,  1.07602281e-02,  1.75292920e-02,\n",
       "         -5.40620135e-03, -4.88821715e-02],\n",
       "        [ 2.27775835e-02,  1.38736181e-02,  8.77770185e-02,\n",
       "         -7.57202953e-02, -8.79178941e-03]],\n",
       "\n",
       "       [[ 2.53515951e-02, -9.65164229e-03, -2.17892006e-02,\n",
       "         -6.79296106e-02, -6.99215978e-02],\n",
       "        [-5.00547886e-02,  7.17833871e-03, -7.49984458e-02,\n",
       "         -8.79560858e-02,  4.25896719e-02],\n",
       "        [-8.26479942e-02, -3.70254144e-02,  3.24388631e-02,\n",
       "         -3.89435142e-02,  6.88604563e-02],\n",
       "        [-6.19777367e-02, -6.34182021e-02,  1.83036663e-02,\n",
       "         -6.31819814e-02,  7.47661516e-02],\n",
       "        [-1.26467627e-02, -4.05475982e-02,  4.87170331e-02,\n",
       "         -3.96581180e-02, -1.38814030e-02]],\n",
       "\n",
       "       [[ 5.74316531e-02, -4.42550182e-02, -7.35817885e-04,\n",
       "          6.83869526e-04, -4.84394953e-02],\n",
       "        [-2.48890370e-02, -4.30858985e-04, -2.76812036e-02,\n",
       "         -4.01358865e-02, -5.36765419e-02],\n",
       "        [-5.29223420e-02,  1.42482074e-03,  2.58224234e-02,\n",
       "          9.31965746e-03,  3.54836136e-02],\n",
       "        [-8.37754980e-02,  3.71063948e-02, -1.96632370e-02,\n",
       "         -7.36684576e-02,  1.09505234e-02],\n",
       "        [ 7.65918940e-02,  1.45289283e-02, -2.93655898e-02,\n",
       "         -7.03886710e-03,  1.08719263e-02]],\n",
       "\n",
       "       [[ 6.64745346e-02, -6.54369406e-03, -5.36096804e-02,\n",
       "          6.87953159e-02,  8.52540508e-02],\n",
       "        [-7.40446970e-02, -3.69245559e-02, -2.64634565e-02,\n",
       "         -8.14424381e-02,  5.78351356e-02],\n",
       "        [-1.81756262e-02, -6.04731846e-04,  2.53550932e-02,\n",
       "         -5.96589744e-02,  3.75718586e-02],\n",
       "        [ 6.85774013e-02,  4.85919081e-02,  1.18118301e-02,\n",
       "          1.31554175e-02,  5.05792024e-03],\n",
       "        [ 4.13707010e-02,  2.98843123e-02,  2.00564824e-02,\n",
       "         -5.90333790e-02,  4.84414250e-02]],\n",
       "\n",
       "       [[ 1.05697447e-02, -4.53534648e-02,  5.81540284e-04,\n",
       "          4.93661761e-02,  6.25018477e-02],\n",
       "        [-5.04925847e-02, -7.11618662e-02, -1.88180245e-02,\n",
       "         -8.41922406e-03,  4.15553115e-02],\n",
       "        [ 3.15221921e-02, -9.08214152e-02,  7.07750395e-02,\n",
       "          7.47371539e-02, -3.02069318e-02],\n",
       "        [-3.78079414e-02, -3.37761380e-02,  5.15381806e-02,\n",
       "         -4.88973707e-02, -9.96073824e-04],\n",
       "        [ 6.36398345e-02, -6.60682544e-02, -8.00794140e-02,\n",
       "          5.17089963e-02,  1.59287099e-02]],\n",
       "\n",
       "       [[ 2.31863651e-02,  2.79263556e-02, -3.35739218e-02,\n",
       "         -3.77517799e-03, -2.95083076e-02],\n",
       "        [-8.14197212e-02,  2.69538518e-02, -3.92083563e-02,\n",
       "         -2.04152949e-02, -2.43644305e-02],\n",
       "        [ 2.71544028e-02, -4.18446846e-02, -2.57601775e-02,\n",
       "          1.99395623e-02, -8.16463307e-03],\n",
       "        [-3.94316390e-02, -1.25163356e-02,  6.95904046e-02,\n",
       "         -2.49269903e-02, -3.59421596e-02],\n",
       "        [-3.31145339e-02, -5.43894395e-02,  5.45530543e-02,\n",
       "         -1.15251597e-02, -5.12817912e-02]],\n",
       "\n",
       "       [[-3.43168713e-02, -3.02293524e-02, -1.08745322e-03,\n",
       "         -8.53010416e-02,  1.35023752e-02],\n",
       "        [-2.70966589e-02, -4.18912666e-03,  1.81809757e-02,\n",
       "          1.71155739e-03,  6.19666949e-02],\n",
       "        [-3.01406998e-03, -6.37130439e-02,  4.43046689e-02,\n",
       "          7.30715096e-02, -6.55224025e-02],\n",
       "        [ 2.52754893e-02,  5.83373159e-02, -2.09211372e-03,\n",
       "         -1.58162359e-02,  3.84133980e-02],\n",
       "        [-9.23950523e-02, -7.56108314e-02, -6.21257350e-03,\n",
       "         -2.66928803e-02,  6.56488985e-02]],\n",
       "\n",
       "       [[-7.71459341e-02, -9.22026299e-03,  3.13311955e-03,\n",
       "          4.59695309e-02, -5.93158752e-02],\n",
       "        [-3.48758064e-02,  2.93395147e-02, -1.65922046e-02,\n",
       "         -8.38002712e-02,  4.33518328e-02],\n",
       "        [ 2.32099625e-03,  6.08280003e-02, -3.57372873e-02,\n",
       "          8.25331882e-02, -5.74763864e-02],\n",
       "        [-3.82856876e-02,  2.93510687e-02, -5.32762259e-02,\n",
       "          2.99813263e-02, -6.42968342e-02],\n",
       "        [ 3.76429409e-02,  7.13115707e-02,  2.64033745e-03,\n",
       "          4.81327884e-02, -1.48165887e-02]],\n",
       "\n",
       "       [[ 2.00028270e-02,  4.20134887e-02, -2.35371571e-02,\n",
       "          3.45889293e-02,  4.45120856e-02],\n",
       "        [ 3.99925560e-02,  7.46402889e-02, -6.36385083e-02,\n",
       "          7.34349117e-02,  6.10182360e-02],\n",
       "        [ 6.22865139e-03,  5.79201467e-02,  2.56797019e-02,\n",
       "          1.92900114e-02, -8.05574358e-02],\n",
       "        [ 2.31473241e-05, -5.13561592e-02,  3.62862460e-02,\n",
       "         -9.70220007e-03,  4.73350361e-02],\n",
       "        [-1.30721806e-02, -8.23763534e-02,  3.13048474e-02,\n",
       "         -6.12578802e-02, -8.46163332e-02]],\n",
       "\n",
       "       [[-7.69416743e-04, -7.71465851e-03, -4.69313003e-02,\n",
       "         -8.71666297e-02,  1.40994489e-02],\n",
       "        [-4.58357893e-02, -2.93747727e-02,  6.13094121e-03,\n",
       "          1.63578093e-02,  7.61936009e-02],\n",
       "        [-3.06527819e-02, -4.35906537e-02, -6.99774101e-02,\n",
       "         -9.34931263e-02,  5.72262220e-02],\n",
       "        [ 6.89655589e-03, -5.91501370e-02,  5.53416573e-02,\n",
       "          2.71445643e-02,  4.31401357e-02],\n",
       "        [-4.99345660e-02, -7.30737150e-02,  6.58649132e-02,\n",
       "          6.31666705e-02, -7.80817727e-03]],\n",
       "\n",
       "       [[ 3.04493867e-02,  7.82614797e-02, -6.56239241e-02,\n",
       "         -2.63018105e-02,  1.93383396e-02],\n",
       "        [-1.80072244e-02,  7.17339478e-03,  5.72979450e-03,\n",
       "         -3.11904214e-02, -6.69635981e-02],\n",
       "        [ 6.61799163e-02, -2.71324292e-02, -3.62231918e-02,\n",
       "         -2.50114370e-02,  2.85974462e-02],\n",
       "        [-5.89125268e-02,  2.34910082e-02, -7.27304816e-02,\n",
       "          7.62967840e-02, -1.43741993e-02],\n",
       "        [ 7.19740167e-02,  1.02626467e-02, -1.76589154e-02,\n",
       "         -2.53377035e-02, -6.27347305e-02]],\n",
       "\n",
       "       [[-5.55574633e-02,  9.88225639e-03,  1.72493905e-02,\n",
       "         -4.60539721e-02, -2.43211556e-02],\n",
       "        [-3.45720686e-02,  7.92346150e-02, -7.66278952e-02,\n",
       "          1.86815709e-02, -7.17748180e-02],\n",
       "        [ 2.90198717e-02,  5.88963889e-02, -6.50389027e-03,\n",
       "          4.70298864e-02,  5.38572762e-03],\n",
       "        [ 3.86732966e-02, -6.58895448e-02, -5.14115505e-02,\n",
       "         -4.31624912e-02, -3.05287149e-02],\n",
       "        [-8.51071067e-03,  4.80195768e-02,  3.08656450e-02,\n",
       "          2.26769429e-02,  7.56389201e-02]],\n",
       "\n",
       "       [[ 6.12714216e-02,  4.39413674e-02, -3.92142236e-02,\n",
       "          7.87517130e-02, -1.34503925e-02],\n",
       "        [-7.79169127e-02,  5.61274914e-03,  6.75344765e-02,\n",
       "         -5.57984151e-02,  5.74818291e-02],\n",
       "        [-1.07416902e-02,  3.97789367e-02,  1.92139801e-02,\n",
       "         -2.82501131e-02, -8.77656937e-02],\n",
       "        [-3.13815065e-02, -7.41697382e-04,  5.66940233e-02,\n",
       "          4.63407412e-02,  4.01423126e-02],\n",
       "        [-4.62567098e-02, -4.34727184e-02,  9.40648839e-03,\n",
       "          8.85834172e-03,  5.45726791e-02]],\n",
       "\n",
       "       [[-6.78688884e-02,  3.94904464e-02,  3.58457379e-02,\n",
       "         -7.46911019e-03, -1.62284763e-04],\n",
       "        [-6.05852939e-02,  2.82395706e-02, -7.46686012e-02,\n",
       "          7.09328130e-02,  1.61194634e-02],\n",
       "        [ 6.69344142e-02, -2.69214530e-03,  1.39710493e-02,\n",
       "         -4.83450200e-03,  4.78379242e-02],\n",
       "        [ 3.96022238e-02, -1.52816288e-02,  3.37343961e-02,\n",
       "         -8.02358463e-02, -5.29161692e-02],\n",
       "        [ 5.63798621e-02, -7.49323815e-02, -1.51015250e-02,\n",
       "         -3.16808978e-03, -2.88614724e-02]],\n",
       "\n",
       "       [[ 4.71106656e-02, -3.83678600e-02,  6.25211522e-02,\n",
       "          6.61967024e-02, -3.20945270e-02],\n",
       "        [ 7.53257945e-02,  4.89304624e-02,  6.90453053e-02,\n",
       "          5.90826804e-03,  2.92936377e-02],\n",
       "        [-3.65164876e-02,  1.42125562e-02,  7.19102994e-02,\n",
       "         -7.66122490e-02, -1.46823144e-02],\n",
       "        [ 5.58218695e-02,  5.79703115e-02, -5.74877393e-03,\n",
       "          3.45756337e-02,  9.44210310e-03],\n",
       "        [ 2.90059280e-02,  5.95171824e-02, -6.30799681e-02,\n",
       "         -5.20894527e-02,  7.07681403e-02]],\n",
       "\n",
       "       [[-5.39641529e-02,  3.56408507e-02,  3.62370946e-02,\n",
       "          5.80952987e-02,  4.19504531e-02],\n",
       "        [-4.18488607e-02,  6.01561777e-02, -4.42371629e-02,\n",
       "         -1.56140691e-02,  3.79082076e-02],\n",
       "        [ 6.10479638e-02, -1.10772857e-03,  3.82184982e-02,\n",
       "          6.20395318e-03, -4.22179699e-02],\n",
       "        [-7.87988380e-02,  7.18388930e-02, -7.18049286e-03,\n",
       "         -4.58713546e-02, -4.35893089e-02],\n",
       "        [-3.77505608e-02, -2.29830109e-02,  6.87143728e-02,\n",
       "         -3.35773192e-02,  4.57210615e-02]],\n",
       "\n",
       "       [[ 5.58337756e-02,  2.18926221e-02,  3.84423211e-02,\n",
       "          4.62294975e-03,  3.38678621e-03],\n",
       "        [ 6.73633218e-02, -8.38607028e-02, -8.83546285e-03,\n",
       "         -6.76439106e-02, -7.97274932e-02],\n",
       "        [ 4.13041711e-02, -5.98556884e-02,  5.67907840e-03,\n",
       "         -2.18138639e-02,  6.12719506e-02],\n",
       "        [ 6.06163219e-02, -6.89425841e-02,  5.48224337e-02,\n",
       "         -1.08988592e-02, -5.98775111e-02],\n",
       "        [-3.87076708e-03,  5.85107878e-02, -9.63372067e-02,\n",
       "          2.17486732e-02,  6.84384853e-02]],\n",
       "\n",
       "       [[-2.94399485e-02,  1.54386330e-02, -1.64862592e-02,\n",
       "          6.83251023e-02, -6.87692910e-02],\n",
       "        [ 6.56778142e-02, -6.59319982e-02, -5.19970618e-02,\n",
       "          1.82084870e-02, -5.77171966e-02],\n",
       "        [ 7.25579783e-02, -8.33266880e-03, -6.74325675e-02,\n",
       "          1.81944333e-02,  7.84203410e-02],\n",
       "        [-7.16363937e-02,  5.51379286e-02,  6.39521703e-02,\n",
       "          3.47763416e-03,  8.30441266e-02],\n",
       "        [-2.59522665e-02, -7.21813813e-02,  2.01527905e-02,\n",
       "         -1.89341009e-02,  3.20397429e-02]],\n",
       "\n",
       "       [[ 5.10615595e-02,  3.14878486e-03, -1.36914402e-02,\n",
       "          1.00875674e-02,  2.46930830e-02],\n",
       "        [ 1.44768124e-02,  7.13564008e-02, -2.10480057e-02,\n",
       "         -2.38810275e-02, -2.26877965e-02],\n",
       "        [-4.62572388e-02, -2.96882633e-02,  5.69963418e-02,\n",
       "         -4.77047265e-03,  5.27315810e-02],\n",
       "        [ 4.94246781e-02, -7.45392218e-02, -9.57104657e-03,\n",
       "          2.25362852e-02,  5.82394302e-02],\n",
       "        [ 7.61112617e-03,  5.79380915e-02, -4.52665836e-02,\n",
       "         -5.02643101e-02, -1.57829858e-02]]], dtype=float32)"
      ]
     },
     "execution_count": 80,
     "metadata": {},
     "output_type": "execute_result"
    }
   ],
   "source": [
    "model.get_layer(index=0).get_weights()[0][:, :, 0, :].transpose()"
   ]
  },
  {
   "cell_type": "markdown",
   "metadata": {},
   "source": [
    "<strong> Les filtres de la deuxieme couche contiennent bien 32 channels"
   ]
  },
  {
   "cell_type": "code",
   "execution_count": 93,
   "metadata": {
    "ExecuteTime": {
     "end_time": "2019-05-21T07:55:39.493479Z",
     "start_time": "2019-05-21T07:55:39.023692Z"
    }
   },
   "outputs": [
    {
     "data": {
      "text/plain": [
       "array([[[-1.32804271e-02, -2.06501391e-02, -5.84269166e-02,\n",
       "         -1.42208803e-02, -5.16522303e-02],\n",
       "        [-1.84736084e-02, -3.98098454e-02,  2.41466910e-02,\n",
       "          2.12760344e-02,  5.85809872e-02],\n",
       "        [ 1.00449566e-02,  7.90463760e-03, -9.27439518e-03,\n",
       "         -2.41149892e-03, -5.38472794e-02],\n",
       "        [-6.45924285e-02,  4.34617028e-02,  1.70263108e-02,\n",
       "         -4.74233599e-03, -5.07579781e-02],\n",
       "        [ 9.00409184e-03, -6.43019974e-02, -5.10638170e-02,\n",
       "         -3.05785965e-02, -3.16232368e-02]],\n",
       "\n",
       "       [[-2.22110078e-02, -5.09795472e-02,  2.66171787e-02,\n",
       "          3.51052955e-02,  5.69947958e-02],\n",
       "        [ 8.22903682e-03, -2.00921353e-02, -1.84969716e-02,\n",
       "          1.62793379e-02, -3.36558446e-02],\n",
       "        [-1.77570507e-02,  5.40284067e-02,  9.89691354e-03,\n",
       "          3.99574377e-02,  3.55980285e-02],\n",
       "        [-1.44190406e-02,  5.72222285e-02, -4.76861149e-02,\n",
       "         -2.49113012e-02,  1.65463164e-02],\n",
       "        [-1.77580584e-02, -5.84335662e-02,  1.32560348e-02,\n",
       "          3.25127281e-02,  3.26130651e-02]],\n",
       "\n",
       "       [[ 3.88365313e-02,  3.17972675e-02,  2.03963853e-02,\n",
       "         -7.05085369e-03,  4.52712215e-02],\n",
       "        [-2.70585511e-02,  3.06331571e-02, -1.40274747e-03,\n",
       "          5.20618930e-02,  2.56594196e-02],\n",
       "        [ 5.06496690e-02, -6.30174950e-02,  7.11296406e-03,\n",
       "          4.52617034e-02,  5.29155042e-03],\n",
       "        [-2.50845812e-02,  2.51530670e-02,  8.68464168e-03,\n",
       "         -2.07359102e-02,  2.08463240e-02],\n",
       "        [-2.72200089e-02, -6.78436551e-03, -2.90708579e-02,\n",
       "         -6.09477889e-03, -5.55166826e-02]],\n",
       "\n",
       "       [[-4.18213010e-02, -3.83541733e-03,  1.41359223e-02,\n",
       "         -5.01754247e-02,  4.54899780e-02],\n",
       "        [ 4.68389243e-02,  1.17848825e-03, -3.00164409e-02,\n",
       "         -6.08785674e-02,  3.55471261e-02],\n",
       "        [-2.95901597e-02,  4.79410850e-02,  3.72013077e-02,\n",
       "          1.94186307e-02, -6.48243800e-02],\n",
       "        [ 1.70282908e-02, -2.07736250e-02, -4.45016511e-02,\n",
       "         -1.62270069e-02,  3.87872979e-02],\n",
       "        [ 3.18449996e-02,  3.77640128e-02, -6.16121255e-02,\n",
       "          1.71324499e-02,  4.08185571e-02]],\n",
       "\n",
       "       [[-3.08531336e-02,  1.08705033e-02, -4.24201451e-02,\n",
       "         -5.71471415e-02,  8.39654356e-03],\n",
       "        [ 5.43583184e-02,  3.60136069e-02,  1.30932834e-02,\n",
       "         -2.99072135e-02,  7.62939500e-03],\n",
       "        [-2.25524232e-02, -2.59626731e-02, -3.03040445e-02,\n",
       "          2.00499874e-02,  5.11823148e-02],\n",
       "        [-3.76171544e-02,  3.66351232e-02, -3.31455693e-02,\n",
       "          4.64418437e-03, -4.32348102e-02],\n",
       "        [-3.67584229e-02,  4.03817045e-04, -3.09520699e-02,\n",
       "          5.42284474e-02,  4.12346013e-02]],\n",
       "\n",
       "       [[-5.50355539e-02, -5.61922900e-02,  3.86785865e-02,\n",
       "         -5.11197373e-02, -5.60464524e-02],\n",
       "        [-2.59386301e-02, -1.24943620e-02,  4.82232980e-02,\n",
       "         -2.35863551e-02, -1.97251514e-03],\n",
       "        [ 3.32964659e-02, -2.60900203e-02,  3.06152590e-02,\n",
       "          6.12231568e-02, -1.99412815e-02],\n",
       "        [-5.22239879e-02,  2.65491027e-02, -9.02854139e-04,\n",
       "          2.03346889e-02, -3.89257483e-02],\n",
       "        [ 3.75720300e-02, -3.04553192e-02, -4.14128527e-02,\n",
       "          4.62792926e-02,  3.25710028e-02]],\n",
       "\n",
       "       [[-5.51619604e-02,  2.20985338e-02, -6.35780320e-02,\n",
       "          5.23508824e-02, -5.80668114e-02],\n",
       "        [-7.80029455e-03,  2.02161092e-02,  1.28421877e-02,\n",
       "          1.86868906e-02,  4.50668335e-02],\n",
       "        [ 4.53754961e-02, -3.35219763e-02,  3.80511619e-02,\n",
       "         -3.27269733e-02, -4.93348092e-02],\n",
       "        [-2.49077212e-02, -6.34790659e-02, -2.76988652e-02,\n",
       "         -3.11252456e-02, -5.25065139e-02],\n",
       "        [-2.97663249e-02,  5.47668673e-02,  4.13080826e-02,\n",
       "         -3.43153886e-02, -5.56440689e-02]],\n",
       "\n",
       "       [[ 1.50079029e-02,  3.06131202e-03,  5.04471213e-02,\n",
       "          1.25006707e-02, -4.96581271e-02],\n",
       "        [-4.33071069e-02, -1.13815153e-02, -2.21814495e-02,\n",
       "          5.34672849e-02, -2.52735708e-02],\n",
       "        [-1.77598931e-02,  1.07610719e-02, -3.09582818e-02,\n",
       "         -4.51183729e-02, -5.23990020e-02],\n",
       "        [-2.34846794e-03,  2.58169547e-02, -4.38052900e-02,\n",
       "         -5.81190400e-02,  4.42013331e-02],\n",
       "        [-3.22124064e-02, -2.51122564e-02, -1.04501443e-02,\n",
       "         -2.34373342e-02, -4.11085486e-02]],\n",
       "\n",
       "       [[-2.58170869e-02, -4.06955071e-02,  3.55844535e-02,\n",
       "         -6.03728741e-02,  3.03261708e-02],\n",
       "        [ 2.88771116e-03, -3.12918015e-02,  5.75483590e-02,\n",
       "          8.56834743e-03,  4.81787138e-02],\n",
       "        [-5.13783889e-04, -5.33899069e-02, -5.73917218e-02,\n",
       "          5.32827862e-02, -2.09117755e-02],\n",
       "        [ 5.19398339e-02,  3.87832485e-02, -4.35736626e-02,\n",
       "          5.38288131e-02, -3.63438427e-02],\n",
       "        [-1.30739342e-02,  2.30641454e-03, -5.39198052e-03,\n",
       "         -5.30361272e-02, -5.02670929e-02]],\n",
       "\n",
       "       [[-2.78460830e-02,  1.99777028e-03, -1.33014508e-02,\n",
       "         -2.81060673e-02,  3.76778394e-02],\n",
       "        [-2.17023790e-02, -5.23752421e-02, -6.25032559e-02,\n",
       "          2.40339674e-02, -1.98551472e-02],\n",
       "        [-9.47159156e-03,  5.73662594e-02,  2.83799488e-02,\n",
       "          3.55596058e-02,  2.91033946e-02],\n",
       "        [ 5.54855242e-02,  4.25677449e-02,  4.21995297e-02,\n",
       "         -5.73106855e-02, -3.84778827e-02],\n",
       "        [-5.11248000e-02, -1.70752257e-02, -6.13906980e-02,\n",
       "         -3.73329073e-02,  3.00449207e-02]],\n",
       "\n",
       "       [[ 5.62407710e-02, -6.05583750e-02, -1.77612025e-02,\n",
       "          8.96979473e-05,  1.88440178e-02],\n",
       "        [ 4.21165023e-03, -1.10754296e-02, -5.06575629e-02,\n",
       "          9.56766959e-03,  4.77039777e-02],\n",
       "        [-3.55421230e-02,  4.79191914e-02, -2.17095334e-02,\n",
       "         -4.06566709e-02,  1.65724624e-02],\n",
       "        [-6.39180392e-02, -1.46517297e-02,  1.29523990e-03,\n",
       "          4.77720723e-02, -5.48237935e-02],\n",
       "        [ 2.60658469e-02, -6.13661744e-02,  6.66913250e-03,\n",
       "         -3.29860076e-02, -4.42646369e-02]],\n",
       "\n",
       "       [[ 3.44787762e-02,  4.63398769e-02, -1.28530040e-02,\n",
       "          1.22425789e-02,  4.33032177e-02],\n",
       "        [ 3.89288999e-02,  4.28057723e-02,  3.82870138e-02,\n",
       "         -3.95563990e-02, -4.87776659e-02],\n",
       "        [ 1.07804025e-02,  3.33119594e-02,  1.89884529e-02,\n",
       "          1.05433837e-02,  3.96802276e-02],\n",
       "        [-2.76519097e-02, -4.23454568e-02,  2.24623810e-02,\n",
       "         -2.71709971e-02,  3.97590995e-02],\n",
       "        [-2.52756532e-02,  3.49113122e-02, -3.56747583e-02,\n",
       "         -4.59773233e-04, -4.57344837e-02]],\n",
       "\n",
       "       [[ 5.09857491e-04, -3.28528769e-02,  3.12689692e-03,\n",
       "         -2.49235965e-02, -1.93624124e-02],\n",
       "        [-4.24341159e-03,  3.29334475e-02, -2.70435400e-03,\n",
       "         -4.78985459e-02, -1.62915085e-02],\n",
       "        [ 4.98152897e-02,  5.23353033e-02, -6.33498132e-02,\n",
       "         -3.65628898e-02, -3.57851423e-02],\n",
       "        [ 2.24915985e-02, -2.64372043e-02, -5.81370741e-02,\n",
       "          2.43094526e-02, -8.83260462e-03],\n",
       "        [-4.22077812e-02,  1.33033572e-02,  3.61948796e-02,\n",
       "         -2.21029222e-02,  2.84860507e-02]],\n",
       "\n",
       "       [[-5.02848886e-02, -4.70375270e-02, -5.02061052e-03,\n",
       "          1.01822512e-02, -1.09735020e-02],\n",
       "        [-4.82504517e-02,  4.96364012e-02, -6.64438866e-03,\n",
       "         -2.51384601e-02, -2.09079683e-02],\n",
       "        [-4.25509028e-02, -4.19070907e-02, -2.04375722e-02,\n",
       "         -4.58709784e-02,  4.96389382e-02],\n",
       "        [ 6.24821754e-04, -1.25516728e-02, -2.49749096e-03,\n",
       "         -2.24300772e-02,  1.13956528e-02],\n",
       "        [ 4.94881570e-02,  2.33140755e-02,  3.40580121e-02,\n",
       "          2.47126557e-02, -2.83406284e-02]],\n",
       "\n",
       "       [[-4.71155718e-02,  4.34827134e-02, -2.51549818e-02,\n",
       "         -2.47577485e-03,  2.04901360e-02],\n",
       "        [-9.44271963e-03, -2.40443461e-02,  3.46562192e-02,\n",
       "         -4.22290899e-02,  4.28691303e-04],\n",
       "        [-2.16801055e-02,  2.11939253e-02,  3.01420316e-02,\n",
       "          3.26660760e-02,  9.80351120e-03],\n",
       "        [-5.81112616e-02, -6.25604466e-02,  7.64879631e-03,\n",
       "          2.11046115e-02, -2.98530422e-02],\n",
       "        [ 1.52011123e-02, -6.31354749e-02,  5.73159270e-02,\n",
       "         -5.34878150e-02, -4.26689275e-02]],\n",
       "\n",
       "       [[ 5.91851063e-02, -1.42045030e-02, -2.71719769e-02,\n",
       "         -2.25824048e-03,  1.06644779e-02],\n",
       "        [ 5.56098148e-02, -1.47160115e-02, -1.23188039e-03,\n",
       "         -1.09518729e-02,  5.29539585e-03],\n",
       "        [ 2.23645829e-02,  4.89729047e-02, -1.72170494e-02,\n",
       "         -7.60162529e-03, -5.79266474e-02],\n",
       "        [ 5.62283061e-02, -3.50199230e-02, -4.73826788e-02,\n",
       "         -3.22553031e-02, -5.40225655e-02],\n",
       "        [-2.38098484e-02,  4.11439314e-02, -6.41019642e-03,\n",
       "         -4.73593250e-02, -2.60804743e-02]],\n",
       "\n",
       "       [[ 2.42308266e-02,  3.33974138e-03, -8.36248696e-03,\n",
       "         -3.23763005e-02,  5.67066483e-02],\n",
       "        [-3.07085514e-02, -6.72418624e-04, -3.05687580e-02,\n",
       "         -5.41291237e-02,  5.28086461e-02],\n",
       "        [-1.62478518e-02, -6.39152452e-02, -1.05380022e-03,\n",
       "          2.88527347e-02, -5.80477528e-02],\n",
       "        [-1.90773699e-02, -5.18182702e-02,  8.11672478e-04,\n",
       "          4.42237593e-02, -2.10180599e-02],\n",
       "        [-5.97485267e-02,  2.01557744e-02, -6.92418078e-03,\n",
       "         -1.75571889e-02,  5.46812937e-02]],\n",
       "\n",
       "       [[ 1.80624127e-02,  4.60169539e-02,  3.68755609e-02,\n",
       "         -5.07686324e-02,  5.19431494e-02],\n",
       "        [ 2.24882439e-02, -4.02731635e-02,  5.00744246e-02,\n",
       "         -3.23804729e-02, -5.07777780e-02],\n",
       "        [-9.88596026e-03,  7.66852684e-03, -6.29230738e-02,\n",
       "          1.07632075e-02, -2.51084589e-03],\n",
       "        [ 1.93427205e-02,  3.33654098e-02, -9.02811438e-03,\n",
       "         -4.24138606e-02,  1.98795204e-03],\n",
       "        [ 1.21769914e-02,  1.62954610e-02,  3.05379424e-02,\n",
       "         -4.25658785e-02,  5.50173805e-04]],\n",
       "\n",
       "       [[ 2.41682455e-02, -3.25356573e-02,  3.07927914e-02,\n",
       "         -2.26230305e-02,  2.33592987e-02],\n",
       "        [-2.04737782e-02, -3.91902030e-03, -4.71718423e-02,\n",
       "          4.38511372e-02,  1.32416934e-02],\n",
       "        [ 1.77473463e-02, -2.13217624e-02,  2.92864572e-02,\n",
       "          2.27059238e-03, -4.37918492e-03],\n",
       "        [ 2.44371896e-03, -3.38751115e-02,  2.41655577e-03,\n",
       "         -3.88081707e-02,  3.40857469e-02],\n",
       "        [-4.64485995e-02, -1.01067238e-02, -5.95340580e-02,\n",
       "         -5.01450291e-03, -5.35492450e-02]],\n",
       "\n",
       "       [[-4.07580286e-02,  5.01755998e-02,  1.97992120e-02,\n",
       "          6.78665843e-03, -5.30710034e-02],\n",
       "        [-6.15853854e-02,  4.40506451e-02, -5.52225076e-02,\n",
       "         -2.80631278e-02,  2.30618622e-02],\n",
       "        [-5.68743832e-02, -1.40795000e-02, -5.25559857e-02,\n",
       "          4.49224710e-02,  1.26022222e-02],\n",
       "        [-2.64880769e-02,  5.13826944e-02, -9.92268696e-03,\n",
       "         -5.50515503e-02, -6.11348860e-02],\n",
       "        [-1.62627883e-02,  2.20311265e-02, -4.43117954e-02,\n",
       "         -5.81627805e-03,  2.47788373e-02]],\n",
       "\n",
       "       [[ 3.41381878e-02, -4.56210300e-02,  3.87092121e-02,\n",
       "         -4.84557971e-02,  1.87198799e-02],\n",
       "        [-5.99225573e-02, -1.69318425e-03, -2.55943835e-02,\n",
       "          4.61746082e-02, -3.33694220e-02],\n",
       "        [-2.33219359e-02,  1.07950326e-02,  5.43908775e-03,\n",
       "          1.08312471e-02, -2.89635104e-03],\n",
       "        [-3.54910828e-02, -4.40488532e-02, -1.34825328e-04,\n",
       "          4.46282065e-04, -5.79697676e-02],\n",
       "        [ 3.42871286e-02, -5.16371131e-02, -6.84910687e-03,\n",
       "         -4.34404649e-02, -5.45215718e-02]],\n",
       "\n",
       "       [[-4.68663797e-02,  5.41742742e-02, -2.77054366e-02,\n",
       "          2.80870758e-02, -2.41659135e-02],\n",
       "        [-2.54877880e-02, -3.78787257e-02,  1.98271312e-02,\n",
       "          2.31919270e-02,  8.65387544e-03],\n",
       "        [ 2.25040931e-02,  3.98774445e-02, -6.38185814e-02,\n",
       "          4.05817218e-02, -5.78997694e-02],\n",
       "        [ 4.43653986e-02,  1.92634307e-03, -5.83002809e-03,\n",
       "          2.45775655e-02, -1.68903545e-02],\n",
       "        [-6.37723804e-02,  5.20217717e-02,  4.80863340e-02,\n",
       "          2.77061220e-02, -1.55929355e-02]],\n",
       "\n",
       "       [[-2.98838150e-02, -1.43295224e-03, -5.74960299e-02,\n",
       "          4.67661470e-02,  2.74031032e-02],\n",
       "        [ 4.04768474e-02, -1.87992994e-02,  4.85917032e-02,\n",
       "         -9.37756442e-04, -6.08236939e-02],\n",
       "        [ 8.87584314e-03,  1.91653073e-02,  2.67928354e-02,\n",
       "          5.27459383e-02, -5.83730750e-02],\n",
       "        [ 4.92569022e-02, -3.23669054e-02,  3.70118059e-02,\n",
       "         -3.60194445e-02, -2.57694256e-02],\n",
       "        [-1.28430817e-02,  4.80004363e-02,  1.20595880e-02,\n",
       "          5.25660478e-02, -5.24770953e-02]],\n",
       "\n",
       "       [[-4.89871576e-02, -5.82788177e-02,  2.96136513e-02,\n",
       "          2.82213697e-03, -1.81390177e-02],\n",
       "        [-1.57066360e-02,  3.11797298e-02,  2.88209151e-02,\n",
       "         -2.35145539e-02, -6.48873374e-02],\n",
       "        [ 2.76348032e-02,  1.47836152e-02, -2.05864552e-02,\n",
       "         -4.71334644e-02, -2.54321136e-02],\n",
       "        [-5.46685122e-02, -1.55031430e-02, -6.33390695e-02,\n",
       "          3.52825969e-02, -5.24563082e-02],\n",
       "        [-5.84999844e-02, -1.11783193e-02, -4.93716225e-02,\n",
       "          1.42422132e-02,  1.30509306e-02]],\n",
       "\n",
       "       [[-1.78696550e-02, -5.56507744e-02, -9.38282441e-03,\n",
       "          5.61295263e-02,  5.21290563e-02],\n",
       "        [ 1.95092428e-02, -3.13034505e-02,  1.58967953e-02,\n",
       "         -5.90987280e-02, -7.62686599e-04],\n",
       "        [ 3.16058584e-02,  2.12813653e-02,  4.00949717e-02,\n",
       "          3.21127921e-02, -9.03897639e-03],\n",
       "        [-2.43671853e-02, -3.63079309e-02, -2.31738808e-03,\n",
       "          4.81894566e-03,  2.05078647e-02],\n",
       "        [-1.20903226e-02,  5.97102232e-02,  1.25842709e-02,\n",
       "         -1.98337678e-02, -5.63779064e-02]],\n",
       "\n",
       "       [[-1.11595411e-02,  2.11399030e-02, -2.22588493e-03,\n",
       "          4.33840342e-02,  1.62161402e-02],\n",
       "        [ 4.11335789e-02,  1.94579046e-02,  3.57968062e-02,\n",
       "         -4.77922633e-02, -1.87276099e-02],\n",
       "        [ 3.68903838e-02, -9.83689170e-05,  3.58425938e-02,\n",
       "          3.08014452e-02,  8.68278556e-03],\n",
       "        [-3.92305329e-02,  2.45703124e-02, -4.00999188e-02,\n",
       "          2.82208063e-02, -1.32326651e-02],\n",
       "        [-4.55117561e-02,  9.62010585e-03, -4.87456061e-02,\n",
       "          4.02481370e-02,  4.74860966e-02]],\n",
       "\n",
       "       [[ 5.34429066e-02, -4.88194190e-02, -3.23342942e-02,\n",
       "          6.30673487e-03,  2.59438343e-02],\n",
       "        [-5.76594844e-02, -5.70406169e-02, -4.22425158e-02,\n",
       "         -6.52968958e-02, -3.39099057e-02],\n",
       "        [ 5.59188761e-02, -6.15376122e-02,  3.81231010e-02,\n",
       "          5.44052720e-02,  5.22112586e-02],\n",
       "        [-5.21330163e-02,  3.73804346e-02,  3.74677144e-02,\n",
       "         -3.70660089e-02, -2.96274684e-02],\n",
       "        [ 3.03105228e-02, -6.19499385e-02,  4.07718755e-02,\n",
       "         -3.99128310e-02,  1.12644052e-02]],\n",
       "\n",
       "       [[-1.84240025e-02, -4.14500795e-02,  4.86011170e-02,\n",
       "          1.00664003e-02,  4.47301529e-02],\n",
       "        [-1.74883828e-02, -6.18956331e-03, -9.40256193e-03,\n",
       "          5.05985506e-02, -5.78113087e-02],\n",
       "        [ 2.34124120e-02,  4.63264696e-02, -7.63580017e-03,\n",
       "         -3.80062461e-02, -3.74006853e-02],\n",
       "        [ 3.39448899e-02, -1.53006958e-02,  4.74944301e-02,\n",
       "          1.87095255e-02, -8.53019860e-03],\n",
       "        [ 1.82906464e-02, -5.33898510e-02, -5.96953034e-02,\n",
       "         -2.41380781e-02,  3.79846692e-02]],\n",
       "\n",
       "       [[-5.33042289e-02, -4.38164361e-02,  3.40339653e-02,\n",
       "         -6.08866215e-02, -6.51782006e-02],\n",
       "        [-1.62629865e-03,  8.24289862e-03,  3.39524180e-04,\n",
       "          5.35837077e-02, -6.30987957e-02],\n",
       "        [ 4.08368856e-02, -3.49225402e-02,  2.70096008e-02,\n",
       "         -4.34732251e-03, -4.80018966e-02],\n",
       "        [ 5.41529655e-02, -6.23592362e-02, -2.81813722e-02,\n",
       "          5.23021892e-02,  5.23015857e-02],\n",
       "        [ 2.13502850e-02,  9.81689524e-03,  5.56202009e-02,\n",
       "         -4.84571941e-02,  4.20416780e-02]],\n",
       "\n",
       "       [[-1.08863730e-02, -1.69864651e-02, -3.38642895e-02,\n",
       "          1.08611155e-02, -3.07754870e-03],\n",
       "        [ 2.80005410e-02, -3.84444371e-02, -1.16761876e-02,\n",
       "          9.98749281e-04,  5.06568849e-02],\n",
       "        [-2.08017183e-03, -5.74014001e-02,  4.64415476e-02,\n",
       "          2.25033686e-02, -2.40408052e-02],\n",
       "        [ 5.16746379e-02, -4.30692583e-02,  3.65279950e-02,\n",
       "         -5.05100489e-02, -3.14960559e-03],\n",
       "        [ 4.87169512e-02,  5.89671955e-02,  5.09878509e-02,\n",
       "         -1.88734885e-02, -6.45289496e-02]],\n",
       "\n",
       "       [[ 5.64104281e-02, -1.79500636e-02, -5.00341207e-02,\n",
       "          5.32123609e-04, -1.36628095e-02],\n",
       "        [ 4.98679886e-03, -3.20466086e-02,  3.19574326e-02,\n",
       "         -3.45631689e-02, -2.18895115e-02],\n",
       "        [ 3.58911534e-03,  3.27741019e-02,  5.72478548e-02,\n",
       "         -5.55299334e-02,  3.45811248e-02],\n",
       "        [ 4.06285413e-02, -4.82650287e-02,  5.41541949e-02,\n",
       "         -6.02643117e-02, -5.80194741e-02],\n",
       "        [ 5.15946113e-02,  5.49093112e-02,  4.49861996e-02,\n",
       "         -2.10985374e-02, -1.74113102e-02]],\n",
       "\n",
       "       [[-5.55650331e-02, -9.69004910e-03,  3.61546241e-02,\n",
       "          5.60130440e-02, -4.58354270e-03],\n",
       "        [ 3.94090824e-02,  5.04875369e-02,  1.56297274e-02,\n",
       "         -6.13641478e-02, -5.73749281e-02],\n",
       "        [-1.29309371e-02, -2.63761785e-02,  1.86981522e-02,\n",
       "         -1.18211908e-02,  5.33288009e-02],\n",
       "        [ 4.08461690e-02, -5.58480956e-02, -2.11674552e-02,\n",
       "          1.96087472e-02,  4.58446890e-03],\n",
       "        [-3.40305991e-03, -4.20498699e-02,  4.31039259e-02,\n",
       "         -6.05509728e-02,  1.05967652e-02]]], dtype=float32)"
      ]
     },
     "execution_count": 93,
     "metadata": {},
     "output_type": "execute_result"
    }
   ],
   "source": [
    "model.get_layer(index=1).get_weights()[0][:, :, :, 0].transpose()"
   ]
  },
  {
   "cell_type": "code",
   "execution_count": 222,
   "metadata": {
    "ExecuteTime": {
     "end_time": "2019-05-21T11:18:17.244220Z",
     "start_time": "2019-05-21T11:18:03.531290Z"
    }
   },
   "outputs": [
    {
     "data": {
      "image/png": "[encoded data removed]",
      "text/plain": [
       "<Figure size 720x720 with 256 Axes>"
      ]
     },
     "metadata": {
      "needs_background": "light"
     },
     "output_type": "display_data"
    }
   ],
   "source": [
    "fig,ax = plt.subplots(ncols=16,nrows=16,figsize=(10,10))\n",
    "for i in range(16):\n",
    "    for j in range(16):\n",
    "        ax[i,j].imshow(model.get_layer(index=0).get_weights()[0][:, :, 0, i+j]) "
   ]
  },
  {
   "cell_type": "markdown",
   "metadata": {},
   "source": [
    "Final understanding\n"
   ]
  },
  {
   "cell_type": "code",
   "execution_count": 127,
   "metadata": {
    "ExecuteTime": {
     "end_time": "2019-05-21T08:31:56.862719Z",
     "start_time": "2019-05-21T08:31:56.558175Z"
    }
   },
   "outputs": [
    {
     "data": {
      "text/plain": [
       "((5, 5, 1, 32), (5, 5, 32, 32))"
      ]
     },
     "execution_count": 127,
     "metadata": {},
     "output_type": "execute_result"
    }
   ],
   "source": [
    "(model.get_layer(index=0).get_weights()[0].shape,\n",
    "model.get_layer(index=1).get_weights()[0].shape)"
   ]
  },
  {
   "cell_type": "markdown",
   "metadata": {
    "ExecuteTime": {
     "end_time": "2019-05-21T11:17:57.692490Z",
     "start_time": "2019-05-21T11:17:56.172869Z"
    }
   },
   "source": [
    "<strong> tensorflow convention = height , width , ninput channel , noutput channel"
   ]
  },
  {
   "cell_type": "code",
   "execution_count": 124,
   "metadata": {
    "ExecuteTime": {
     "end_time": "2019-05-21T08:23:04.154512Z",
     "start_time": "2019-05-21T08:23:03.862521Z"
    }
   },
   "outputs": [
    {
     "data": {
      "text/plain": [
       "array([[-0.01687712, -0.041183  , -0.00167459, -0.06111418,  0.01604328],\n",
       "       [-0.03836048, -0.03575343,  0.00351429,  0.02825194, -0.08515962],\n",
       "       [-0.07659471,  0.04033729, -0.01756394,  0.01144909, -0.07076894],\n",
       "       [-0.01893819,  0.0256648 , -0.01191355, -0.01340903, -0.03798378],\n",
       "       [-0.04991491,  0.06408483, -0.04719064, -0.03347693, -0.01751619]],\n",
       "      dtype=float32)"
      ]
     },
     "execution_count": 124,
     "metadata": {},
     "output_type": "execute_result"
    }
   ],
   "source": [
    "model.get_layer(index=1).get_weights()[0][:,:,0,0]"
   ]
  },
  {
   "cell_type": "code",
   "execution_count": 214,
   "metadata": {
    "ExecuteTime": {
     "end_time": "2019-05-21T10:09:38.345103Z",
     "start_time": "2019-05-21T10:09:37.992478Z"
    }
   },
   "outputs": [
    {
     "data": {
      "text/plain": [
       "<matplotlib.image.AxesImage at 0x2e6038eca58>"
      ]
     },
     "execution_count": 214,
     "metadata": {},
     "output_type": "execute_result"
    },
    {
     "data": {
      "image/png": "[encoded data removed]",
      "text/plain": [
       "<Figure size 432x288 with 1 Axes>"
      ]
     },
     "metadata": {
      "needs_background": "light"
     },
     "output_type": "display_data"
    }
   ],
   "source": [
    "fix,ax = plt.subplots()\n",
    "ax.imshow(np.array(x_train.iloc[2,:]).reshape(28,28))"
   ]
  },
  {
   "cell_type": "code",
   "execution_count": 223,
   "metadata": {
    "ExecuteTime": {
     "end_time": "2019-05-21T11:19:09.139894Z",
     "start_time": "2019-05-21T11:19:08.563861Z"
    }
   },
   "outputs": [
    {
     "data": {
      "text/plain": [
       "<matplotlib.image.AxesImage at 0x2e6028e3b38>"
      ]
     },
     "execution_count": 223,
     "metadata": {},
     "output_type": "execute_result"
    },
    {
     "data": {
      "image/png": "[encoded data removed]",
      "text/plain": [
       "<Figure size 432x288 with 1 Axes>"
      ]
     },
     "metadata": {
      "needs_background": "light"
     },
     "output_type": "display_data"
    }
   ],
   "source": [
    "#Before training the model\n",
    "fix,ax = plt.subplots()\n",
    "ax.imshow(model.get_layer(index=11).get_weights()[0].transpose()[5].reshape((16,16)))\n"
   ]
  },
  {
   "cell_type": "code",
   "execution_count": 227,
   "metadata": {
    "ExecuteTime": {
     "end_time": "2019-05-21T11:19:27.925550Z",
     "start_time": "2019-05-21T11:19:27.548543Z"
    }
   },
   "outputs": [
    {
     "data": {
      "text/plain": [
       "<matplotlib.image.AxesImage at 0x2e609aff668>"
      ]
     },
     "execution_count": 227,
     "metadata": {},
     "output_type": "execute_result"
    },
    {
     "data": {
      "image/png": "[encoded data removed]",
      "text/plain": [
       "<Figure size 432x288 with 1 Axes>"
      ]
     },
     "metadata": {
      "needs_background": "light"
     },
     "output_type": "display_data"
    }
   ],
   "source": [
    "#After training the model\n",
    "fix,ax = plt.subplots()\n",
    "ax.imshow(model.get_layer(index=11).get_weights()[0][:,2].reshape(16,16))"
   ]
  },
  {
   "cell_type": "code",
   "execution_count": 231,
   "metadata": {
    "ExecuteTime": {
     "end_time": "2019-05-21T11:20:24.043358Z",
     "start_time": "2019-05-21T11:20:23.739797Z"
    },
    "collapsed": true
   },
   "outputs": [
    {
     "data": {
      "text/plain": [
       "array([[ 0.04558267,  0.0373159 , -0.00411224,  0.02444291, -0.03358156,\n",
       "         0.03963529, -0.03665774, -0.0209851 ,  0.02599514,  0.00126554,\n",
       "         0.04529781, -0.02590906, -0.03004028,  0.01931624,  0.01428853,\n",
       "         0.01951426],\n",
       "       [-0.00956575,  0.0071224 , -0.00490674,  0.02644381,  0.03177392,\n",
       "         0.03772904,  0.01369275,  0.01168915, -0.04161544, -0.0237053 ,\n",
       "         0.0128195 , -0.04697114, -0.01752581,  0.01531886,  0.06982271,\n",
       "         0.03545581],\n",
       "       [ 0.05114127, -0.02736197, -0.00539203,  0.02760661,  0.0001069 ,\n",
       "         0.03953057, -0.02664075,  0.00997571, -0.04077222,  0.00765112,\n",
       "         0.033295  ,  0.04258475,  0.00434836, -0.01897405, -0.01419902,\n",
       "         0.02465115],\n",
       "       [ 0.05013106,  0.05646442,  0.03232662, -0.01930676, -0.04940951,\n",
       "        -0.01529652,  0.02501626,  0.00707693,  0.04153833, -0.01479641,\n",
       "         0.01892339, -0.02211181, -0.0501653 , -0.0172857 , -0.0323735 ,\n",
       "        -0.00531909],\n",
       "       [-0.03776271,  0.03208892, -0.03572089, -0.01328916, -0.00407587,\n",
       "         0.02313968,  0.02531896, -0.00249547,  0.04364081, -0.00692264,\n",
       "        -0.01965371, -0.05384187, -0.01667126,  0.01468697,  0.03552816,\n",
       "        -0.01505907],\n",
       "       [ 0.04289956, -0.02504981,  0.02844207, -0.0304038 ,  0.04240152,\n",
       "         0.03220106, -0.01046298,  0.02061655, -0.04551293,  0.01415455,\n",
       "        -0.02182527,  0.01024782,  0.02806036, -0.02321131,  0.0026137 ,\n",
       "         0.02379582],\n",
       "       [-0.02913504,  0.00726845,  0.05544793,  0.0002254 , -0.00912776,\n",
       "        -0.02581047, -0.02445633, -0.02688137, -0.02625407, -0.04710122,\n",
       "         0.03043181,  0.0361695 ,  0.0251233 , -0.00227991, -0.016102  ,\n",
       "         0.00281942],\n",
       "       [-0.02118731, -0.01739993, -0.03504055, -0.02640493,  0.0376424 ,\n",
       "         0.03241368, -0.01484816,  0.02863865, -0.03798316, -0.02954481,\n",
       "         0.01134715,  0.00752334,  0.04016255, -0.01755911,  0.00542622,\n",
       "         0.03301949],\n",
       "       [-0.02747156,  0.03397673,  0.02376091, -0.01897833,  0.01198569,\n",
       "        -0.02046855,  0.05021945,  0.0100657 , -0.02179437, -0.03639818,\n",
       "         0.02446367,  0.01841317, -0.0243174 , -0.04709528,  0.04327652,\n",
       "         0.0031446 ],\n",
       "       [-0.00528257, -0.03458187, -0.0120674 , -0.03451833, -0.05254975,\n",
       "         0.01436628,  0.01848538,  0.00710381, -0.01151954, -0.00309488,\n",
       "        -0.02510691, -0.04289857, -0.01514087, -0.01577783,  0.0061729 ,\n",
       "        -0.02410097],\n",
       "       [-0.03709984,  0.02132641, -0.00500631, -0.0353763 ,  0.00785736,\n",
       "        -0.03393154,  0.03903615, -0.03126246,  0.03320077, -0.00534095,\n",
       "         0.05637921, -0.01520577, -0.0597795 , -0.05248951,  0.06789865,\n",
       "         0.00893155],\n",
       "       [-0.02842426,  0.00590427, -0.01004668,  0.02916361, -0.02160364,\n",
       "         0.01076454, -0.00074071,  0.00037034,  0.04791723, -0.0386475 ,\n",
       "        -0.00375674, -0.06400199, -0.04804485,  0.02194335, -0.00049894,\n",
       "         0.04234125],\n",
       "       [ 0.01075148, -0.05692358,  0.00236178,  0.01329876, -0.06212728,\n",
       "        -0.01769269,  0.04879937,  0.01777541, -0.01365049, -0.00378632,\n",
       "        -0.02567996, -0.00358917,  0.00262464, -0.02477118, -0.01254069,\n",
       "         0.02027583],\n",
       "       [-0.03401021, -0.02084344, -0.03519808, -0.03362693, -0.06439935,\n",
       "         0.02730866,  0.0135973 , -0.05187481,  0.03378128,  0.04119797,\n",
       "        -0.03193992, -0.0391184 , -0.03087376, -0.03118824,  0.01782254,\n",
       "        -0.0529203 ],\n",
       "       [ 0.00741153,  0.00839314, -0.01479615, -0.01224098,  0.03513129,\n",
       "        -0.01006845, -0.03936727, -0.01561076, -0.05143968,  0.01906706,\n",
       "        -0.0317463 ,  0.02364328,  0.02643667,  0.01967662, -0.01783701,\n",
       "        -0.0297426 ],\n",
       "       [-0.01628634,  0.00291539, -0.01208294, -0.04396654, -0.00447862,\n",
       "         0.02659369, -0.00375344, -0.03214723,  0.01677078, -0.03645954,\n",
       "        -0.02493343, -0.00906183, -0.02164344,  0.00322404,  0.01042518,\n",
       "        -0.04606447]], dtype=float32)"
      ]
     },
     "execution_count": 231,
     "metadata": {},
     "output_type": "execute_result"
    }
   ],
   "source": [
    "model.get_layer(index=9).get_weights()[0][0,:].reshape(16,16)"
   ]
  },
  {
   "cell_type": "code",
   "execution_count": 235,
   "metadata": {
    "ExecuteTime": {
     "end_time": "2019-05-21T11:20:47.415798Z",
     "start_time": "2019-05-21T11:20:47.043175Z"
    }
   },
   "outputs": [
    {
     "data": {
      "text/plain": [
       "<matplotlib.image.AxesImage at 0x2e607b609b0>"
      ]
     },
     "execution_count": 235,
     "metadata": {},
     "output_type": "execute_result"
    },
    {
     "data": {
      "image/png": "[encoded data removed]",
      "text/plain": [
       "<Figure size 432x288 with 1 Axes>"
      ]
     },
     "metadata": {
      "needs_background": "light"
     },
     "output_type": "display_data"
    }
   ],
   "source": [
    "#After training the model\n",
    "fix,ax = plt.subplots()\n",
    "ax.imshow(model.get_layer(index=9).get_weights()[0][255,:].reshape(16,16))"
   ]
  },
  {
   "cell_type": "markdown",
   "metadata": {},
   "source": [
    "## Inspect the output of the first layer"
   ]
  },
  {
   "cell_type": "code",
   "execution_count": 190,
   "metadata": {
    "ExecuteTime": {
     "end_time": "2019-05-21T09:54:52.681609Z",
     "start_time": "2019-05-21T09:54:52.415982Z"
    }
   },
   "outputs": [
    {
     "data": {
      "text/plain": [
       "256"
      ]
     },
     "execution_count": 190,
     "metadata": {},
     "output_type": "execute_result"
    }
   ],
   "source": [
    "16*16"
   ]
  },
  {
   "cell_type": "code",
   "execution_count": 236,
   "metadata": {
    "ExecuteTime": {
     "end_time": "2019-05-21T11:21:47.994271Z",
     "start_time": "2019-05-21T11:21:35.379470Z"
    }
   },
   "outputs": [
    {
     "name": "stdout",
     "output_type": "stream",
     "text": [
      "10500/10500 [==============================] - ETA: 1: - ETA: 33s - ETA: 24 - ETA: 20 - ETA: 18 - ETA: 17 - ETA: 16 - ETA: 15 - ETA: 15 - ETA: 14 - ETA: 14 - ETA: 14 - ETA: 13 - ETA: 13 - ETA: 13 - ETA: 13 - ETA: 12 - ETA: 12 - ETA: 12 - ETA: 12 - ETA: 12 - ETA: 11 - ETA: 11 - ETA: 11 - ETA: 11 - ETA: 11 - ETA: 11 - ETA: 11 - ETA: 10 - ETA: 10 - ETA: 10 - ETA: 10 - ETA: 10 - ETA: 10 - ETA: 10 - ETA: 10 - ETA: 10 - ETA: 9 - ETA:  - ETA:  - ETA:  - ETA:  - ETA:  - ETA:  - ETA:  - ETA:  - ETA:  - ETA:  - ETA:  - ETA:  - ETA:  - ETA:  - ETA:  - ETA:  - ETA:  - ETA:  - ETA:  - ETA:  - ETA:  - ETA:  - ETA:  - ETA:  - ETA:  - ETA:  - ETA:  - ETA:  - ETA:  - ETA:  - ETA:  - ETA:  - ETA:  - ETA:  - ETA:  - ETA:  - ETA:  - ETA:  - ETA:  - ETA:  - ETA:  - ETA:  - ETA:  - ETA:  - ETA:  - ETA:  - ETA:  - ETA:  - ETA:  - ETA:  - ETA:  - ETA:  - ETA:  - ETA:  - ETA:  - ETA:  - ETA:  - ETA:  - ETA:  - ETA:  - ETA:  - ETA:  - ETA:  - ETA:  - ETA:  - ETA:  - ETA:  - ETA:  - ETA:  - ETA:  - ETA:  - ETA:  - ETA:  - ETA:  - ETA:  - ETA:  - ETA:  - ETA:  - ETA:  - ETA:  - ETA:  - ETA:  - ETA:  - ETA:  - ETA:  - ETA:  - ETA:  - ETA:  - ETA:  - ETA:  - ETA:  - ETA:  - ETA:  - ETA:  - ETA:  - ETA:  - ETA:  - ETA:  - ETA:  - ETA:  - ETA:  - ETA:  - ETA:  - ETA:  - ETA:  - ETA:  - ETA:  - ETA:  - ETA:  - ETA:  - ETA:  - ETA:  - ETA:  - ETA:  - ETA:  - ETA:  - ETA:  - ETA:  - ETA:  - ETA:  - ETA:  - ETA:  - ETA:  - ETA:  - ETA:  - ETA:  - ETA:  - ETA:  - ETA:  - ETA:  - ETA:  - ETA:  - 12s 1ms/step\n"
     ]
    }
   ],
   "source": [
    "v_test2 = model.predict(np.array(x_test).reshape(-1,28,28,1),verbose=1)\n",
    "a2 = np.zeros(len(v_test2))\n",
    "for i in range(len(v_test2)):\n",
    "    a2[i] = (np.flatnonzero(v_test2[i] == max(v_test2[i])))"
   ]
  },
  {
   "cell_type": "code",
   "execution_count": 237,
   "metadata": {
    "ExecuteTime": {
     "end_time": "2019-05-21T11:21:48.665890Z",
     "start_time": "2019-05-21T11:21:47.995269Z"
    }
   },
   "outputs": [
    {
     "name": "stdout",
     "output_type": "stream",
     "text": [
      "accuracy score = 0.9855238095238095 \n"
     ]
    },
    {
     "data": {
      "image/png": "[encoded data removed]",
      "text/plain": [
       "<Figure size 432x288 with 2 Axes>"
      ]
     },
     "metadata": {
      "needs_background": "light"
     },
     "output_type": "display_data"
    }
   ],
   "source": [
    "plot_confusion_matrix(y_test, a2 , np.arange(10))"
   ]
  },
  {
   "cell_type": "code",
   "execution_count": 238,
   "metadata": {
    "ExecuteTime": {
     "end_time": "2019-05-21T11:23:33.151992Z",
     "start_time": "2019-05-21T11:22:54.129833Z"
    }
   },
   "outputs": [
    {
     "name": "stdout",
     "output_type": "stream",
     "text": [
      "28000/28000 [==============================] - ETA: 34 - ETA: 34 - ETA: 33 - ETA: 32 - ETA: 32 - ETA: 31 - ETA: 31 - ETA: 31 - ETA: 31 - ETA: 30 - ETA: 30 - ETA: 30 - ETA: 30 - ETA: 30 - ETA: 30 - ETA: 30 - ETA: 30 - ETA: 30 - ETA: 30 - ETA: 30 - ETA: 30 - ETA: 30 - ETA: 30 - ETA: 30 - ETA: 30 - ETA: 30 - ETA: 29 - ETA: 29 - ETA: 29 - ETA: 29 - ETA: 29 - ETA: 29 - ETA: 29 - ETA: 29 - ETA: 29 - ETA: 29 - ETA: 29 - ETA: 29 - ETA: 28 - ETA: 28 - ETA: 28 - ETA: 28 - ETA: 28 - ETA: 28 - ETA: 28 - ETA: 28 - ETA: 28 - ETA: 28 - ETA: 28 - ETA: 28 - ETA: 28 - ETA: 28 - ETA: 27 - ETA: 27 - ETA: 27 - ETA: 27 - ETA: 27 - ETA: 27 - ETA: 27 - ETA: 27 - ETA: 27 - ETA: 27 - ETA: 27 - ETA: 27 - ETA: 27 - ETA: 27 - ETA: 27 - ETA: 26 - ETA: 27 - ETA: 26 - ETA: 26 - ETA: 26 - ETA: 26 - ETA: 26 - ETA: 26 - ETA: 26 - ETA: 26 - ETA: 26 - ETA: 26 - ETA: 26 - ETA: 26 - ETA: 26 - ETA: 25 - ETA: 25 - ETA: 25 - ETA: 25 - ETA: 25 - ETA: 25 - ETA: 25 - ETA: 25 - ETA: 25 - ETA: 25 - ETA: 25 - ETA: 25 - ETA: 25 - ETA: 24 - ETA: 24 - ETA: 24 - ETA: 24 - ETA: 24 - ETA: 24 - ETA: 24 - ETA: 24 - ETA: 24 - ETA: 24 - ETA: 24 - ETA: 24 - ETA: 24 - ETA: 24 - ETA: 23 - ETA: 23 - ETA: 23 - ETA: 23 - ETA: 23 - ETA: 23 - ETA: 23 - ETA: 23 - ETA: 23 - ETA: 23 - ETA: 23 - ETA: 23 - ETA: 23 - ETA: 23 - ETA: 23 - ETA: 22 - ETA: 22 - ETA: 22 - ETA: 22 - ETA: 22 - ETA: 22 - ETA: 22 - ETA: 22 - ETA: 22 - ETA: 22 - ETA: 22 - ETA: 22 - ETA: 22 - ETA: 22 - ETA: 22 - ETA: 21 - ETA: 21 - ETA: 21 - ETA: 21 - ETA: 21 - ETA: 21 - ETA: 21 - ETA: 21 - ETA: 21 - ETA: 21 - ETA: 21 - ETA: 21 - ETA: 21 - ETA: 21 - ETA: 20 - ETA: 20 - ETA: 20 - ETA: 20 - ETA: 20 - ETA: 20 - ETA: 20 - ETA: 20 - ETA: 20 - ETA: 20 - ETA: 20 - ETA: 20 - ETA: 20 - ETA: 20 - ETA: 20 - ETA: 20 - ETA: 19 - ETA: 19 - ETA: 19 - ETA: 19 - ETA: 19 - ETA: 19 - ETA: 19 - ETA: 19 - ETA: 19 - ETA: 19 - ETA: 19 - ETA: 19 - ETA: 19 - ETA: 19 - ETA: 19 - ETA: 18 - ETA: 18 - ETA: 18 - ETA: 18 - ETA: 18 - ETA: 18 - ETA: 18 - ETA: 18 - ETA: 18 - ETA: 18 - ETA: 18 - ETA: 18 - ETA: 18 - ETA: 18 - ETA: 18 - ETA: 17 - ETA: 17 - ETA: 17 - ETA: 17 - ETA: 17 - ETA: 17 - ETA: 17 - ETA: 17 - ETA: 17 - ETA: 17 - ETA: 17 - ETA: 17 - ETA: 17 - ETA: 17 - ETA: 16 - ETA: 16 - ETA: 16 - ETA: 16 - ETA: 16 - ETA: 16 - ETA: 16 - ETA: 16 - ETA: 16 - ETA: 16 - ETA: 16 - ETA: 16 - ETA: 16 - ETA: 16 - ETA: 16 - ETA: 15 - ETA: 15 - ETA: 15 - ETA: 15 - ETA: 15 - ETA: 15 - ETA: 15 - ETA: 15 - ETA: 15 - ETA: 15 - ETA: 15 - ETA: 15 - ETA: 15 - ETA: 15 - ETA: 14 - ETA: 14 - ETA: 14 - ETA: 14 - ETA: 14 - ETA: 14 - ETA: 14 - ETA: 14 - ETA: 14 - ETA: 14 - ETA: 14 - ETA: 14 - ETA: 14 - ETA: 14 - ETA: 14 - ETA: 14 - ETA: 14 - ETA: 14 - ETA: 14 - ETA: 14 - ETA: 14 - ETA: 13 - ETA: 13 - ETA: 13 - ETA: 13 - ETA: 13 - ETA: 13 - ETA: 13 - ETA: 13 - ETA: 13 - ETA: 13 - ETA: 13 - ETA: 13 - ETA: 13 - ETA: 13 - ETA: 13 - ETA: 13 - ETA: 13 - ETA: 13 - ETA: 13 - ETA: 12 - ETA: 12 - ETA: 12 - ETA: 12 - ETA: 12 - ETA: 12 - ETA: 12 - ETA: 12 - ETA: 12 - ETA: 12 - ETA: 12 - ETA: 12 - ETA: 12 - ETA: 12 - ETA: 12 - ETA: 12 - ETA: 12 - ETA: 12 - ETA: 11 - ETA: 11 - ETA: 11 - ETA: 11 - ETA: 11 - ETA: 11 - ETA: 11 - ETA: 11 - ETA: 11 - ETA: 11 - ETA: 11 - ETA: 11 - ETA: 11 - ETA: 11 - ETA: 11 - ETA: 11 - ETA: 11 - ETA: 11 - ETA: 10 - ETA: 10 - ETA: 10 - ETA: 10 - ETA: 10 - ETA: 10 - ETA: 10 - ETA: 10 - ETA: 10 - ETA: 10 - ETA: 10 - ETA: 10 - ETA: 10 - ETA: 10 - ETA: 10 - ETA: 9 - ETA:  - ETA:  - ETA:  - ETA:  - ETA:  - ETA:  - ETA:  - ETA:  - ETA:  - ETA:  - ETA:  - ETA:  - ETA:  - ETA:  - ETA:  - ETA:  - ETA:  - ETA:  - ETA:  - ETA:  - ETA:  - ETA:  - ETA:  - ETA:  - ETA:  - ETA:  - ETA:  - ETA:  - ETA:  - ETA:  - ETA:  - ETA:  - ETA:  - ETA:  - ETA:  - ETA:  - ETA:  - ETA:  - ETA:  - ETA:  - ETA:  - ETA:  - ETA:  - ETA:  - ETA:  - ETA:  - ETA:  - ETA:  - ETA:  - ETA:  - ETA:  - ETA:  - ETA:  - ETA:  - ETA:  - ETA:  - ETA:  - ETA:  - ETA:  - ETA:  - ETA:  - ETA:  - ETA:  - ETA:  - ETA:  - ETA:  - ETA:  - ETA:  - ETA:  - ETA:  - ETA:  - ETA:  - ETA:  - ETA:  - ETA:  - ETA:  - ETA:  - ETA:  - ETA:  - ETA:  - ETA:  - ETA:  - ETA:  - ETA:  - ETA:  - ETA:  - ETA:  - ETA:  - ETA:  - ETA:  - ETA:  - ETA:  - ETA:  - ETA:  - ETA:  - ETA:  - ETA:  - ETA:  - ETA:  - ETA:  - ETA:  - ETA:  - ETA:  - ETA:  - ETA:  - ETA:  - ETA:  - ETA:  - ETA:  - ETA:  - ETA:  - ETA:  - ETA:  - ETA:  - ETA:  - ETA:  - ETA:  - ETA:  - ETA:  - ETA:  - ETA:  - ETA:  - ETA:  - ETA:  - ETA:  - ETA:  - ETA:  - ETA:  - ETA:  - ETA:  - ETA:  - ETA:  - ETA:  - ETA:  - ETA:  - ETA:  - ETA:  - ETA:  - ETA:  - ETA:  - ETA:  - ETA:  - ETA:  - ETA:  - ETA:  - ETA:  - ETA:  - ETA:  - ETA:  - ETA:  - ETA:  - ETA:  - ETA:  - ETA:  - ETA:  - ETA:  - ETA:  - ETA:  - ETA:  - ETA:  - ETA:  - ETA:  - ETA:  - ETA:  - ETA:  - ETA:  - ETA:  - ETA:  - ETA:  - ETA:  - ETA:  - ETA:  - ETA:  - ETA:  - ETA:  - ETA:  - ETA:  - ETA:  - ETA:  - ETA:  - ETA:  - ETA:  - ETA:  - ETA:  - ETA:  - ETA:  - ETA:  - ETA:  - ETA:  - ETA:  - ETA:  - ETA:  - ETA:  - ETA:  - ETA:  - ETA:  - ETA:  - ETA:  - ETA:  - ETA:  - ETA:  - ETA:  - ETA:  - ETA:  - ETA:  - 38s 1ms/step\n"
     ]
    }
   ],
   "source": [
    "v_test2 = model.predict(np.array(df_test/255).reshape(-1,28,28,1),verbose=1)\n",
    "a2 = np.zeros(len(v_test2))\n",
    "for i in range(len(v_test2)):\n",
    "    a2[i] = (np.flatnonzero(v_test2[i] == max(v_test2[i])))"
   ]
  },
  {
   "cell_type": "code",
   "execution_count": 246,
   "metadata": {
    "ExecuteTime": {
     "end_time": "2019-05-21T11:26:57.895885Z",
     "start_time": "2019-05-21T11:26:57.528919Z"
    }
   },
   "outputs": [
    {
     "data": {
      "text/plain": [
       "<matplotlib.image.AxesImage at 0x2e603165908>"
      ]
     },
     "execution_count": 246,
     "metadata": {},
     "output_type": "execute_result"
    },
    {
     "data": {
      "image/png": "[encoded data removed]",
      "text/plain": [
       "<Figure size 432x288 with 1 Axes>"
      ]
     },
     "metadata": {
      "needs_background": "light"
     },
     "output_type": "display_data"
    }
   ],
   "source": [
    "fig , ax = plt.subplots()\n",
    "ax.imshow(np.array(df_test.iloc[0,:]).reshape(28,28))"
   ]
  },
  {
   "cell_type": "code",
   "execution_count": 248,
   "metadata": {
    "ExecuteTime": {
     "end_time": "2019-05-21T11:27:53.446967Z",
     "start_time": "2019-05-21T11:27:53.140981Z"
    }
   },
   "outputs": [],
   "source": [
    "df_sub = pd.DataFrame({\"ImageId\":np.arange(1,df_test.shape[0]+1),\n",
    "             \"label\":a2})"
   ]
  },
  {
   "cell_type": "code",
   "execution_count": 250,
   "metadata": {
    "ExecuteTime": {
     "end_time": "2019-05-21T11:28:22.501564Z",
     "start_time": "2019-05-21T11:28:22.212328Z"
    }
   },
   "outputs": [
    {
     "data": {
      "text/html": [
       "<div>\n",
       "<style scoped>\n",
       "    .dataframe tbody tr th:only-of-type {\n",
       "        vertical-align: middle;\n",
       "    }\n",
       "\n",
       "    .dataframe tbody tr th {\n",
       "        vertical-align: top;\n",
       "    }\n",
       "\n",
       "    .dataframe thead th {\n",
       "        text-align: right;\n",
       "    }\n",
       "</style>\n",
       "<table border=\"1\" class=\"dataframe\">\n",
       "  <thead>\n",
       "    <tr style=\"text-align: right;\">\n",
       "      <th></th>\n",
       "      <th>ImageId</th>\n",
       "      <th>label</th>\n",
       "    </tr>\n",
       "  </thead>\n",
       "  <tbody>\n",
       "    <tr>\n",
       "      <th>0</th>\n",
       "      <td>1</td>\n",
       "      <td>2.0</td>\n",
       "    </tr>\n",
       "  </tbody>\n",
       "</table>\n",
       "</div>"
      ],
      "text/plain": [
       "   ImageId  label\n",
       "0        1    2.0"
      ]
     },
     "execution_count": 250,
     "metadata": {},
     "output_type": "execute_result"
    }
   ],
   "source": [
    "df_sub.head(1)"
   ]
  },
  {
   "cell_type": "code",
   "execution_count": 251,
   "metadata": {
    "ExecuteTime": {
     "end_time": "2019-05-21T11:28:26.387683Z",
     "start_time": "2019-05-21T11:28:26.090200Z"
    }
   },
   "outputs": [],
   "source": [
    "df_sub.label = df_sub.label.astype(\"int\")"
   ]
  },
  {
   "cell_type": "code",
   "execution_count": 252,
   "metadata": {
    "ExecuteTime": {
     "end_time": "2019-05-21T11:28:30.404801Z",
     "start_time": "2019-05-21T11:28:30.129166Z"
    }
   },
   "outputs": [
    {
     "data": {
      "text/html": [
       "<div>\n",
       "<style scoped>\n",
       "    .dataframe tbody tr th:only-of-type {\n",
       "        vertical-align: middle;\n",
       "    }\n",
       "\n",
       "    .dataframe tbody tr th {\n",
       "        vertical-align: top;\n",
       "    }\n",
       "\n",
       "    .dataframe thead th {\n",
       "        text-align: right;\n",
       "    }\n",
       "</style>\n",
       "<table border=\"1\" class=\"dataframe\">\n",
       "  <thead>\n",
       "    <tr style=\"text-align: right;\">\n",
       "      <th></th>\n",
       "      <th>ImageId</th>\n",
       "      <th>label</th>\n",
       "    </tr>\n",
       "  </thead>\n",
       "  <tbody>\n",
       "    <tr>\n",
       "      <th>0</th>\n",
       "      <td>1</td>\n",
       "      <td>2</td>\n",
       "    </tr>\n",
       "  </tbody>\n",
       "</table>\n",
       "</div>"
      ],
      "text/plain": [
       "   ImageId  label\n",
       "0        1      2"
      ]
     },
     "execution_count": 252,
     "metadata": {},
     "output_type": "execute_result"
    }
   ],
   "source": [
    "df_sub.head(1)"
   ]
  },
  {
   "cell_type": "code",
   "execution_count": 253,
   "metadata": {
    "ExecuteTime": {
     "end_time": "2019-05-21T11:28:43.307636Z",
     "start_time": "2019-05-21T11:28:42.946431Z"
    }
   },
   "outputs": [],
   "source": [
    "df_sub.to_csv(\"submission_cnn_simple.csv\",index=False,sep=\",\")"
   ]
  },
  {
   "cell_type": "markdown",
   "metadata": {},
   "source": [
    "# Optimize model"
   ]
  },
  {
   "cell_type": "markdown",
   "metadata": {},
   "source": [
    "## Better weight initialisation"
   ]
  },
  {
   "cell_type": "markdown",
   "metadata": {},
   "source": [
    "## adding distorted data"
   ]
  },
  {
   "cell_type": "markdown",
   "metadata": {},
   "source": [
    "## Changing the optimizer"
   ]
  },
  {
   "cell_type": "markdown",
   "metadata": {},
   "source": [
    "##  adam learning rate"
   ]
  },
  {
   "cell_type": "code",
   "execution_count": null,
   "metadata": {},
   "outputs": [],
   "source": []
  },
  {
   "cell_type": "code",
   "execution_count": null,
   "metadata": {},
   "outputs": [],
   "source": []
  },
  {
   "cell_type": "code",
   "execution_count": null,
   "metadata": {},
   "outputs": [],
   "source": []
  }
 ],
 "metadata": {
  "kernelspec": {
   "display_name": "Python 3",
   "language": "python",
   "name": "python3"
  },
  "language_info": {
   "codemirror_mode": {
    "name": "ipython",
    "version": 3
   },
   "file_extension": ".py",
   "mimetype": "text/x-python",
   "name": "python",
   "nbconvert_exporter": "python",
   "pygments_lexer": "ipython3",
   "version": "3.7.0"
  },
  "toc": {
   "base_numbering": 1,
   "nav_menu": {},
   "number_sections": true,
   "sideBar": true,
   "skip_h1_title": false,
   "title_cell": "Table of Contents",
   "title_sidebar": "Contents",
   "toc_cell": false,
   "toc_position": {
    "height": "calc(100% - 180px)",
    "left": "10px",
    "top": "150px",
    "width": "384px"
   },
   "toc_section_display": true,
   "toc_window_display": true
  }
 },
 "nbformat": 4,
 "nbformat_minor": 2
}
