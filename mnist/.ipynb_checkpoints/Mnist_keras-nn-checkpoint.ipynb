{
 "cells": [
  {
   "cell_type": "code",
   "execution_count": 1,
   "metadata": {
    "ExecuteTime": {
     "end_time": "2019-05-22T11:34:24.245592Z",
     "start_time": "2019-05-22T11:34:17.517093Z"
    }
   },
   "outputs": [
    {
     "name": "stderr",
     "output_type": "stream",
     "text": [
      "Using TensorFlow backend.\n"
     ]
    }
   ],
   "source": [
    "# Data exploration snippet\n",
    "import pandas as pd\n",
    "import numpy as np\n",
    "from tqdm import tqdm_notebook as tqdm\n",
    "import matplotlib.pyplot as plt\n",
    "from sklearn.metrics import confusion_matrix,accuracy_score\n",
    "from sklearn.model_selection import train_test_split\n",
    "\n",
    "from keras.utils import to_categorical\n",
    "from keras.utils.vis_utils import plot_model\n",
    "from keras.layers import Input, Dense, Activation, ZeroPadding2D, BatchNormalization, Flatten, Conv2D\n",
    "from keras.layers import AveragePooling2D, MaxPooling2D, Dropout, GlobalMaxPooling2D, GlobalAveragePooling2D,MaxPool2D\n",
    "from keras.models import Model ,Sequential\n",
    "from keras.preprocessing import image\n",
    "from keras.optimizers import RMSprop\n",
    "import seaborn as sns\n",
    "import scipy\n",
    "import itertools\n",
    "\n",
    "%matplotlib inline\n",
    "%load_ext autoreload\n",
    "%autoreload 2\n",
    "\n",
    "pd.options.display.max_columns = 999\n",
    "pd.options.display.max_rows = 999"
   ]
  },
  {
   "cell_type": "code",
   "execution_count": 2,
   "metadata": {
    "ExecuteTime": {
     "end_time": "2019-05-22T11:34:24.674955Z",
     "start_time": "2019-05-22T11:34:24.250578Z"
    }
   },
   "outputs": [],
   "source": [
    "def plot_confusion_matrix(y_true,y_pred, classes,\n",
    "                          normalize=False,\n",
    "                          title='Confusion matrix',\n",
    "                          cmap=plt.cm.Blues):\n",
    "    \"\"\"\n",
    "    This function prints and plots the confusion matrix.\n",
    "    Normalization can be applied by setting `normalize=True`.\n",
    "    \"\"\"\n",
    "    cm = confusion_matrix(y_true,y_pred)\n",
    "    plt.imshow(cm, interpolation='nearest', cmap=cmap)\n",
    "    plt.title(title)\n",
    "    plt.colorbar()\n",
    "    tick_marks = np.arange(len(classes))\n",
    "    plt.xticks(tick_marks, classes, rotation=45)\n",
    "    plt.yticks(tick_marks, classes)\n",
    "\n",
    "    if normalize:\n",
    "        cm = cm.astype('float') / cm.sum(axis=1)[:, np.newaxis]\n",
    "\n",
    "    thresh = cm.max() / 2.\n",
    "    for i, j in itertools.product(range(cm.shape[0]), range(cm.shape[1])):\n",
    "        plt.text(j, i, cm[i, j],\n",
    "                 horizontalalignment=\"center\",\n",
    "                 color=\"white\" if cm[i, j] > thresh else \"black\")\n",
    "\n",
    "    plt.tight_layout()\n",
    "    plt.ylabel('True label')\n",
    "    plt.xlabel('Predicted label')\n",
    "    print(\"accuracy score = {} \".format(accuracy_score(y_true,y_pred)))"
   ]
  },
  {
   "cell_type": "code",
   "execution_count": 3,
   "metadata": {
    "ExecuteTime": {
     "end_time": "2019-05-22T11:34:46.769852Z",
     "start_time": "2019-05-22T11:34:24.677947Z"
    }
   },
   "outputs": [
    {
     "data": {
      "text/plain": [
       "(42000, 785)"
      ]
     },
     "execution_count": 3,
     "metadata": {},
     "output_type": "execute_result"
    }
   ],
   "source": [
    "df = pd.read_csv(\"./data/train.csv\",sep=\",\")\n",
    "df_test = pd.read_csv(\"./data/test.csv\",sep=\",\")\n",
    "df.shape"
   ]
  },
  {
   "cell_type": "code",
   "execution_count": 4,
   "metadata": {
    "ExecuteTime": {
     "end_time": "2019-05-22T11:34:47.350300Z",
     "start_time": "2019-05-22T11:34:46.772844Z"
    }
   },
   "outputs": [],
   "source": [
    "X = df.iloc[:,1:]\n",
    "y = df.iloc[:,0]\n",
    "x_train, x_test, y_train, y_test = train_test_split(X,y, test_size= 0.25, random_state=27)\n"
   ]
  },
  {
   "cell_type": "code",
   "execution_count": 5,
   "metadata": {
    "ExecuteTime": {
     "end_time": "2019-05-22T11:34:49.031805Z",
     "start_time": "2019-05-22T11:34:47.352296Z"
    }
   },
   "outputs": [],
   "source": [
    "x_train = x_train/255\n",
    "x_test = x_test / 255"
   ]
  },
  {
   "cell_type": "code",
   "execution_count": 6,
   "metadata": {
    "ExecuteTime": {
     "end_time": "2019-05-22T11:34:49.385014Z",
     "start_time": "2019-05-22T11:34:49.034796Z"
    }
   },
   "outputs": [
    {
     "data": {
      "text/plain": [
       "(31500, 10)"
      ]
     },
     "execution_count": 6,
     "metadata": {},
     "output_type": "execute_result"
    }
   ],
   "source": [
    "y_train2 = to_categorical(y_train, num_classes = 10)\n",
    "y_train2.shape"
   ]
  },
  {
   "cell_type": "code",
   "execution_count": 84,
   "metadata": {
    "ExecuteTime": {
     "end_time": "2019-05-22T17:40:21.349642Z",
     "start_time": "2019-05-22T17:40:20.707869Z"
    }
   },
   "outputs": [],
   "source": [
    "y_test2 = to_categorical(y_test, num_classes=10)"
   ]
  },
  {
   "cell_type": "markdown",
   "metadata": {},
   "source": [
    "# 1 layer model"
   ]
  },
  {
   "cell_type": "code",
   "execution_count": 11,
   "metadata": {
    "ExecuteTime": {
     "end_time": "2019-05-22T09:04:00.120335Z",
     "start_time": "2019-05-22T09:03:59.844601Z"
    }
   },
   "outputs": [
    {
     "data": {
      "text/plain": [
       "(31500, 784)"
      ]
     },
     "execution_count": 11,
     "metadata": {},
     "output_type": "execute_result"
    }
   ],
   "source": [
    "x_train.shape"
   ]
  },
  {
   "cell_type": "code",
   "execution_count": 7,
   "metadata": {
    "ExecuteTime": {
     "end_time": "2019-05-22T11:37:46.798517Z",
     "start_time": "2019-05-22T11:37:46.476337Z"
    }
   },
   "outputs": [
    {
     "name": "stdout",
     "output_type": "stream",
     "text": [
      "WARNING:tensorflow:From C:\\Users\\ali.tber\\AppData\\Local\\Continuum\\anaconda3\\lib\\site-packages\\tensorflow\\python\\framework\\op_def_library.py:263: colocate_with (from tensorflow.python.framework.ops) is deprecated and will be removed in a future version.\n",
      "Instructions for updating:\n",
      "Colocations handled automatically by placer.\n"
     ]
    }
   ],
   "source": [
    "model = Sequential()\n",
    "model.add(Dense(10,activation =\"softmax\",input_shape = (784,)))"
   ]
  },
  {
   "cell_type": "code",
   "execution_count": 8,
   "metadata": {
    "ExecuteTime": {
     "end_time": "2019-05-22T11:37:47.884185Z",
     "start_time": "2019-05-22T11:37:47.585795Z"
    }
   },
   "outputs": [],
   "source": [
    "optimizer = RMSprop(lr=0.001, rho=0.9, epsilon=1e-08, decay=0.0)\n",
    "model.compile(optimizer = optimizer , loss = \"categorical_crossentropy\", metrics=[\"accuracy\"])"
   ]
  },
  {
   "cell_type": "code",
   "execution_count": 31,
   "metadata": {
    "ExecuteTime": {
     "end_time": "2019-05-22T11:46:42.120577Z",
     "start_time": "2019-05-22T11:45:39.736374Z"
    },
    "scrolled": true
   },
   "outputs": [
    {
     "name": "stdout",
     "output_type": "stream",
     "text": [
      "Epoch 1/100\n",
      "31500/31500 [==============================] - ETA: 0s - loss: 0.2580 - acc: 0.924 - ETA: 0s - loss: 0.2500 - acc: 0.928 - ETA: 0s - loss: 0.2432 - acc: 0.930 - ETA: 0s - loss: 0.2441 - acc: 0.930 - ETA: 0s - loss: 0.2460 - acc: 0.929 - 1s 21us/step - loss: 0.2444 - acc: 0.9303\n",
      "Epoch 2/100\n",
      "31500/31500 [==============================] - ETA: 0s - loss: 0.2430 - acc: 0.932 - ETA: 0s - loss: 0.2399 - acc: 0.932 - ETA: 0s - loss: 0.2454 - acc: 0.929 - ETA: 0s - loss: 0.2417 - acc: 0.931 - ETA: 0s - loss: 0.2436 - acc: 0.930 - 1s 21us/step - loss: 0.2442 - acc: 0.9306\n",
      "Epoch 3/100\n",
      "31500/31500 [==============================] - ETA: 0s - loss: 0.2342 - acc: 0.933 - ETA: 0s - loss: 0.2390 - acc: 0.933 - ETA: 0s - loss: 0.2403 - acc: 0.932 - ETA: 0s - loss: 0.2416 - acc: 0.932 - ETA: 0s - loss: 0.2436 - acc: 0.931 - 1s 20us/step - loss: 0.2436 - acc: 0.9307\n",
      "Epoch 4/100\n",
      "31500/31500 [==============================] - ETA: 0s - loss: 0.2394 - acc: 0.929 - ETA: 0s - loss: 0.2523 - acc: 0.927 - ETA: 0s - loss: 0.2482 - acc: 0.929 - ETA: 0s - loss: 0.2442 - acc: 0.930 - ETA: 0s - loss: 0.2430 - acc: 0.930 - 1s 21us/step - loss: 0.2434 - acc: 0.9310\n",
      "Epoch 5/100\n",
      "31500/31500 [==============================] - ETA: 0s - loss: 0.2437 - acc: 0.932 - ETA: 0s - loss: 0.2389 - acc: 0.932 - ETA: 0s - loss: 0.2389 - acc: 0.932 - ETA: 0s - loss: 0.2372 - acc: 0.932 - ETA: 0s - loss: 0.2411 - acc: 0.931 - 1s 20us/step - loss: 0.2431 - acc: 0.9311\n",
      "Epoch 6/100\n",
      "31500/31500 [==============================] - ETA: 0s - loss: 0.2493 - acc: 0.932 - ETA: 0s - loss: 0.2449 - acc: 0.930 - ETA: 0s - loss: 0.2425 - acc: 0.930 - ETA: 0s - loss: 0.2411 - acc: 0.931 - ETA: 0s - loss: 0.2423 - acc: 0.930 - 1s 20us/step - loss: 0.2425 - acc: 0.9312\n",
      "Epoch 7/100\n",
      "31500/31500 [==============================] - ETA: 0s - loss: 0.2353 - acc: 0.933 - ETA: 0s - loss: 0.2400 - acc: 0.931 - ETA: 0s - loss: 0.2437 - acc: 0.931 - ETA: 0s - loss: 0.2416 - acc: 0.930 - ETA: 0s - loss: 0.2414 - acc: 0.931 - 1s 22us/step - loss: 0.2425 - acc: 0.9310\n",
      "Epoch 8/100\n",
      "31500/31500 [==============================] - ETA: 0s - loss: 0.2428 - acc: 0.933 - ETA: 0s - loss: 0.2398 - acc: 0.933 - ETA: 0s - loss: 0.2499 - acc: 0.930 - ETA: 0s - loss: 0.2487 - acc: 0.930 - ETA: 0s - loss: 0.2429 - acc: 0.931 - 1s 20us/step - loss: 0.2421 - acc: 0.9317\n",
      "Epoch 9/100\n",
      "31500/31500 [==============================] - ETA: 0s - loss: 0.2577 - acc: 0.933 - ETA: 0s - loss: 0.2518 - acc: 0.932 - ETA: 0s - loss: 0.2460 - acc: 0.933 - ETA: 0s - loss: 0.2455 - acc: 0.932 - ETA: 0s - loss: 0.2418 - acc: 0.932 - 1s 19us/step - loss: 0.2418 - acc: 0.9322\n",
      "Epoch 10/100\n",
      "31500/31500 [==============================] - ETA: 0s - loss: 0.2499 - acc: 0.930 - ETA: 0s - loss: 0.2436 - acc: 0.932 - ETA: 0s - loss: 0.2412 - acc: 0.931 - ETA: 0s - loss: 0.2440 - acc: 0.932 - ETA: 0s - loss: 0.2421 - acc: 0.932 - 1s 19us/step - loss: 0.2413 - acc: 0.9323\n",
      "Epoch 11/100\n",
      "31500/31500 [==============================] - ETA: 0s - loss: 0.2442 - acc: 0.934 - ETA: 0s - loss: 0.2376 - acc: 0.933 - ETA: 0s - loss: 0.2410 - acc: 0.931 - ETA: 0s - loss: 0.2386 - acc: 0.932 - ETA: 0s - loss: 0.2408 - acc: 0.931 - 1s 19us/step - loss: 0.2409 - acc: 0.9316\n",
      "Epoch 12/100\n",
      "31500/31500 [==============================] - ETA: 0s - loss: 0.2388 - acc: 0.931 - ETA: 0s - loss: 0.2399 - acc: 0.932 - ETA: 0s - loss: 0.2346 - acc: 0.933 - ETA: 0s - loss: 0.2362 - acc: 0.932 - ETA: 0s - loss: 0.2398 - acc: 0.931 - 1s 20us/step - loss: 0.2405 - acc: 0.9315\n",
      "Epoch 13/100\n",
      "31500/31500 [==============================] - ETA: 0s - loss: 0.2432 - acc: 0.932 - ETA: 0s - loss: 0.2389 - acc: 0.933 - ETA: 0s - loss: 0.2396 - acc: 0.932 - ETA: 0s - loss: 0.2411 - acc: 0.931 - ETA: 0s - loss: 0.2412 - acc: 0.931 - 1s 20us/step - loss: 0.2402 - acc: 0.9321\n",
      "Epoch 14/100\n",
      "31500/31500 [==============================] - ETA: 0s - loss: 0.2480 - acc: 0.929 - ETA: 0s - loss: 0.2413 - acc: 0.931 - ETA: 0s - loss: 0.2411 - acc: 0.931 - ETA: 0s - loss: 0.2397 - acc: 0.931 - ETA: 0s - loss: 0.2407 - acc: 0.932 - 1s 20us/step - loss: 0.2400 - acc: 0.9320\n",
      "Epoch 15/100\n",
      "31500/31500 [==============================] - ETA: 0s - loss: 0.2423 - acc: 0.930 - ETA: 0s - loss: 0.2390 - acc: 0.932 - ETA: 0s - loss: 0.2376 - acc: 0.932 - ETA: 0s - loss: 0.2402 - acc: 0.932 - ETA: 0s - loss: 0.2404 - acc: 0.932 - 1s 20us/step - loss: 0.2399 - acc: 0.9319\n",
      "Epoch 16/100\n",
      "31500/31500 [==============================] - ETA: 0s - loss: 0.2382 - acc: 0.932 - ETA: 0s - loss: 0.2404 - acc: 0.932 - ETA: 0s - loss: 0.2392 - acc: 0.933 - ETA: 0s - loss: 0.2390 - acc: 0.932 - ETA: 0s - loss: 0.2401 - acc: 0.932 - 1s 20us/step - loss: 0.2394 - acc: 0.9322\n",
      "Epoch 17/100\n",
      "31500/31500 [==============================] - ETA: 0s - loss: 0.2383 - acc: 0.935 - ETA: 0s - loss: 0.2390 - acc: 0.934 - ETA: 0s - loss: 0.2369 - acc: 0.932 - ETA: 0s - loss: 0.2398 - acc: 0.932 - ETA: 0s - loss: 0.2406 - acc: 0.932 - 1s 20us/step - loss: 0.2392 - acc: 0.9323\n",
      "Epoch 18/100\n",
      "31500/31500 [==============================] - ETA: 0s - loss: 0.2404 - acc: 0.935 - ETA: 0s - loss: 0.2405 - acc: 0.933 - ETA: 0s - loss: 0.2391 - acc: 0.934 - ETA: 0s - loss: 0.2377 - acc: 0.934 - ETA: 0s - loss: 0.2390 - acc: 0.932 - 1s 20us/step - loss: 0.2387 - acc: 0.9328\n",
      "Epoch 19/100\n",
      "31500/31500 [==============================] - ETA: 0s - loss: 0.2203 - acc: 0.938 - ETA: 0s - loss: 0.2315 - acc: 0.935 - ETA: 0s - loss: 0.2377 - acc: 0.933 - ETA: 0s - loss: 0.2420 - acc: 0.932 - ETA: 0s - loss: 0.2377 - acc: 0.932 - 1s 20us/step - loss: 0.2384 - acc: 0.9326\n",
      "Epoch 20/100\n",
      "31500/31500 [==============================] - ETA: 0s - loss: 0.2253 - acc: 0.936 - ETA: 0s - loss: 0.2399 - acc: 0.933 - ETA: 0s - loss: 0.2334 - acc: 0.935 - ETA: 0s - loss: 0.2371 - acc: 0.934 - ETA: 0s - loss: 0.2392 - acc: 0.932 - 1s 21us/step - loss: 0.2382 - acc: 0.9329\n",
      "Epoch 21/100\n",
      "31500/31500 [==============================] - ETA: 0s - loss: 0.2531 - acc: 0.930 - ETA: 0s - loss: 0.2459 - acc: 0.933 - ETA: 0s - loss: 0.2412 - acc: 0.933 - ETA: 0s - loss: 0.2446 - acc: 0.931 - ETA: 0s - loss: 0.2377 - acc: 0.933 - 1s 19us/step - loss: 0.2378 - acc: 0.9327\n",
      "Epoch 22/100\n",
      "31500/31500 [==============================] - ETA: 0s - loss: 0.2431 - acc: 0.931 - ETA: 0s - loss: 0.2414 - acc: 0.931 - ETA: 0s - loss: 0.2415 - acc: 0.932 - ETA: 0s - loss: 0.2422 - acc: 0.931 - ETA: 0s - loss: 0.2375 - acc: 0.932 - 1s 18us/step - loss: 0.2375 - acc: 0.9329\n",
      "Epoch 23/100\n",
      "31500/31500 [==============================] - ETA: 0s - loss: 0.2383 - acc: 0.933 - ETA: 0s - loss: 0.2339 - acc: 0.933 - ETA: 0s - loss: 0.2342 - acc: 0.933 - ETA: 0s - loss: 0.2354 - acc: 0.933 - ETA: 0s - loss: 0.2374 - acc: 0.933 - 1s 18us/step - loss: 0.2375 - acc: 0.9329\n",
      "Epoch 24/100\n",
      "31500/31500 [==============================] - ETA: 0s - loss: 0.2556 - acc: 0.928 - ETA: 0s - loss: 0.2404 - acc: 0.932 - ETA: 0s - loss: 0.2382 - acc: 0.932 - ETA: 0s - loss: 0.2342 - acc: 0.934 - ETA: 0s - loss: 0.2382 - acc: 0.932 - 1s 18us/step - loss: 0.2369 - acc: 0.9330\n",
      "Epoch 25/100\n",
      "31500/31500 [==============================] - ETA: 0s - loss: 0.2378 - acc: 0.932 - ETA: 0s - loss: 0.2339 - acc: 0.933 - ETA: 0s - loss: 0.2335 - acc: 0.933 - ETA: 0s - loss: 0.2355 - acc: 0.933 - ETA: 0s - loss: 0.2368 - acc: 0.933 - 1s 18us/step - loss: 0.2368 - acc: 0.9331\n",
      "Epoch 26/100\n",
      "31500/31500 [==============================] - ETA: 0s - loss: 0.2287 - acc: 0.933 - ETA: 0s - loss: 0.2316 - acc: 0.933 - ETA: 0s - loss: 0.2328 - acc: 0.933 - ETA: 0s - loss: 0.2334 - acc: 0.934 - ETA: 0s - loss: 0.2362 - acc: 0.933 - 1s 19us/step - loss: 0.2365 - acc: 0.9334\n",
      "Epoch 27/100\n",
      "31500/31500 [==============================] - ETA: 0s - loss: 0.2196 - acc: 0.937 - ETA: 0s - loss: 0.2342 - acc: 0.934 - ETA: 0s - loss: 0.2351 - acc: 0.934 - ETA: 0s - loss: 0.2342 - acc: 0.934 - ETA: 0s - loss: 0.2373 - acc: 0.932 - 1s 19us/step - loss: 0.2361 - acc: 0.9331\n",
      "Epoch 28/100\n",
      "31500/31500 [==============================] - ETA: 0s - loss: 0.2290 - acc: 0.932 - ETA: 0s - loss: 0.2293 - acc: 0.935 - ETA: 0s - loss: 0.2370 - acc: 0.933 - ETA: 0s - loss: 0.2379 - acc: 0.933 - ETA: 0s - loss: 0.2355 - acc: 0.933 - 1s 19us/step - loss: 0.2359 - acc: 0.9332\n",
      "Epoch 29/100\n"
     ]
    },
    {
     "name": "stdout",
     "output_type": "stream",
     "text": [
      "31500/31500 [==============================] - ETA: 0s - loss: 0.2288 - acc: 0.934 - ETA: 0s - loss: 0.2255 - acc: 0.936 - ETA: 0s - loss: 0.2347 - acc: 0.934 - ETA: 0s - loss: 0.2315 - acc: 0.935 - ETA: 0s - loss: 0.2336 - acc: 0.934 - 1s 20us/step - loss: 0.2356 - acc: 0.9335\n",
      "Epoch 30/100\n",
      "31500/31500 [==============================] - ETA: 0s - loss: 0.2401 - acc: 0.932 - ETA: 0s - loss: 0.2364 - acc: 0.932 - ETA: 0s - loss: 0.2411 - acc: 0.930 - ETA: 0s - loss: 0.2380 - acc: 0.931 - ETA: 0s - loss: 0.2358 - acc: 0.932 - 1s 19us/step - loss: 0.2356 - acc: 0.9334\n",
      "Epoch 31/100\n",
      "31500/31500 [==============================] - ETA: 0s - loss: 0.2351 - acc: 0.932 - ETA: 0s - loss: 0.2324 - acc: 0.933 - ETA: 0s - loss: 0.2321 - acc: 0.932 - ETA: 0s - loss: 0.2356 - acc: 0.932 - ETA: 0s - loss: 0.2353 - acc: 0.933 - 1s 20us/step - loss: 0.2351 - acc: 0.9336\n",
      "Epoch 32/100\n",
      "31500/31500 [==============================] - ETA: 0s - loss: 0.2213 - acc: 0.937 - ETA: 0s - loss: 0.2258 - acc: 0.937 - ETA: 0s - loss: 0.2334 - acc: 0.934 - ETA: 0s - loss: 0.2361 - acc: 0.933 - ETA: 0s - loss: 0.2353 - acc: 0.933 - 1s 19us/step - loss: 0.2350 - acc: 0.9338\n",
      "Epoch 33/100\n",
      "31500/31500 [==============================] - ETA: 0s - loss: 0.2342 - acc: 0.936 - ETA: 0s - loss: 0.2310 - acc: 0.934 - ETA: 0s - loss: 0.2341 - acc: 0.933 - ETA: 0s - loss: 0.2322 - acc: 0.934 - ETA: 0s - loss: 0.2325 - acc: 0.934 - 1s 20us/step - loss: 0.2345 - acc: 0.9340\n",
      "Epoch 34/100\n",
      "31500/31500 [==============================] - ETA: 0s - loss: 0.2281 - acc: 0.938 - ETA: 0s - loss: 0.2302 - acc: 0.935 - ETA: 0s - loss: 0.2382 - acc: 0.932 - ETA: 0s - loss: 0.2362 - acc: 0.933 - ETA: 0s - loss: 0.2360 - acc: 0.932 - 1s 21us/step - loss: 0.2344 - acc: 0.9333\n",
      "Epoch 35/100\n",
      "31500/31500 [==============================] - ETA: 0s - loss: 0.2270 - acc: 0.935 - ETA: 0s - loss: 0.2310 - acc: 0.935 - ETA: 0s - loss: 0.2321 - acc: 0.934 - ETA: 0s - loss: 0.2329 - acc: 0.934 - ETA: 0s - loss: 0.2349 - acc: 0.934 - 1s 21us/step - loss: 0.2340 - acc: 0.9339\n",
      "Epoch 36/100\n",
      "31500/31500 [==============================] - ETA: 0s - loss: 0.2395 - acc: 0.934 - ETA: 0s - loss: 0.2321 - acc: 0.934 - ETA: 0s - loss: 0.2333 - acc: 0.933 - ETA: 0s - loss: 0.2315 - acc: 0.933 - ETA: 0s - loss: 0.2334 - acc: 0.933 - 1s 21us/step - loss: 0.2337 - acc: 0.9339\n",
      "Epoch 37/100\n",
      "31500/31500 [==============================] - ETA: 0s - loss: 0.2329 - acc: 0.929 - ETA: 0s - loss: 0.2371 - acc: 0.930 - ETA: 0s - loss: 0.2288 - acc: 0.933 - ETA: 0s - loss: 0.2323 - acc: 0.933 - ETA: 0s - loss: 0.2343 - acc: 0.933 - 1s 20us/step - loss: 0.2336 - acc: 0.9338\n",
      "Epoch 38/100\n",
      "31500/31500 [==============================] - ETA: 0s - loss: 0.2367 - acc: 0.933 - ETA: 0s - loss: 0.2340 - acc: 0.935 - ETA: 0s - loss: 0.2333 - acc: 0.935 - ETA: 0s - loss: 0.2332 - acc: 0.934 - ETA: 0s - loss: 0.2328 - acc: 0.934 - 1s 18us/step - loss: 0.2333 - acc: 0.9343\n",
      "Epoch 39/100\n",
      "31500/31500 [==============================] - ETA: 0s - loss: 0.2284 - acc: 0.934 - ETA: 0s - loss: 0.2317 - acc: 0.934 - ETA: 0s - loss: 0.2299 - acc: 0.934 - ETA: 0s - loss: 0.2269 - acc: 0.935 - ETA: 0s - loss: 0.2323 - acc: 0.934 - 1s 18us/step - loss: 0.2331 - acc: 0.9342\n",
      "Epoch 40/100\n",
      "31500/31500 [==============================] - ETA: 0s - loss: 0.2246 - acc: 0.933 - ETA: 0s - loss: 0.2267 - acc: 0.934 - ETA: 0s - loss: 0.2327 - acc: 0.934 - ETA: 0s - loss: 0.2319 - acc: 0.934 - ETA: 0s - loss: 0.2313 - acc: 0.934 - 1s 19us/step - loss: 0.2329 - acc: 0.9343\n",
      "Epoch 41/100\n",
      "31500/31500 [==============================] - ETA: 0s - loss: 0.2253 - acc: 0.934 - ETA: 0s - loss: 0.2347 - acc: 0.931 - ETA: 0s - loss: 0.2344 - acc: 0.932 - ETA: 0s - loss: 0.2322 - acc: 0.934 - ETA: 0s - loss: 0.2335 - acc: 0.934 - 1s 19us/step - loss: 0.2326 - acc: 0.9343\n",
      "Epoch 42/100\n",
      "31500/31500 [==============================] - ETA: 0s - loss: 0.2381 - acc: 0.930 - ETA: 0s - loss: 0.2280 - acc: 0.935 - ETA: 0s - loss: 0.2311 - acc: 0.934 - ETA: 0s - loss: 0.2317 - acc: 0.934 - ETA: 0s - loss: 0.2314 - acc: 0.935 - 1s 19us/step - loss: 0.2323 - acc: 0.9345\n",
      "Epoch 43/100\n",
      "31500/31500 [==============================] - ETA: 0s - loss: 0.2374 - acc: 0.929 - ETA: 0s - loss: 0.2366 - acc: 0.930 - ETA: 0s - loss: 0.2347 - acc: 0.932 - ETA: 0s - loss: 0.2341 - acc: 0.933 - ETA: 0s - loss: 0.2335 - acc: 0.933 - 1s 18us/step - loss: 0.2321 - acc: 0.9344\n",
      "Epoch 44/100\n",
      "31500/31500 [==============================] - ETA: 0s - loss: 0.2368 - acc: 0.931 - ETA: 0s - loss: 0.2391 - acc: 0.929 - ETA: 0s - loss: 0.2350 - acc: 0.933 - ETA: 0s - loss: 0.2332 - acc: 0.934 - ETA: 0s - loss: 0.2310 - acc: 0.935 - 1s 19us/step - loss: 0.2322 - acc: 0.9349\n",
      "Epoch 45/100\n",
      "31500/31500 [==============================] - ETA: 0s - loss: 0.2288 - acc: 0.933 - ETA: 0s - loss: 0.2312 - acc: 0.934 - ETA: 0s - loss: 0.2313 - acc: 0.933 - ETA: 0s - loss: 0.2304 - acc: 0.934 - ETA: 0s - loss: 0.2282 - acc: 0.935 - 1s 19us/step - loss: 0.2316 - acc: 0.9345\n",
      "Epoch 46/100\n",
      "31500/31500 [==============================] - ETA: 0s - loss: 0.2302 - acc: 0.931 - ETA: 0s - loss: 0.2277 - acc: 0.933 - ETA: 0s - loss: 0.2304 - acc: 0.933 - ETA: 0s - loss: 0.2318 - acc: 0.934 - ETA: 0s - loss: 0.2313 - acc: 0.934 - 1s 19us/step - loss: 0.2313 - acc: 0.9349\n",
      "Epoch 47/100\n",
      "31500/31500 [==============================] - ETA: 0s - loss: 0.2178 - acc: 0.937 - ETA: 0s - loss: 0.2248 - acc: 0.936 - ETA: 0s - loss: 0.2230 - acc: 0.936 - ETA: 0s - loss: 0.2269 - acc: 0.936 - ETA: 0s - loss: 0.2315 - acc: 0.934 - 1s 19us/step - loss: 0.2312 - acc: 0.9349\n",
      "Epoch 48/100\n",
      "31500/31500 [==============================] - ETA: 0s - loss: 0.2317 - acc: 0.938 - ETA: 0s - loss: 0.2327 - acc: 0.935 - ETA: 0s - loss: 0.2313 - acc: 0.935 - ETA: 0s - loss: 0.2359 - acc: 0.933 - ETA: 0s - loss: 0.2319 - acc: 0.934 - 1s 19us/step - loss: 0.2309 - acc: 0.9348\n",
      "Epoch 49/100\n",
      "31500/31500 [==============================] - ETA: 0s - loss: 0.2220 - acc: 0.938 - ETA: 0s - loss: 0.2278 - acc: 0.937 - ETA: 0s - loss: 0.2283 - acc: 0.936 - ETA: 0s - loss: 0.2296 - acc: 0.935 - ETA: 0s - loss: 0.2286 - acc: 0.936 - 1s 19us/step - loss: 0.2308 - acc: 0.9354\n",
      "Epoch 50/100\n",
      "31500/31500 [==============================] - ETA: 0s - loss: 0.2336 - acc: 0.937 - ETA: 0s - loss: 0.2264 - acc: 0.936 - ETA: 0s - loss: 0.2312 - acc: 0.935 - ETA: 0s - loss: 0.2330 - acc: 0.934 - ETA: 0s - loss: 0.2310 - acc: 0.934 - 1s 19us/step - loss: 0.2307 - acc: 0.9348\n",
      "Epoch 51/100\n",
      "31500/31500 [==============================] - ETA: 0s - loss: 0.2331 - acc: 0.934 - ETA: 0s - loss: 0.2330 - acc: 0.934 - ETA: 0s - loss: 0.2371 - acc: 0.934 - ETA: 0s - loss: 0.2310 - acc: 0.935 - ETA: 0s - loss: 0.2300 - acc: 0.935 - 1s 19us/step - loss: 0.2302 - acc: 0.9352\n",
      "Epoch 52/100\n",
      "31500/31500 [==============================] - ETA: 0s - loss: 0.2344 - acc: 0.932 - ETA: 0s - loss: 0.2334 - acc: 0.933 - ETA: 0s - loss: 0.2315 - acc: 0.935 - ETA: 0s - loss: 0.2315 - acc: 0.934 - ETA: 0s - loss: 0.2309 - acc: 0.935 - 1s 19us/step - loss: 0.2302 - acc: 0.9352\n",
      "Epoch 53/100\n",
      "31500/31500 [==============================] - ETA: 0s - loss: 0.2355 - acc: 0.933 - ETA: 0s - loss: 0.2305 - acc: 0.934 - ETA: 0s - loss: 0.2307 - acc: 0.933 - ETA: 0s - loss: 0.2289 - acc: 0.934 - ETA: 0s - loss: 0.2294 - acc: 0.935 - 1s 20us/step - loss: 0.2300 - acc: 0.9351\n",
      "Epoch 54/100\n",
      "31500/31500 [==============================] - ETA: 0s - loss: 0.2415 - acc: 0.930 - ETA: 0s - loss: 0.2366 - acc: 0.933 - ETA: 0s - loss: 0.2338 - acc: 0.932 - ETA: 0s - loss: 0.2336 - acc: 0.933 - ETA: 0s - loss: 0.2301 - acc: 0.935 - 1s 19us/step - loss: 0.2298 - acc: 0.9350\n",
      "Epoch 55/100\n",
      "31500/31500 [==============================] - ETA: 0s - loss: 0.2318 - acc: 0.936 - ETA: 0s - loss: 0.2311 - acc: 0.936 - ETA: 0s - loss: 0.2321 - acc: 0.934 - ETA: 0s - loss: 0.2316 - acc: 0.935 - ETA: 0s - loss: 0.2289 - acc: 0.935 - 1s 19us/step - loss: 0.2296 - acc: 0.9355\n",
      "Epoch 56/100\n",
      "31500/31500 [==============================] - ETA: 0s - loss: 0.2364 - acc: 0.934 - ETA: 0s - loss: 0.2289 - acc: 0.935 - ETA: 0s - loss: 0.2298 - acc: 0.934 - ETA: 0s - loss: 0.2312 - acc: 0.935 - ETA: 0s - loss: 0.2301 - acc: 0.935 - 1s 18us/step - loss: 0.2292 - acc: 0.9358\n",
      "Epoch 57/100\n"
     ]
    },
    {
     "name": "stdout",
     "output_type": "stream",
     "text": [
      "31500/31500 [==============================] - ETA: 0s - loss: 0.2217 - acc: 0.933 - ETA: 0s - loss: 0.2320 - acc: 0.935 - ETA: 0s - loss: 0.2296 - acc: 0.936 - ETA: 0s - loss: 0.2282 - acc: 0.935 - ETA: 0s - loss: 0.2301 - acc: 0.935 - 1s 19us/step - loss: 0.2293 - acc: 0.9358\n",
      "Epoch 58/100\n",
      "31500/31500 [==============================] - ETA: 0s - loss: 0.2291 - acc: 0.936 - ETA: 0s - loss: 0.2301 - acc: 0.937 - ETA: 0s - loss: 0.2305 - acc: 0.936 - ETA: 0s - loss: 0.2283 - acc: 0.936 - ETA: 0s - loss: 0.2278 - acc: 0.936 - 1s 19us/step - loss: 0.2288 - acc: 0.9355\n",
      "Epoch 59/100\n",
      "31500/31500 [==============================] - ETA: 0s - loss: 0.2319 - acc: 0.939 - ETA: 0s - loss: 0.2239 - acc: 0.938 - ETA: 0s - loss: 0.2320 - acc: 0.935 - ETA: 0s - loss: 0.2333 - acc: 0.935 - ETA: 0s - loss: 0.2289 - acc: 0.936 - 1s 20us/step - loss: 0.2288 - acc: 0.9357\n",
      "Epoch 60/100\n",
      "31500/31500 [==============================] - ETA: 0s - loss: 0.2292 - acc: 0.933 - ETA: 0s - loss: 0.2304 - acc: 0.933 - ETA: 0s - loss: 0.2319 - acc: 0.933 - ETA: 0s - loss: 0.2319 - acc: 0.934 - ETA: 0s - loss: 0.2284 - acc: 0.935 - 1s 20us/step - loss: 0.2284 - acc: 0.9353\n",
      "Epoch 61/100\n",
      "31500/31500 [==============================] - ETA: 0s - loss: 0.2252 - acc: 0.935 - ETA: 0s - loss: 0.2204 - acc: 0.937 - ETA: 0s - loss: 0.2219 - acc: 0.937 - ETA: 0s - loss: 0.2253 - acc: 0.936 - ETA: 0s - loss: 0.2277 - acc: 0.936 - 1s 20us/step - loss: 0.2283 - acc: 0.9360\n",
      "Epoch 62/100\n",
      "31500/31500 [==============================] - ETA: 0s - loss: 0.2173 - acc: 0.938 - ETA: 0s - loss: 0.2249 - acc: 0.936 - ETA: 0s - loss: 0.2283 - acc: 0.934 - ETA: 0s - loss: 0.2264 - acc: 0.936 - ETA: 0s - loss: 0.2289 - acc: 0.935 - 1s 19us/step - loss: 0.2282 - acc: 0.9359\n",
      "Epoch 63/100\n",
      "31500/31500 [==============================] - ETA: 0s - loss: 0.2320 - acc: 0.936 - ETA: 0s - loss: 0.2311 - acc: 0.933 - ETA: 0s - loss: 0.2299 - acc: 0.935 - ETA: 0s - loss: 0.2267 - acc: 0.935 - ETA: 0s - loss: 0.2279 - acc: 0.935 - 1s 21us/step - loss: 0.2279 - acc: 0.9359\n",
      "Epoch 64/100\n",
      "31500/31500 [==============================] - ETA: 0s - loss: 0.2167 - acc: 0.939 - ETA: 0s - loss: 0.2194 - acc: 0.939 - ETA: 0s - loss: 0.2248 - acc: 0.937 - ETA: 0s - loss: 0.2273 - acc: 0.936 - ETA: 0s - loss: 0.2282 - acc: 0.935 - 1s 21us/step - loss: 0.2277 - acc: 0.9360\n",
      "Epoch 65/100\n",
      "31500/31500 [==============================] - ETA: 0s - loss: 0.2207 - acc: 0.937 - ETA: 0s - loss: 0.2231 - acc: 0.934 - ETA: 0s - loss: 0.2260 - acc: 0.935 - ETA: 0s - loss: 0.2283 - acc: 0.935 - ETA: 0s - loss: 0.2287 - acc: 0.935 - 1s 21us/step - loss: 0.2276 - acc: 0.9357\n",
      "Epoch 66/100\n",
      "31500/31500 [==============================] - ETA: 0s - loss: 0.2275 - acc: 0.935 - ETA: 0s - loss: 0.2255 - acc: 0.936 - ETA: 0s - loss: 0.2288 - acc: 0.936 - ETA: 0s - loss: 0.2276 - acc: 0.935 - ETA: 0s - loss: 0.2280 - acc: 0.935 - 1s 19us/step - loss: 0.2273 - acc: 0.9360\n",
      "Epoch 67/100\n",
      "31500/31500 [==============================] - ETA: 0s - loss: 0.2351 - acc: 0.935 - ETA: 0s - loss: 0.2338 - acc: 0.933 - ETA: 0s - loss: 0.2327 - acc: 0.934 - ETA: 0s - loss: 0.2273 - acc: 0.936 - ETA: 0s - loss: 0.2285 - acc: 0.935 - 1s 20us/step - loss: 0.2271 - acc: 0.9360\n",
      "Epoch 68/100\n",
      "31500/31500 [==============================] - ETA: 0s - loss: 0.2197 - acc: 0.936 - ETA: 0s - loss: 0.2213 - acc: 0.937 - ETA: 0s - loss: 0.2267 - acc: 0.934 - ETA: 0s - loss: 0.2235 - acc: 0.935 - ETA: 0s - loss: 0.2271 - acc: 0.936 - 1s 19us/step - loss: 0.2271 - acc: 0.9360\n",
      "Epoch 69/100\n",
      "31500/31500 [==============================] - ETA: 0s - loss: 0.2183 - acc: 0.938 - ETA: 0s - loss: 0.2193 - acc: 0.940 - ETA: 0s - loss: 0.2291 - acc: 0.937 - ETA: 0s - loss: 0.2293 - acc: 0.937 - ETA: 0s - loss: 0.2276 - acc: 0.936 - 1s 19us/step - loss: 0.2267 - acc: 0.9364\n",
      "Epoch 70/100\n",
      "31500/31500 [==============================] - ETA: 0s - loss: 0.2218 - acc: 0.935 - ETA: 0s - loss: 0.2242 - acc: 0.937 - ETA: 0s - loss: 0.2261 - acc: 0.937 - ETA: 0s - loss: 0.2274 - acc: 0.935 - ETA: 0s - loss: 0.2265 - acc: 0.935 - 1s 21us/step - loss: 0.2266 - acc: 0.9360\n",
      "Epoch 71/100\n",
      "31500/31500 [==============================] - ETA: 0s - loss: 0.2322 - acc: 0.934 - ETA: 0s - loss: 0.2236 - acc: 0.937 - ETA: 0s - loss: 0.2223 - acc: 0.936 - ETA: 0s - loss: 0.2264 - acc: 0.935 - ETA: 0s - loss: 0.2275 - acc: 0.935 - 1s 21us/step - loss: 0.2266 - acc: 0.9360\n",
      "Epoch 72/100\n",
      "31500/31500 [==============================] - ETA: 0s - loss: 0.2282 - acc: 0.934 - ETA: 0s - loss: 0.2358 - acc: 0.933 - ETA: 0s - loss: 0.2300 - acc: 0.936 - ETA: 0s - loss: 0.2296 - acc: 0.936 - ETA: 0s - loss: 0.2267 - acc: 0.936 - 1s 20us/step - loss: 0.2262 - acc: 0.9361\n",
      "Epoch 73/100\n",
      "31500/31500 [==============================] - ETA: 0s - loss: 0.2438 - acc: 0.929 - ETA: 0s - loss: 0.2335 - acc: 0.933 - ETA: 0s - loss: 0.2253 - acc: 0.936 - ETA: 0s - loss: 0.2268 - acc: 0.936 - ETA: 0s - loss: 0.2267 - acc: 0.936 - 1s 20us/step - loss: 0.2262 - acc: 0.9364\n",
      "Epoch 74/100\n",
      "31500/31500 [==============================] - ETA: 0s - loss: 0.2190 - acc: 0.939 - ETA: 0s - loss: 0.2253 - acc: 0.937 - ETA: 0s - loss: 0.2270 - acc: 0.936 - ETA: 0s - loss: 0.2286 - acc: 0.936 - ETA: 0s - loss: 0.2261 - acc: 0.936 - 1s 20us/step - loss: 0.2259 - acc: 0.9362\n",
      "Epoch 75/100\n",
      "31500/31500 [==============================] - ETA: 0s - loss: 0.2264 - acc: 0.935 - ETA: 0s - loss: 0.2242 - acc: 0.935 - ETA: 0s - loss: 0.2270 - acc: 0.936 - ETA: 0s - loss: 0.2258 - acc: 0.936 - ETA: 0s - loss: 0.2256 - acc: 0.936 - 1s 20us/step - loss: 0.2256 - acc: 0.9366\n",
      "Epoch 76/100\n",
      "31500/31500 [==============================] - ETA: 0s - loss: 0.2325 - acc: 0.936 - ETA: 0s - loss: 0.2257 - acc: 0.935 - ETA: 0s - loss: 0.2249 - acc: 0.935 - ETA: 0s - loss: 0.2276 - acc: 0.935 - ETA: 0s - loss: 0.2255 - acc: 0.936 - 1s 18us/step - loss: 0.2255 - acc: 0.9368\n",
      "Epoch 77/100\n",
      "31500/31500 [==============================] - ETA: 0s - loss: 0.2405 - acc: 0.934 - ETA: 0s - loss: 0.2367 - acc: 0.933 - ETA: 0s - loss: 0.2310 - acc: 0.935 - ETA: 0s - loss: 0.2300 - acc: 0.936 - ETA: 0s - loss: 0.2259 - acc: 0.936 - 1s 19us/step - loss: 0.2255 - acc: 0.9366\n",
      "Epoch 78/100\n",
      "31500/31500 [==============================] - ETA: 0s - loss: 0.2127 - acc: 0.940 - ETA: 0s - loss: 0.2221 - acc: 0.937 - ETA: 0s - loss: 0.2238 - acc: 0.937 - ETA: 0s - loss: 0.2227 - acc: 0.937 - ETA: 0s - loss: 0.2241 - acc: 0.936 - 1s 18us/step - loss: 0.2251 - acc: 0.9368\n",
      "Epoch 79/100\n",
      "31500/31500 [==============================] - ETA: 0s - loss: 0.2121 - acc: 0.941 - ETA: 0s - loss: 0.2204 - acc: 0.939 - ETA: 0s - loss: 0.2232 - acc: 0.937 - ETA: 0s - loss: 0.2208 - acc: 0.938 - ETA: 0s - loss: 0.2239 - acc: 0.937 - 1s 19us/step - loss: 0.2249 - acc: 0.9368\n",
      "Epoch 80/100\n",
      "31500/31500 [==============================] - ETA: 0s - loss: 0.2290 - acc: 0.934 - ETA: 0s - loss: 0.2252 - acc: 0.936 - ETA: 0s - loss: 0.2261 - acc: 0.937 - ETA: 0s - loss: 0.2247 - acc: 0.937 - ETA: 0s - loss: 0.2255 - acc: 0.936 - 1s 20us/step - loss: 0.2247 - acc: 0.9366\n",
      "Epoch 81/100\n",
      "31500/31500 [==============================] - ETA: 0s - loss: 0.2088 - acc: 0.940 - ETA: 0s - loss: 0.2209 - acc: 0.937 - ETA: 0s - loss: 0.2248 - acc: 0.936 - ETA: 0s - loss: 0.2241 - acc: 0.937 - ETA: 0s - loss: 0.2235 - acc: 0.937 - 1s 20us/step - loss: 0.2247 - acc: 0.9367\n",
      "Epoch 82/100\n",
      "31500/31500 [==============================] - ETA: 0s - loss: 0.2243 - acc: 0.939 - ETA: 0s - loss: 0.2229 - acc: 0.937 - ETA: 0s - loss: 0.2236 - acc: 0.936 - ETA: 0s - loss: 0.2260 - acc: 0.936 - ETA: 0s - loss: 0.2242 - acc: 0.936 - 1s 19us/step - loss: 0.2245 - acc: 0.9367\n",
      "Epoch 83/100\n",
      "31500/31500 [==============================] - ETA: 0s - loss: 0.2192 - acc: 0.934 - ETA: 0s - loss: 0.2230 - acc: 0.934 - ETA: 0s - loss: 0.2204 - acc: 0.936 - ETA: 0s - loss: 0.2216 - acc: 0.937 - ETA: 0s - loss: 0.2247 - acc: 0.936 - 1s 20us/step - loss: 0.2242 - acc: 0.9370\n",
      "Epoch 84/100\n",
      "31500/31500 [==============================] - ETA: 0s - loss: 0.2227 - acc: 0.937 - ETA: 0s - loss: 0.2254 - acc: 0.936 - ETA: 0s - loss: 0.2261 - acc: 0.935 - ETA: 0s - loss: 0.2247 - acc: 0.937 - ETA: 0s - loss: 0.2240 - acc: 0.937 - 1s 19us/step - loss: 0.2241 - acc: 0.9371\n",
      "Epoch 85/100\n"
     ]
    },
    {
     "name": "stdout",
     "output_type": "stream",
     "text": [
      "31500/31500 [==============================] - ETA: 0s - loss: 0.2096 - acc: 0.945 - ETA: 0s - loss: 0.2186 - acc: 0.940 - ETA: 0s - loss: 0.2233 - acc: 0.938 - ETA: 0s - loss: 0.2273 - acc: 0.936 - ETA: 0s - loss: 0.2246 - acc: 0.936 - 1s 20us/step - loss: 0.2239 - acc: 0.9370\n",
      "Epoch 86/100\n",
      "31500/31500 [==============================] - ETA: 0s - loss: 0.2327 - acc: 0.934 - ETA: 0s - loss: 0.2216 - acc: 0.937 - ETA: 0s - loss: 0.2213 - acc: 0.938 - ETA: 0s - loss: 0.2240 - acc: 0.937 - ETA: 0s - loss: 0.2227 - acc: 0.937 - 1s 19us/step - loss: 0.2237 - acc: 0.9371\n",
      "Epoch 87/100\n",
      "31500/31500 [==============================] - ETA: 0s - loss: 0.2525 - acc: 0.931 - ETA: 0s - loss: 0.2349 - acc: 0.934 - ETA: 0s - loss: 0.2254 - acc: 0.936 - ETA: 0s - loss: 0.2243 - acc: 0.937 - ETA: 0s - loss: 0.2222 - acc: 0.937 - 1s 20us/step - loss: 0.2235 - acc: 0.9366\n",
      "Epoch 88/100\n",
      "31500/31500 [==============================] - ETA: 0s - loss: 0.2153 - acc: 0.937 - ETA: 0s - loss: 0.2250 - acc: 0.935 - ETA: 0s - loss: 0.2273 - acc: 0.935 - ETA: 0s - loss: 0.2247 - acc: 0.936 - ETA: 0s - loss: 0.2238 - acc: 0.937 - 1s 20us/step - loss: 0.2235 - acc: 0.9372\n",
      "Epoch 89/100\n",
      "31500/31500 [==============================] - ETA: 0s - loss: 0.2120 - acc: 0.939 - ETA: 0s - loss: 0.2222 - acc: 0.937 - ETA: 0s - loss: 0.2220 - acc: 0.937 - ETA: 0s - loss: 0.2231 - acc: 0.937 - ETA: 0s - loss: 0.2233 - acc: 0.937 - 1s 20us/step - loss: 0.2234 - acc: 0.9367\n",
      "Epoch 90/100\n",
      "31500/31500 [==============================] - ETA: 0s - loss: 0.2216 - acc: 0.937 - ETA: 0s - loss: 0.2282 - acc: 0.935 - ETA: 0s - loss: 0.2246 - acc: 0.935 - ETA: 0s - loss: 0.2214 - acc: 0.937 - ETA: 0s - loss: 0.2239 - acc: 0.936 - 1s 20us/step - loss: 0.2231 - acc: 0.9371\n",
      "Epoch 91/100\n",
      "31500/31500 [==============================] - ETA: 0s - loss: 0.2303 - acc: 0.932 - ETA: 0s - loss: 0.2257 - acc: 0.936 - ETA: 0s - loss: 0.2242 - acc: 0.937 - ETA: 0s - loss: 0.2265 - acc: 0.936 - ETA: 0s - loss: 0.2232 - acc: 0.937 - 1s 20us/step - loss: 0.2228 - acc: 0.9373\n",
      "Epoch 92/100\n",
      "31500/31500 [==============================] - ETA: 0s - loss: 0.2285 - acc: 0.935 - ETA: 0s - loss: 0.2279 - acc: 0.936 - ETA: 0s - loss: 0.2243 - acc: 0.937 - ETA: 0s - loss: 0.2244 - acc: 0.936 - ETA: 0s - loss: 0.2251 - acc: 0.937 - 1s 21us/step - loss: 0.2228 - acc: 0.9373\n",
      "Epoch 93/100\n",
      "31500/31500 [==============================] - ETA: 0s - loss: 0.2230 - acc: 0.935 - ETA: 0s - loss: 0.2249 - acc: 0.936 - ETA: 0s - loss: 0.2239 - acc: 0.935 - ETA: 0s - loss: 0.2237 - acc: 0.936 - ETA: 0s - loss: 0.2236 - acc: 0.937 - 1s 20us/step - loss: 0.2228 - acc: 0.9373\n",
      "Epoch 94/100\n",
      "31500/31500 [==============================] - ETA: 0s - loss: 0.2268 - acc: 0.936 - ETA: 0s - loss: 0.2236 - acc: 0.937 - ETA: 0s - loss: 0.2249 - acc: 0.937 - ETA: 0s - loss: 0.2237 - acc: 0.937 - ETA: 0s - loss: 0.2218 - acc: 0.937 - 1s 20us/step - loss: 0.2226 - acc: 0.9373\n",
      "Epoch 95/100\n",
      "31500/31500 [==============================] - ETA: 0s - loss: 0.2041 - acc: 0.940 - ETA: 0s - loss: 0.2111 - acc: 0.940 - ETA: 0s - loss: 0.2120 - acc: 0.940 - ETA: 0s - loss: 0.2186 - acc: 0.938 - ETA: 0s - loss: 0.2224 - acc: 0.937 - 1s 19us/step - loss: 0.2223 - acc: 0.9375\n",
      "Epoch 96/100\n",
      "31500/31500 [==============================] - ETA: 0s - loss: 0.2279 - acc: 0.935 - ETA: 0s - loss: 0.2234 - acc: 0.938 - ETA: 0s - loss: 0.2209 - acc: 0.937 - ETA: 0s - loss: 0.2200 - acc: 0.937 - ETA: 0s - loss: 0.2222 - acc: 0.937 - 1s 19us/step - loss: 0.2221 - acc: 0.9378\n",
      "Epoch 97/100\n",
      "31500/31500 [==============================] - ETA: 0s - loss: 0.2060 - acc: 0.942 - ETA: 0s - loss: 0.2223 - acc: 0.939 - ETA: 0s - loss: 0.2212 - acc: 0.939 - ETA: 0s - loss: 0.2181 - acc: 0.940 - ETA: 0s - loss: 0.2205 - acc: 0.938 - 1s 19us/step - loss: 0.2219 - acc: 0.9379\n",
      "Epoch 98/100\n",
      "31500/31500 [==============================] - ETA: 0s - loss: 0.2249 - acc: 0.937 - ETA: 0s - loss: 0.2235 - acc: 0.937 - ETA: 0s - loss: 0.2244 - acc: 0.937 - ETA: 0s - loss: 0.2227 - acc: 0.937 - ETA: 0s - loss: 0.2226 - acc: 0.937 - 1s 20us/step - loss: 0.2221 - acc: 0.9377\n",
      "Epoch 99/100\n",
      "31500/31500 [==============================] - ETA: 0s - loss: 0.2098 - acc: 0.938 - ETA: 0s - loss: 0.2110 - acc: 0.938 - ETA: 0s - loss: 0.2175 - acc: 0.938 - ETA: 0s - loss: 0.2199 - acc: 0.939 - ETA: 0s - loss: 0.2224 - acc: 0.938 - 1s 19us/step - loss: 0.2215 - acc: 0.9381\n",
      "Epoch 100/100\n",
      "31500/31500 [==============================] - ETA: 0s - loss: 0.2183 - acc: 0.937 - ETA: 0s - loss: 0.2222 - acc: 0.937 - ETA: 0s - loss: 0.2230 - acc: 0.936 - ETA: 0s - loss: 0.2237 - acc: 0.936 - ETA: 0s - loss: 0.2224 - acc: 0.937 - 1s 20us/step - loss: 0.2215 - acc: 0.9374\n"
     ]
    },
    {
     "data": {
      "text/plain": [
       "<keras.callbacks.History at 0x271044843c8>"
      ]
     },
     "execution_count": 31,
     "metadata": {},
     "output_type": "execute_result"
    }
   ],
   "source": [
    "model.fit(x_train, y_train2, epochs=100, batch_size=6000)"
   ]
  },
  {
   "cell_type": "code",
   "execution_count": 20,
   "metadata": {
    "ExecuteTime": {
     "end_time": "2019-05-22T11:43:42.045687Z",
     "start_time": "2019-05-22T11:43:41.767424Z"
    }
   },
   "outputs": [
    {
     "data": {
      "text/plain": [
       "array([ 4.33829352e-02, -4.46624309e-03, -4.50253040e-02,  3.29263508e-04,\n",
       "        4.61669490e-02, -1.43000111e-02, -4.21852842e-02,  8.44464228e-02,\n",
       "        2.42907032e-02, -8.05546492e-02, -1.75933316e-02, -7.63718784e-03,\n",
       "       -1.05737589e-01, -6.04188554e-02, -6.35604709e-02,  3.28758396e-02,\n",
       "        8.06671456e-02, -8.48062783e-02, -4.74700853e-02, -4.28755060e-02,\n",
       "        8.27511773e-02, -7.03152046e-02,  1.80264562e-03,  8.04871395e-02,\n",
       "       -3.17697227e-03, -7.61545151e-02, -1.63201243e-02,  5.04471883e-02,\n",
       "        9.85391438e-04, -6.06754348e-02,  7.76425526e-02, -8.41787755e-02,\n",
       "       -2.38059536e-02, -1.36592165e-02, -1.11400761e-01, -2.00690240e-01,\n",
       "       -2.00670734e-01, -3.06684345e-01, -3.58892471e-01, -4.36525077e-01,\n",
       "       -3.97529244e-01, -4.56251234e-01, -4.72132385e-01,  1.08378313e-01,\n",
       "        9.58641842e-02,  2.27212071e-01, -3.11278999e-01, -2.54122317e-01,\n",
       "       -2.94631124e-01, -1.83472306e-01, -1.03887223e-01, -1.09141216e-01,\n",
       "        1.45554915e-02,  6.69022724e-02, -7.28329867e-02, -1.64672732e-03,\n",
       "       -1.54472291e-02,  2.63498649e-02, -4.04243581e-02,  1.87296748e-01,\n",
       "        1.21542715e-01, -2.56590843e-02, -2.81220078e-01, -8.86911377e-02,\n",
       "       -4.03181791e-01, -4.01715547e-01, -5.60565174e-01, -4.59798634e-01,\n",
       "       -4.98716980e-01, -5.39657950e-01, -5.07597446e-01, -6.10848546e-01,\n",
       "       -4.50246811e-01, -6.25724435e-01, -5.56305587e-01, -6.09441578e-01,\n",
       "       -5.02523541e-01, -6.12307072e-01, -4.96268749e-01, -4.08300370e-01,\n",
       "       -2.62209535e-01, -9.47510675e-02,  2.36874893e-02, -5.09213395e-02,\n",
       "       -8.93690437e-03, -1.33100972e-02, -3.25341448e-02,  1.87125921e-01,\n",
       "        2.52177771e-02, -3.51092309e-01, -3.60607594e-01, -3.03901434e-01,\n",
       "       -4.22741503e-01, -1.04969524e-01, -2.30674654e-01, -2.58447863e-02,\n",
       "       -2.39321649e-01, -2.08243534e-01, -1.92396685e-01, -4.62388061e-02,\n",
       "        5.96714169e-02, -5.12689585e-03, -3.13414872e-01, -1.96635514e-01,\n",
       "       -2.55335122e-01, -1.28697649e-01, -3.15482259e-01, -3.91457766e-01,\n",
       "       -4.09080908e-02, -3.44191603e-02, -2.11042598e-01,  7.01681301e-02,\n",
       "       -3.10485512e-02, -4.75696661e-02, -1.28135383e-01,  2.21586287e-01,\n",
       "       -4.02450025e-01, -4.29426372e-01, -3.93774122e-01, -3.03484470e-01,\n",
       "       -1.69401944e-01, -7.44733214e-02, -1.72012761e-01,  8.35526958e-02,\n",
       "       -1.13956101e-01, -5.36336266e-02, -2.24754475e-02, -1.14455335e-01,\n",
       "       -7.83819184e-02, -1.48277180e-02, -8.15275237e-02, -1.68309733e-01,\n",
       "       -2.33868957e-01, -1.43359914e-01, -1.19488180e-01, -5.60736246e-02,\n",
       "       -1.85201660e-01, -6.06231749e-01, -3.05108279e-01, -3.91536579e-02,\n",
       "        6.26868233e-02, -4.72509116e-02, -3.58451366e-01, -4.38673407e-01,\n",
       "       -4.74026918e-01, -3.16833198e-01, -1.81090757e-01, -1.82708487e-01,\n",
       "        5.93947712e-03, -1.64324343e-01,  9.32980608e-03, -1.09396666e-01,\n",
       "       -7.46877491e-02,  7.89340883e-02,  1.58615544e-01,  1.00003719e-01,\n",
       "        1.75303832e-01,  1.65402502e-01,  2.37498328e-01,  2.00435773e-01,\n",
       "       -5.93582615e-02, -5.54213077e-02,  1.57142043e-01, -8.80481601e-02,\n",
       "       -1.86896041e-01, -5.70691824e-01, -5.00654757e-01, -4.14302349e-02,\n",
       "        5.18178716e-02, -6.11382611e-02, -2.37857699e-01, -4.20894831e-01,\n",
       "       -4.73698258e-01,  1.59031510e-01,  6.87482059e-02, -1.07273512e-01,\n",
       "       -1.59303427e-01, -2.04816818e-01, -3.53273265e-02, -6.63153455e-02,\n",
       "        8.06497503e-03,  7.94186816e-02,  1.25185817e-01,  2.19868254e-02,\n",
       "        1.30370602e-01,  1.99846879e-01,  2.33739749e-01,  1.73328817e-01,\n",
       "       -3.38051766e-02,  3.02956682e-02,  1.34626582e-01, -6.68404065e-03,\n",
       "       -2.79840589e-01, -6.13336086e-01, -5.46776175e-01,  2.47141078e-01,\n",
       "       -6.91061392e-02, -2.49405250e-01, -3.85720402e-01, -3.96728843e-01,\n",
       "       -4.64857250e-01,  2.28559505e-02, -8.69326890e-02, -2.09074020e-01,\n",
       "       -1.47554770e-01, -8.80072191e-02,  3.46701555e-02,  1.40132725e-01,\n",
       "       -4.43891250e-02,  7.47868419e-02,  1.64335128e-02, -5.65574318e-03,\n",
       "        6.56010062e-02,  2.04957202e-01,  2.62715936e-01,  9.29316953e-02,\n",
       "        2.75603216e-02,  3.83998081e-02,  3.69686857e-02,  2.20062047e-01,\n",
       "       -1.70567721e-01, -4.07275140e-01, -6.71828926e-01, -5.50634786e-02,\n",
       "        2.87371844e-01, -2.95814991e-01, -2.71966457e-01, -3.15698236e-01,\n",
       "       -4.31381404e-01, -4.59198169e-02, -2.12490577e-02, -1.44267559e-01,\n",
       "       -3.92900109e-02, -1.17780983e-01, -4.25909720e-02,  3.07748448e-02,\n",
       "       -4.70702257e-03, -2.41531897e-02,  5.58635965e-02,  5.31354770e-02,\n",
       "        2.85789251e-01,  2.60537028e-01,  2.75645286e-01,  6.62424788e-02,\n",
       "        2.19758227e-01, -1.17706545e-02,  9.36011598e-02,  1.09087564e-01,\n",
       "       -5.54526336e-02, -5.12648344e-01, -6.38185740e-01, -3.92186791e-01,\n",
       "       -1.42565891e-01, -3.43110919e-01,  6.99343532e-02, -4.05737013e-01,\n",
       "       -1.79505646e-01, -2.89106257e-02, -2.16204837e-01, -1.28879011e-01,\n",
       "       -1.58547297e-01,  3.62159349e-02,  1.00279264e-01,  2.55546812e-03,\n",
       "        8.66949335e-02,  1.12335108e-01, -5.07353945e-03,  1.70523999e-04,\n",
       "        1.16004691e-01,  2.83930570e-01,  1.75702542e-01,  2.67887950e-01,\n",
       "        9.71829742e-02,  8.91921204e-03,  4.03372757e-03,  1.79447994e-01,\n",
       "       -1.82260171e-01, -6.18218899e-01, -4.98174012e-01, -2.97084391e-01,\n",
       "       -1.55825734e-01, -2.64783800e-01,  2.02004299e-01, -9.41507444e-02,\n",
       "       -1.02682687e-01, -7.21907690e-02, -1.51205927e-01, -1.31627172e-01,\n",
       "        4.36792262e-02, -1.51865166e-02,  1.42833702e-02,  3.71922478e-02,\n",
       "        1.08559191e-01,  1.47808656e-01, -6.46720976e-02, -2.39722788e-01,\n",
       "       -2.16525078e-01,  1.11819915e-02,  1.45067498e-01,  1.88314095e-01,\n",
       "        1.42451018e-01,  1.46888942e-01,  2.00347200e-01,  2.05184519e-01,\n",
       "       -8.02517086e-02, -4.87326473e-01, -4.45642382e-01, -3.79955053e-01,\n",
       "       -7.14044422e-02, -3.56068581e-01, -4.83535647e-01,  1.49053959e-02,\n",
       "       -2.71974176e-01, -3.95886526e-02, -1.09084137e-01,  7.16126785e-02,\n",
       "       -2.59106308e-02, -1.33027598e-01,  1.30744986e-02,  4.15141694e-02,\n",
       "        7.74419829e-02, -8.58264118e-02, -3.34635764e-01, -4.20219004e-01,\n",
       "       -5.04893303e-01, -2.64915287e-01, -6.21876903e-02,  3.24003957e-02,\n",
       "        8.12144950e-02,  1.51334003e-01,  1.98906615e-01,  2.68489122e-01,\n",
       "        1.74841404e-01, -5.00233412e-01, -5.55774152e-01, -1.71169654e-01,\n",
       "        2.65775770e-02, -3.25170368e-01, -4.23192680e-01,  3.46263461e-02,\n",
       "       -1.09721921e-01,  4.50948812e-02,  3.20095345e-02,  1.01582250e-02,\n",
       "       -9.23272371e-02, -8.29346925e-02, -5.79480082e-02,  2.36337408e-02,\n",
       "       -5.88748567e-02, -2.09529951e-01, -3.88017237e-01, -4.73000914e-01,\n",
       "       -5.51518261e-01, -1.84644729e-01, -1.49469003e-01,  6.87433733e-03,\n",
       "        6.35015145e-02,  1.25918701e-01,  2.39398211e-01,  3.76139820e-01,\n",
       "        3.04602504e-01, -2.08141491e-01, -3.41906250e-01, -2.68900216e-01,\n",
       "       -1.32110044e-02, -1.99968696e-01, -6.63848221e-02, -3.77514437e-02,\n",
       "       -3.47824544e-02,  1.14641143e-02,  1.84462100e-01,  5.78778982e-02,\n",
       "        4.87060025e-02,  1.23966318e-02,  3.17361020e-02,  1.72769241e-02,\n",
       "        3.06936540e-02, -3.69128942e-01, -5.26651978e-01, -6.23545408e-01,\n",
       "       -6.26781166e-01, -2.67016023e-01, -7.49770552e-02, -6.88008517e-02,\n",
       "       -7.11470321e-02,  1.18943833e-01,  2.61168689e-01,  3.48768026e-01,\n",
       "        4.15025324e-01, -3.43824290e-02, -3.58575433e-01, -2.38084972e-01,\n",
       "       -6.01032637e-02, -2.20199645e-01, -4.11099732e-01, -4.14850652e-01,\n",
       "       -9.91588458e-02,  5.59938289e-02,  2.00968117e-01,  2.11424425e-01,\n",
       "        1.02745503e-01,  1.00971416e-01,  1.21973917e-01,  1.06958456e-01,\n",
       "       -1.14435524e-01, -3.14486027e-01, -5.07640839e-01, -5.93573153e-01,\n",
       "       -6.00173235e-01, -3.02871227e-01, -2.31016912e-02, -9.91538018e-02,\n",
       "        7.20983073e-02,  4.29455377e-02,  1.88187897e-01,  2.37223700e-01,\n",
       "        3.07794839e-01,  2.42904164e-02, -4.95180637e-01, -2.92381227e-01,\n",
       "        6.70253560e-02, -2.71135829e-02, -3.31870079e-01, -6.11611962e-01,\n",
       "       -1.31254956e-01,  1.28338203e-01,  1.79247811e-01,  2.24498913e-01,\n",
       "        1.71152040e-01,  2.05826655e-01,  1.28807232e-01,  5.08978078e-03,\n",
       "       -2.61382431e-01, -4.59788352e-01, -5.42408884e-01, -5.08673131e-01,\n",
       "       -4.40065593e-01, -2.04749227e-01, -2.83795856e-02,  1.49986729e-01,\n",
       "       -7.33610541e-02,  1.03395954e-01,  2.31343612e-01,  2.26689428e-01,\n",
       "        3.28732193e-01,  1.44563243e-02, -4.48252320e-01, -3.11467886e-01,\n",
       "       -6.17558360e-02, -8.98347348e-02, -4.08169150e-01, -5.40089369e-01,\n",
       "        2.42620911e-02,  2.27598965e-01,  1.87746763e-01,  1.18834935e-01,\n",
       "        3.16210151e-01,  2.27576822e-01,  2.00988933e-01,  1.39113674e-02,\n",
       "       -2.65546769e-01, -6.25979006e-01, -5.48136950e-01, -5.05920887e-01,\n",
       "       -3.97163272e-01, -1.76514059e-01, -1.43083336e-03,  4.78244610e-02,\n",
       "       -4.40766253e-02,  1.42783085e-02,  1.91345543e-01,  2.28609547e-01,\n",
       "        1.28625154e-01, -2.39210472e-01, -4.21566099e-01, -2.93900192e-01,\n",
       "        5.79278246e-02, -1.87212437e-01, -4.86069947e-01, -3.67996037e-01,\n",
       "       -4.18981686e-02,  1.19003646e-01,  1.48904845e-01,  7.67188147e-02,\n",
       "        1.70046866e-01,  3.06912392e-01,  3.34165782e-01,  9.44776312e-02,\n",
       "       -4.10426438e-01, -5.10507286e-01, -4.88130122e-01, -3.18766892e-01,\n",
       "       -1.51972175e-01,  5.78984991e-02,  5.43489903e-02, -3.64806615e-02,\n",
       "        4.15564738e-02,  7.04391152e-02,  8.92502293e-02,  4.99055907e-02,\n",
       "       -9.21878517e-02,  5.13303280e-03, -3.78853261e-01,  1.13098890e-01,\n",
       "       -2.83503801e-01, -2.56691009e-01, -3.93902004e-01, -3.29008162e-01,\n",
       "       -1.10526927e-01,  1.03243859e-02,  7.62503445e-02, -2.41373014e-02,\n",
       "        1.88092634e-01,  1.83114350e-01,  3.19359213e-01,  6.52242973e-02,\n",
       "       -2.42480949e-01, -4.40822721e-01, -3.56755555e-01, -9.99539867e-02,\n",
       "       -7.34626576e-02, -8.38607773e-02,  4.25267145e-02,  3.27384565e-04,\n",
       "       -1.01693764e-01,  2.85161808e-02,  1.78708434e-01,  1.02010757e-01,\n",
       "       -2.65959889e-01, -2.01537043e-01, -3.42154294e-01, -2.92220145e-01,\n",
       "        6.34985790e-02, -9.77983922e-02, -3.81978989e-01, -2.54329383e-01,\n",
       "       -1.11997947e-01, -5.56717813e-03,  3.26421410e-02,  1.14099555e-01,\n",
       "       -4.29339670e-02,  1.26005635e-01,  3.42983842e-01,  2.50992566e-01,\n",
       "        3.16609927e-02, -2.17034325e-01, -1.36756420e-01, -6.04976974e-02,\n",
       "        1.37742236e-02,  2.64159143e-02,  3.61320525e-02, -6.33591786e-02,\n",
       "        8.08318332e-03,  9.66657698e-02,  4.31107208e-02, -3.09265535e-02,\n",
       "       -1.80651248e-01, -1.32564634e-01, -4.06031132e-01, -1.91655517e-01,\n",
       "        2.22765133e-02, -2.18653738e-01, -4.61326510e-01, -2.38900080e-01,\n",
       "       -8.96686390e-02,  1.31012857e-01,  1.32178754e-01,  1.57782286e-01,\n",
       "       -4.41090055e-02,  1.20025814e-01,  4.02522355e-01,  2.08859757e-01,\n",
       "        2.06310034e-01,  6.76856339e-02,  3.46414223e-02,  2.78963726e-02,\n",
       "       -1.24781244e-01, -4.84447330e-02, -1.12551205e-01, -1.29312146e-02,\n",
       "        3.45678627e-02,  1.54490964e-02,  8.06036592e-02, -1.99165151e-01,\n",
       "       -2.71059692e-01, -4.59475458e-01,  8.56057256e-02, -1.35435417e-01,\n",
       "       -1.14732295e-01, -6.68914020e-02, -3.76055270e-01, -1.16138577e-01,\n",
       "       -1.52866505e-02,  9.46739092e-02,  5.92214204e-02,  9.28339437e-02,\n",
       "        7.21858116e-03, -1.23353964e-02,  2.68558860e-01,  2.41742879e-01,\n",
       "        2.90227950e-01,  7.13615073e-03,  5.43698221e-02, -4.35696095e-02,\n",
       "       -6.03161901e-02, -9.53204259e-02, -1.34093657e-01, -1.61385909e-01,\n",
       "       -1.95744663e-01,  1.03469919e-02, -1.45210177e-01, -2.67064631e-01,\n",
       "       -1.58779979e-01, -3.19477141e-01,  2.75905192e-01,  1.18626401e-01,\n",
       "       -1.95780955e-02, -9.49642286e-02, -3.05513978e-01, -2.84380287e-01,\n",
       "       -3.34496528e-01,  2.89218090e-02,  7.42744282e-02,  1.48798659e-01,\n",
       "        1.14790902e-01,  1.09758466e-01,  1.08791374e-01,  1.89824000e-01,\n",
       "        2.01093391e-01,  2.82827109e-01,  6.94522858e-02,  8.78154486e-02,\n",
       "       -5.11968695e-03,  8.75636190e-02, -7.89288878e-02, -7.39612281e-02,\n",
       "       -5.10322377e-02, -2.75448002e-02, -7.88345933e-02, -1.19836181e-01,\n",
       "       -3.05584431e-01, -1.89923167e-01,  2.99703091e-01,  1.50945753e-01,\n",
       "       -5.73841594e-02,  5.15277311e-02, -3.58346760e-01, -3.92096937e-01,\n",
       "       -5.13292730e-01, -2.96130329e-01, -9.44645181e-02, -3.65795344e-02,\n",
       "        4.08167578e-02,  4.42664512e-02,  2.35159472e-01,  2.22069055e-01,\n",
       "        3.13493013e-01,  2.06996575e-01,  1.79329172e-01,  1.09380022e-01,\n",
       "        1.41090229e-02,  1.77659504e-02, -2.80440971e-02, -1.64901614e-01,\n",
       "       -1.17476262e-01, -2.31943846e-01, -1.69439450e-01, -1.40376702e-01,\n",
       "       -2.42010459e-01, -2.06797704e-01, -1.87355518e-01, -3.01266573e-02,\n",
       "        3.08125466e-02, -5.01358025e-02, -3.11684847e-01, -2.85960615e-01,\n",
       "       -2.09833354e-01, -4.03347939e-01, -2.45490804e-01, -2.70089298e-01,\n",
       "       -1.69318095e-01, -1.81303889e-01,  1.53550063e-03, -1.01748496e-01,\n",
       "        1.47304088e-01,  1.67910978e-01,  7.92423934e-02,  2.02953275e-02,\n",
       "       -1.03057042e-01, -1.75045118e-01, -2.74995327e-01, -1.65121868e-01,\n",
       "       -3.12331140e-01, -3.51521552e-01, -3.29008728e-01, -5.13390541e-01,\n",
       "       -3.34746301e-01, -2.22984776e-01, -7.37661645e-02, -2.85630412e-02,\n",
       "        3.54977176e-02, -3.17713134e-02, -2.40763083e-01, -2.49757901e-01,\n",
       "       -4.59253252e-01, -4.56811219e-01, -4.04081851e-01, -3.45767945e-01,\n",
       "       -3.54211539e-01, -4.17572439e-01, -4.68925029e-01, -5.58777630e-01,\n",
       "       -5.56157112e-01, -5.18817902e-01, -6.39316499e-01, -6.31081402e-01,\n",
       "       -4.44627672e-01, -5.26949704e-01, -5.66080689e-01, -4.94819939e-01,\n",
       "       -4.12581563e-01, -5.46586037e-01, -3.91327977e-01, -5.45507669e-01,\n",
       "       -3.50330472e-01, -9.79364887e-02,  9.79891047e-03, -3.79922204e-02,\n",
       "        5.36341295e-02,  5.36046997e-02, -6.26978129e-02, -3.43207978e-02,\n",
       "       -3.30744147e-01, -3.18858534e-01, -3.78994852e-01, -3.49097133e-01,\n",
       "       -4.47324187e-01, -5.95249474e-01, -5.56777656e-01, -5.37941515e-01,\n",
       "       -5.55410504e-01, -5.47142744e-01, -3.76284152e-01, -5.35381794e-01,\n",
       "       -5.96722245e-01, -4.55642551e-01, -3.89053106e-01, -4.74322438e-01,\n",
       "       -2.48800635e-01, -3.91907632e-01, -3.17919344e-01, -3.67277205e-01,\n",
       "       -1.46675259e-01,  1.19509511e-02, -3.73872444e-02,  5.77407852e-02,\n",
       "        8.12774375e-02, -1.23222545e-02,  3.79752442e-02,  3.34699973e-02,\n",
       "        8.06814060e-02, -1.51653484e-01, -2.45254859e-01, -2.83100903e-01,\n",
       "       -3.47850621e-01, -3.21900964e-01, -3.80005777e-01, -4.12964016e-01,\n",
       "       -5.02871573e-01, -2.93324888e-01, -4.92959201e-01, -3.07890475e-01,\n",
       "       -3.91566575e-01, -3.90044808e-01, -3.46526980e-01, -2.59074777e-01,\n",
       "       -2.46489391e-01, -2.24343196e-01, -2.77643740e-01, -2.23776534e-01,\n",
       "        7.97572359e-02,  9.99614596e-03, -4.20884974e-02,  2.83644944e-02],\n",
       "      dtype=float32)"
      ]
     },
     "execution_count": 20,
     "metadata": {},
     "output_type": "execute_result"
    }
   ],
   "source": [
    "model.get_layer(index=0).get_weights()[0][:,0]"
   ]
  },
  {
   "cell_type": "code",
   "execution_count": 136,
   "metadata": {
    "ExecuteTime": {
     "end_time": "2019-05-22T18:25:42.434342Z",
     "start_time": "2019-05-22T18:25:41.692308Z"
    }
   },
   "outputs": [
    {
     "data": {
      "text/plain": [
       "<matplotlib.image.AxesImage at 0x2710576f7b8>"
      ]
     },
     "execution_count": 136,
     "metadata": {},
     "output_type": "execute_result"
    },
    {
     "data": {
      "image/png": "[encoded data removed]",
      "text/plain": [
       "<Figure size 432x288 with 1 Axes>"
      ]
     },
     "metadata": {
      "needs_background": "light"
     },
     "output_type": "display_data"
    }
   ],
   "source": [
    "weight = np.array(model.get_layer(index=0).get_weights()[0][:,1]).reshape(28,28)\n",
    "fig, ax =plt.subplots()\n",
    "ax.imshow(weight)"
   ]
  },
  {
   "cell_type": "code",
   "execution_count": null,
   "metadata": {},
   "outputs": [],
   "source": [
    "fig, ax =plt.subplots()\n",
    "ax.imshow(weight)"
   ]
  },
  {
   "cell_type": "code",
   "execution_count": 81,
   "metadata": {
    "ExecuteTime": {
     "end_time": "2019-05-22T17:27:31.529203Z",
     "start_time": "2019-05-22T17:27:29.874849Z"
    }
   },
   "outputs": [
    {
     "name": "stdout",
     "output_type": "stream",
     "text": [
      "accuracy score = 0.9222857142857143 \n"
     ]
    },
    {
     "data": {
      "image/png": "[encoded data removed]",
      "text/plain": [
       "<Figure size 432x288 with 2 Axes>"
      ]
     },
     "metadata": {
      "needs_background": "light"
     },
     "output_type": "display_data"
    }
   ],
   "source": [
    "plot_confusion_matrix(y_test, model.predict_classes(x_test),classes=np.arange(10))"
   ]
  },
  {
   "cell_type": "markdown",
   "metadata": {},
   "source": [
    "# Test with a second model = 2 layer model\n"
   ]
  },
  {
   "cell_type": "code",
   "execution_count": 43,
   "metadata": {
    "ExecuteTime": {
     "end_time": "2019-05-22T11:52:32.545628Z",
     "start_time": "2019-05-22T11:52:32.249276Z"
    }
   },
   "outputs": [],
   "source": [
    "model2 = Sequential()\n",
    "model2.add(Dense(256,activation =\"relu\",input_shape = (784,)))\n",
    "model2.add(Dense(10,activation =\"softmax\"))"
   ]
  },
  {
   "cell_type": "code",
   "execution_count": 44,
   "metadata": {
    "ExecuteTime": {
     "end_time": "2019-05-22T11:52:33.659711Z",
     "start_time": "2019-05-22T11:52:33.369310Z"
    }
   },
   "outputs": [],
   "source": [
    "model2.compile(optimizer = optimizer , loss = \"categorical_crossentropy\", metrics=[\"accuracy\"])"
   ]
  },
  {
   "cell_type": "code",
   "execution_count": 45,
   "metadata": {
    "ExecuteTime": {
     "end_time": "2019-05-22T11:53:51.779625Z",
     "start_time": "2019-05-22T11:52:34.171149Z"
    },
    "scrolled": true
   },
   "outputs": [
    {
     "name": "stdout",
     "output_type": "stream",
     "text": [
      "Epoch 1/100\n",
      "31500/31500 [==============================] - ETA: 1s - loss: 2.3569 - acc: 0.118 - ETA: 0s - loss: 2.0722 - acc: 0.350 - ETA: 0s - loss: 1.8567 - acc: 0.483 - ETA: 0s - loss: 1.6910 - acc: 0.546 - ETA: 0s - loss: 1.5656 - acc: 0.588 - 1s 29us/step - loss: 1.5382 - acc: 0.5945\n",
      "Epoch 2/100\n",
      "31500/31500 [==============================] - ETA: 0s - loss: 0.8458 - acc: 0.814 - ETA: 0s - loss: 0.8128 - acc: 0.816 - ETA: 0s - loss: 0.7832 - acc: 0.819 - ETA: 0s - loss: 0.7635 - acc: 0.821 - ETA: 0s - loss: 0.7449 - acc: 0.821 - 1s 25us/step - loss: 0.7409 - acc: 0.8223\n",
      "Epoch 3/100\n",
      "31500/31500 [==============================] - ETA: 0s - loss: 0.6344 - acc: 0.835 - ETA: 0s - loss: 0.6101 - acc: 0.846 - ETA: 0s - loss: 0.5915 - acc: 0.853 - ETA: 0s - loss: 0.5795 - acc: 0.855 - ETA: 0s - loss: 0.5676 - acc: 0.859 - 1s 25us/step - loss: 0.5643 - acc: 0.8604\n",
      "Epoch 4/100\n",
      "31500/31500 [==============================] - ETA: 0s - loss: 0.4902 - acc: 0.888 - ETA: 0s - loss: 0.4829 - acc: 0.882 - ETA: 0s - loss: 0.4769 - acc: 0.882 - ETA: 0s - loss: 0.4757 - acc: 0.881 - ETA: 0s - loss: 0.4695 - acc: 0.883 - 1s 26us/step - loss: 0.4678 - acc: 0.8830\n",
      "Epoch 5/100\n",
      "31500/31500 [==============================] - ETA: 0s - loss: 0.4136 - acc: 0.900 - ETA: 0s - loss: 0.4114 - acc: 0.896 - ETA: 0s - loss: 0.4132 - acc: 0.893 - ETA: 0s - loss: 0.4152 - acc: 0.891 - ETA: 0s - loss: 0.4125 - acc: 0.892 - 1s 24us/step - loss: 0.4134 - acc: 0.8922\n",
      "Epoch 6/100\n",
      "31500/31500 [==============================] - ETA: 0s - loss: 0.3851 - acc: 0.897 - ETA: 0s - loss: 0.3862 - acc: 0.896 - ETA: 0s - loss: 0.3823 - acc: 0.898 - ETA: 0s - loss: 0.3832 - acc: 0.897 - ETA: 0s - loss: 0.3838 - acc: 0.896 - 1s 25us/step - loss: 0.3843 - acc: 0.8959\n",
      "Epoch 7/100\n",
      "31500/31500 [==============================] - ETA: 0s - loss: 0.3718 - acc: 0.894 - ETA: 0s - loss: 0.3658 - acc: 0.898 - ETA: 0s - loss: 0.3567 - acc: 0.901 - ETA: 0s - loss: 0.3525 - acc: 0.903 - ETA: 0s - loss: 0.3527 - acc: 0.902 - 1s 26us/step - loss: 0.3501 - acc: 0.9036\n",
      "Epoch 8/100\n",
      "31500/31500 [==============================] - ETA: 0s - loss: 0.3223 - acc: 0.913 - ETA: 0s - loss: 0.3227 - acc: 0.915 - ETA: 0s - loss: 0.3170 - acc: 0.915 - ETA: 0s - loss: 0.3126 - acc: 0.917 - ETA: 0s - loss: 0.3134 - acc: 0.916 - 1s 26us/step - loss: 0.3140 - acc: 0.9163\n",
      "Epoch 9/100\n",
      "31500/31500 [==============================] - ETA: 0s - loss: 0.3087 - acc: 0.916 - ETA: 0s - loss: 0.3057 - acc: 0.918 - ETA: 0s - loss: 0.3053 - acc: 0.916 - ETA: 0s - loss: 0.3096 - acc: 0.915 - ETA: 0s - loss: 0.3129 - acc: 0.913 - 1s 25us/step - loss: 0.3136 - acc: 0.9127\n",
      "Epoch 10/100\n",
      "31500/31500 [==============================] - ETA: 0s - loss: 0.3006 - acc: 0.917 - ETA: 0s - loss: 0.2947 - acc: 0.918 - ETA: 0s - loss: 0.2904 - acc: 0.920 - ETA: 0s - loss: 0.2859 - acc: 0.921 - ETA: 0s - loss: 0.2842 - acc: 0.921 - 1s 24us/step - loss: 0.2856 - acc: 0.9217\n",
      "Epoch 11/100\n",
      "31500/31500 [==============================] - ETA: 0s - loss: 0.3044 - acc: 0.915 - ETA: 0s - loss: 0.2872 - acc: 0.918 - ETA: 0s - loss: 0.2840 - acc: 0.919 - ETA: 0s - loss: 0.2786 - acc: 0.921 - ETA: 0s - loss: 0.2752 - acc: 0.922 - 1s 24us/step - loss: 0.2746 - acc: 0.9228\n",
      "Epoch 12/100\n",
      "31500/31500 [==============================] - ETA: 0s - loss: 0.2535 - acc: 0.925 - ETA: 0s - loss: 0.2634 - acc: 0.927 - ETA: 0s - loss: 0.2600 - acc: 0.926 - ETA: 0s - loss: 0.2602 - acc: 0.926 - ETA: 0s - loss: 0.2567 - acc: 0.927 - 1s 25us/step - loss: 0.2566 - acc: 0.9281\n",
      "Epoch 13/100\n",
      "31500/31500 [==============================] - ETA: 0s - loss: 0.2445 - acc: 0.929 - ETA: 0s - loss: 0.2420 - acc: 0.933 - ETA: 0s - loss: 0.2427 - acc: 0.931 - ETA: 0s - loss: 0.2453 - acc: 0.931 - ETA: 0s - loss: 0.2508 - acc: 0.929 - 1s 25us/step - loss: 0.2510 - acc: 0.9297\n",
      "Epoch 14/100\n",
      "31500/31500 [==============================] - ETA: 0s - loss: 0.2477 - acc: 0.926 - ETA: 0s - loss: 0.2452 - acc: 0.929 - ETA: 0s - loss: 0.2483 - acc: 0.928 - ETA: 0s - loss: 0.2499 - acc: 0.929 - ETA: 0s - loss: 0.2496 - acc: 0.928 - 1s 25us/step - loss: 0.2479 - acc: 0.9292\n",
      "Epoch 15/100\n",
      "31500/31500 [==============================] - ETA: 0s - loss: 0.2239 - acc: 0.935 - ETA: 0s - loss: 0.2250 - acc: 0.935 - ETA: 0s - loss: 0.2308 - acc: 0.933 - ETA: 0s - loss: 0.2303 - acc: 0.934 - ETA: 0s - loss: 0.2291 - acc: 0.935 - 1s 25us/step - loss: 0.2311 - acc: 0.9345\n",
      "Epoch 16/100\n",
      "31500/31500 [==============================] - ETA: 0s - loss: 0.2475 - acc: 0.930 - ETA: 0s - loss: 0.2312 - acc: 0.934 - ETA: 0s - loss: 0.2287 - acc: 0.935 - ETA: 0s - loss: 0.2259 - acc: 0.936 - ETA: 0s - loss: 0.2246 - acc: 0.936 - 1s 25us/step - loss: 0.2241 - acc: 0.9364\n",
      "Epoch 17/100\n",
      "31500/31500 [==============================] - ETA: 0s - loss: 0.2124 - acc: 0.939 - ETA: 0s - loss: 0.2137 - acc: 0.938 - ETA: 0s - loss: 0.2114 - acc: 0.941 - ETA: 0s - loss: 0.2108 - acc: 0.940 - ETA: 0s - loss: 0.2099 - acc: 0.941 - 1s 24us/step - loss: 0.2102 - acc: 0.9410\n",
      "Epoch 18/100\n",
      "31500/31500 [==============================] - ETA: 0s - loss: 0.2156 - acc: 0.941 - ETA: 0s - loss: 0.2179 - acc: 0.937 - ETA: 0s - loss: 0.2117 - acc: 0.940 - ETA: 0s - loss: 0.2070 - acc: 0.941 - ETA: 0s - loss: 0.2058 - acc: 0.942 - 1s 24us/step - loss: 0.2065 - acc: 0.9415\n",
      "Epoch 19/100\n",
      "31500/31500 [==============================] - ETA: 0s - loss: 0.2001 - acc: 0.945 - ETA: 0s - loss: 0.2009 - acc: 0.944 - ETA: 0s - loss: 0.2027 - acc: 0.944 - ETA: 0s - loss: 0.2038 - acc: 0.942 - ETA: 0s - loss: 0.2035 - acc: 0.942 - 1s 25us/step - loss: 0.2027 - acc: 0.9429\n",
      "Epoch 20/100\n",
      "31500/31500 [==============================] - ETA: 0s - loss: 0.2035 - acc: 0.944 - ETA: 0s - loss: 0.1982 - acc: 0.944 - ETA: 0s - loss: 0.1919 - acc: 0.945 - ETA: 0s - loss: 0.1897 - acc: 0.946 - ETA: 0s - loss: 0.1895 - acc: 0.946 - 1s 25us/step - loss: 0.1885 - acc: 0.9467\n",
      "Epoch 21/100\n",
      "31500/31500 [==============================] - ETA: 0s - loss: 0.1731 - acc: 0.953 - ETA: 0s - loss: 0.1754 - acc: 0.951 - ETA: 0s - loss: 0.1750 - acc: 0.951 - ETA: 0s - loss: 0.1739 - acc: 0.952 - ETA: 0s - loss: 0.1762 - acc: 0.951 - 1s 25us/step - loss: 0.1771 - acc: 0.9513\n",
      "Epoch 22/100\n",
      "31500/31500 [==============================] - ETA: 0s - loss: 0.1823 - acc: 0.948 - ETA: 0s - loss: 0.1852 - acc: 0.947 - ETA: 0s - loss: 0.1866 - acc: 0.946 - ETA: 0s - loss: 0.1951 - acc: 0.944 - ETA: 0s - loss: 0.1932 - acc: 0.943 - 1s 25us/step - loss: 0.1924 - acc: 0.9441\n",
      "Epoch 23/100\n",
      "31500/31500 [==============================] - ETA: 0s - loss: 0.1721 - acc: 0.952 - ETA: 0s - loss: 0.1679 - acc: 0.953 - ETA: 0s - loss: 0.1658 - acc: 0.953 - ETA: 0s - loss: 0.1657 - acc: 0.953 - ETA: 0s - loss: 0.1673 - acc: 0.953 - 1s 25us/step - loss: 0.1675 - acc: 0.9530\n",
      "Epoch 24/100\n",
      "31500/31500 [==============================] - ETA: 0s - loss: 0.1785 - acc: 0.950 - ETA: 0s - loss: 0.1774 - acc: 0.950 - ETA: 0s - loss: 0.1719 - acc: 0.951 - ETA: 0s - loss: 0.1697 - acc: 0.952 - ETA: 0s - loss: 0.1707 - acc: 0.952 - 1s 25us/step - loss: 0.1714 - acc: 0.9517\n",
      "Epoch 25/100\n",
      "31500/31500 [==============================] - ETA: 0s - loss: 0.1758 - acc: 0.950 - ETA: 0s - loss: 0.1695 - acc: 0.951 - ETA: 0s - loss: 0.1647 - acc: 0.953 - ETA: 0s - loss: 0.1625 - acc: 0.955 - ETA: 0s - loss: 0.1610 - acc: 0.955 - 1s 26us/step - loss: 0.1599 - acc: 0.9559\n",
      "Epoch 26/100\n",
      "31500/31500 [==============================] - ETA: 0s - loss: 0.1671 - acc: 0.950 - ETA: 0s - loss: 0.1665 - acc: 0.952 - ETA: 0s - loss: 0.1675 - acc: 0.952 - ETA: 0s - loss: 0.1670 - acc: 0.952 - ETA: 0s - loss: 0.1639 - acc: 0.953 - 1s 25us/step - loss: 0.1626 - acc: 0.9537\n",
      "Epoch 27/100\n",
      "31500/31500 [==============================] - ETA: 0s - loss: 0.1441 - acc: 0.961 - ETA: 0s - loss: 0.1454 - acc: 0.959 - ETA: 0s - loss: 0.1463 - acc: 0.960 - ETA: 0s - loss: 0.1470 - acc: 0.959 - ETA: 0s - loss: 0.1480 - acc: 0.959 - 1s 23us/step - loss: 0.1487 - acc: 0.9588\n",
      "Epoch 28/100\n",
      "31500/31500 [==============================] - ETA: 0s - loss: 0.1458 - acc: 0.959 - ETA: 0s - loss: 0.1451 - acc: 0.959 - ETA: 0s - loss: 0.1444 - acc: 0.959 - ETA: 0s - loss: 0.1438 - acc: 0.959 - ETA: 0s - loss: 0.1461 - acc: 0.959 - 1s 24us/step - loss: 0.1467 - acc: 0.9586\n",
      "Epoch 29/100\n"
     ]
    },
    {
     "name": "stdout",
     "output_type": "stream",
     "text": [
      "31500/31500 [==============================] - ETA: 0s - loss: 0.1766 - acc: 0.948 - ETA: 0s - loss: 0.1611 - acc: 0.954 - ETA: 0s - loss: 0.1573 - acc: 0.954 - ETA: 0s - loss: 0.1515 - acc: 0.956 - ETA: 0s - loss: 0.1494 - acc: 0.957 - 1s 25us/step - loss: 0.1486 - acc: 0.9578\n",
      "Epoch 30/100\n",
      "31500/31500 [==============================] - ETA: 0s - loss: 0.1411 - acc: 0.960 - ETA: 0s - loss: 0.1418 - acc: 0.960 - ETA: 0s - loss: 0.1438 - acc: 0.959 - ETA: 0s - loss: 0.1425 - acc: 0.959 - ETA: 0s - loss: 0.1405 - acc: 0.960 - 1s 25us/step - loss: 0.1404 - acc: 0.9604\n",
      "Epoch 31/100\n",
      "31500/31500 [==============================] - ETA: 0s - loss: 0.1268 - acc: 0.965 - ETA: 0s - loss: 0.1300 - acc: 0.964 - ETA: 0s - loss: 0.1298 - acc: 0.963 - ETA: 0s - loss: 0.1297 - acc: 0.964 - ETA: 0s - loss: 0.1302 - acc: 0.963 - 1s 25us/step - loss: 0.1311 - acc: 0.9633\n",
      "Epoch 32/100\n",
      "31500/31500 [==============================] - ETA: 0s - loss: 0.1421 - acc: 0.956 - ETA: 0s - loss: 0.1433 - acc: 0.957 - ETA: 0s - loss: 0.1394 - acc: 0.959 - ETA: 0s - loss: 0.1362 - acc: 0.960 - ETA: 0s - loss: 0.1357 - acc: 0.961 - 1s 24us/step - loss: 0.1358 - acc: 0.9611\n",
      "Epoch 33/100\n",
      "31500/31500 [==============================] - ETA: 0s - loss: 0.1200 - acc: 0.966 - ETA: 0s - loss: 0.1198 - acc: 0.967 - ETA: 0s - loss: 0.1211 - acc: 0.966 - ETA: 0s - loss: 0.1237 - acc: 0.965 - ETA: 0s - loss: 0.1222 - acc: 0.966 - 1s 24us/step - loss: 0.1223 - acc: 0.9665\n",
      "Epoch 34/100\n",
      "31500/31500 [==============================] - ETA: 0s - loss: 0.1352 - acc: 0.962 - ETA: 0s - loss: 0.1290 - acc: 0.963 - ETA: 0s - loss: 0.1276 - acc: 0.964 - ETA: 0s - loss: 0.1283 - acc: 0.964 - ETA: 0s - loss: 0.1304 - acc: 0.963 - 1s 24us/step - loss: 0.1308 - acc: 0.9629\n",
      "Epoch 35/100\n",
      "31500/31500 [==============================] - ETA: 0s - loss: 0.1253 - acc: 0.965 - ETA: 0s - loss: 0.1287 - acc: 0.964 - ETA: 0s - loss: 0.1224 - acc: 0.966 - ETA: 0s - loss: 0.1190 - acc: 0.967 - ETA: 0s - loss: 0.1159 - acc: 0.968 - 1s 24us/step - loss: 0.1151 - acc: 0.9689\n",
      "Epoch 36/100\n",
      "31500/31500 [==============================] - ETA: 0s - loss: 0.1177 - acc: 0.967 - ETA: 0s - loss: 0.1157 - acc: 0.968 - ETA: 0s - loss: 0.1172 - acc: 0.967 - ETA: 0s - loss: 0.1190 - acc: 0.967 - ETA: 0s - loss: 0.1197 - acc: 0.967 - 1s 24us/step - loss: 0.1196 - acc: 0.9669\n",
      "Epoch 37/100\n",
      "31500/31500 [==============================] - ETA: 0s - loss: 0.1072 - acc: 0.971 - ETA: 0s - loss: 0.1073 - acc: 0.970 - ETA: 0s - loss: 0.1055 - acc: 0.970 - ETA: 0s - loss: 0.1075 - acc: 0.970 - ETA: 0s - loss: 0.1086 - acc: 0.970 - 1s 24us/step - loss: 0.1098 - acc: 0.9701\n",
      "Epoch 38/100\n",
      "31500/31500 [==============================] - ETA: 0s - loss: 0.1200 - acc: 0.964 - ETA: 0s - loss: 0.1148 - acc: 0.966 - ETA: 0s - loss: 0.1196 - acc: 0.965 - ETA: 0s - loss: 0.1190 - acc: 0.965 - ETA: 0s - loss: 0.1186 - acc: 0.966 - 1s 24us/step - loss: 0.1178 - acc: 0.9665\n",
      "Epoch 39/100\n",
      "31500/31500 [==============================] - ETA: 0s - loss: 0.1041 - acc: 0.970 - ETA: 0s - loss: 0.1097 - acc: 0.968 - ETA: 0s - loss: 0.1111 - acc: 0.968 - ETA: 0s - loss: 0.1077 - acc: 0.970 - ETA: 0s - loss: 0.1062 - acc: 0.970 - 1s 24us/step - loss: 0.1067 - acc: 0.9703\n",
      "Epoch 40/100\n",
      "31500/31500 [==============================] - ETA: 0s - loss: 0.1091 - acc: 0.971 - ETA: 0s - loss: 0.1097 - acc: 0.969 - ETA: 0s - loss: 0.1071 - acc: 0.970 - ETA: 0s - loss: 0.1052 - acc: 0.971 - ETA: 0s - loss: 0.1063 - acc: 0.970 - 1s 24us/step - loss: 0.1058 - acc: 0.9709\n",
      "Epoch 41/100\n",
      "31500/31500 [==============================] - ETA: 0s - loss: 0.0965 - acc: 0.973 - ETA: 0s - loss: 0.0974 - acc: 0.973 - ETA: 0s - loss: 0.0984 - acc: 0.973 - ETA: 0s - loss: 0.0988 - acc: 0.972 - ETA: 0s - loss: 0.0989 - acc: 0.973 - 1s 24us/step - loss: 0.0993 - acc: 0.9731\n",
      "Epoch 42/100\n",
      "31500/31500 [==============================] - ETA: 0s - loss: 0.1035 - acc: 0.973 - ETA: 0s - loss: 0.0994 - acc: 0.974 - ETA: 0s - loss: 0.0962 - acc: 0.974 - ETA: 0s - loss: 0.0973 - acc: 0.973 - ETA: 0s - loss: 0.0992 - acc: 0.972 - 1s 24us/step - loss: 0.0993 - acc: 0.9728\n",
      "Epoch 43/100\n",
      "31500/31500 [==============================] - ETA: 0s - loss: 0.0964 - acc: 0.972 - ETA: 0s - loss: 0.0968 - acc: 0.973 - ETA: 0s - loss: 0.0967 - acc: 0.973 - ETA: 0s - loss: 0.0981 - acc: 0.972 - ETA: 0s - loss: 0.0965 - acc: 0.973 - 1s 23us/step - loss: 0.0959 - acc: 0.9736\n",
      "Epoch 44/100\n",
      "31500/31500 [==============================] - ETA: 0s - loss: 0.0954 - acc: 0.973 - ETA: 0s - loss: 0.0899 - acc: 0.976 - ETA: 0s - loss: 0.0912 - acc: 0.975 - ETA: 0s - loss: 0.0894 - acc: 0.975 - ETA: 0s - loss: 0.0917 - acc: 0.975 - 1s 25us/step - loss: 0.0916 - acc: 0.9751\n",
      "Epoch 45/100\n",
      "31500/31500 [==============================] - ETA: 0s - loss: 0.0916 - acc: 0.975 - ETA: 0s - loss: 0.0891 - acc: 0.975 - ETA: 0s - loss: 0.0896 - acc: 0.975 - ETA: 0s - loss: 0.0871 - acc: 0.976 - ETA: 0s - loss: 0.0885 - acc: 0.975 - 1s 24us/step - loss: 0.0889 - acc: 0.9756\n",
      "Epoch 46/100\n",
      "31500/31500 [==============================] - ETA: 0s - loss: 0.0960 - acc: 0.970 - ETA: 0s - loss: 0.0994 - acc: 0.970 - ETA: 0s - loss: 0.0952 - acc: 0.972 - ETA: 0s - loss: 0.0931 - acc: 0.973 - ETA: 0s - loss: 0.0919 - acc: 0.973 - 1s 24us/step - loss: 0.0919 - acc: 0.9736\n",
      "Epoch 47/100\n",
      "31500/31500 [==============================] - ETA: 0s - loss: 0.0856 - acc: 0.975 - ETA: 0s - loss: 0.0861 - acc: 0.976 - ETA: 0s - loss: 0.0872 - acc: 0.976 - ETA: 0s - loss: 0.0881 - acc: 0.975 - ETA: 0s - loss: 0.0870 - acc: 0.975 - 1s 24us/step - loss: 0.0870 - acc: 0.9756\n",
      "Epoch 48/100\n",
      "31500/31500 [==============================] - ETA: 0s - loss: 0.0859 - acc: 0.975 - ETA: 0s - loss: 0.0822 - acc: 0.976 - ETA: 0s - loss: 0.0798 - acc: 0.978 - ETA: 0s - loss: 0.0804 - acc: 0.978 - ETA: 0s - loss: 0.0810 - acc: 0.977 - 1s 23us/step - loss: 0.0816 - acc: 0.9771\n",
      "Epoch 49/100\n",
      "31500/31500 [==============================] - ETA: 0s - loss: 0.1096 - acc: 0.965 - ETA: 0s - loss: 0.0974 - acc: 0.970 - ETA: 0s - loss: 0.0901 - acc: 0.973 - ETA: 0s - loss: 0.0877 - acc: 0.974 - ETA: 0s - loss: 0.0867 - acc: 0.975 - 1s 24us/step - loss: 0.0862 - acc: 0.9757\n",
      "Epoch 50/100\n",
      "31500/31500 [==============================] - ETA: 0s - loss: 0.0772 - acc: 0.976 - ETA: 0s - loss: 0.0803 - acc: 0.977 - ETA: 0s - loss: 0.0804 - acc: 0.977 - ETA: 0s - loss: 0.0818 - acc: 0.977 - ETA: 0s - loss: 0.0806 - acc: 0.977 - 1s 23us/step - loss: 0.0807 - acc: 0.9769\n",
      "Epoch 51/100\n",
      "31500/31500 [==============================] - ETA: 0s - loss: 0.0746 - acc: 0.979 - ETA: 0s - loss: 0.0737 - acc: 0.979 - ETA: 0s - loss: 0.0746 - acc: 0.979 - ETA: 0s - loss: 0.0755 - acc: 0.979 - ETA: 0s - loss: 0.0763 - acc: 0.979 - 1s 24us/step - loss: 0.0765 - acc: 0.9791\n",
      "Epoch 52/100\n",
      "31500/31500 [==============================] - ETA: 0s - loss: 0.0801 - acc: 0.977 - ETA: 0s - loss: 0.0752 - acc: 0.979 - ETA: 0s - loss: 0.0731 - acc: 0.979 - ETA: 0s - loss: 0.0735 - acc: 0.979 - ETA: 0s - loss: 0.0748 - acc: 0.979 - 1s 23us/step - loss: 0.0749 - acc: 0.9796\n",
      "Epoch 53/100\n",
      "31500/31500 [==============================] - ETA: 0s - loss: 0.0810 - acc: 0.977 - ETA: 0s - loss: 0.0773 - acc: 0.978 - ETA: 0s - loss: 0.0799 - acc: 0.977 - ETA: 0s - loss: 0.0780 - acc: 0.978 - ETA: 0s - loss: 0.0763 - acc: 0.978 - 1s 24us/step - loss: 0.0761 - acc: 0.9790\n",
      "Epoch 54/100\n",
      "31500/31500 [==============================] - ETA: 0s - loss: 0.0684 - acc: 0.980 - ETA: 0s - loss: 0.0699 - acc: 0.981 - ETA: 0s - loss: 0.0706 - acc: 0.981 - ETA: 0s - loss: 0.0709 - acc: 0.981 - ETA: 0s - loss: 0.0716 - acc: 0.980 - 1s 24us/step - loss: 0.0719 - acc: 0.9806\n",
      "Epoch 55/100\n",
      "31500/31500 [==============================] - ETA: 0s - loss: 0.0696 - acc: 0.980 - ETA: 0s - loss: 0.0680 - acc: 0.981 - ETA: 0s - loss: 0.0704 - acc: 0.980 - ETA: 0s - loss: 0.0697 - acc: 0.980 - ETA: 0s - loss: 0.0698 - acc: 0.980 - 1s 24us/step - loss: 0.0703 - acc: 0.9806\n",
      "Epoch 56/100\n",
      "31500/31500 [==============================] - ETA: 0s - loss: 0.0809 - acc: 0.976 - ETA: 0s - loss: 0.0773 - acc: 0.978 - ETA: 0s - loss: 0.0746 - acc: 0.979 - ETA: 0s - loss: 0.0731 - acc: 0.979 - ETA: 0s - loss: 0.0707 - acc: 0.980 - 1s 23us/step - loss: 0.0699 - acc: 0.9806\n",
      "Epoch 57/100\n"
     ]
    },
    {
     "name": "stdout",
     "output_type": "stream",
     "text": [
      "31500/31500 [==============================] - ETA: 0s - loss: 0.0643 - acc: 0.984 - ETA: 0s - loss: 0.0631 - acc: 0.983 - ETA: 0s - loss: 0.0657 - acc: 0.983 - ETA: 0s - loss: 0.0660 - acc: 0.983 - ETA: 0s - loss: 0.0666 - acc: 0.982 - 1s 24us/step - loss: 0.0673 - acc: 0.9823\n",
      "Epoch 58/100\n",
      "31500/31500 [==============================] - ETA: 0s - loss: 0.0773 - acc: 0.977 - ETA: 0s - loss: 0.0714 - acc: 0.980 - ETA: 0s - loss: 0.0673 - acc: 0.981 - ETA: 0s - loss: 0.0678 - acc: 0.981 - ETA: 0s - loss: 0.0663 - acc: 0.981 - 1s 24us/step - loss: 0.0664 - acc: 0.9814\n",
      "Epoch 59/100\n",
      "31500/31500 [==============================] - ETA: 0s - loss: 0.0639 - acc: 0.983 - ETA: 0s - loss: 0.0643 - acc: 0.982 - ETA: 0s - loss: 0.0636 - acc: 0.983 - ETA: 0s - loss: 0.0649 - acc: 0.982 - ETA: 0s - loss: 0.0638 - acc: 0.982 - 1s 24us/step - loss: 0.0637 - acc: 0.9824\n",
      "Epoch 60/100\n",
      "31500/31500 [==============================] - ETA: 0s - loss: 0.0602 - acc: 0.984 - ETA: 0s - loss: 0.0575 - acc: 0.985 - ETA: 0s - loss: 0.0565 - acc: 0.985 - ETA: 0s - loss: 0.0573 - acc: 0.984 - ETA: 0s - loss: 0.0600 - acc: 0.983 - 1s 25us/step - loss: 0.0606 - acc: 0.9834\n",
      "Epoch 61/100\n",
      "31500/31500 [==============================] - ETA: 0s - loss: 0.0708 - acc: 0.979 - ETA: 0s - loss: 0.0656 - acc: 0.982 - ETA: 0s - loss: 0.0623 - acc: 0.983 - ETA: 0s - loss: 0.0614 - acc: 0.983 - ETA: 0s - loss: 0.0599 - acc: 0.984 - 1s 24us/step - loss: 0.0603 - acc: 0.9842\n",
      "Epoch 62/100\n",
      "31500/31500 [==============================] - ETA: 0s - loss: 0.0738 - acc: 0.978 - ETA: 0s - loss: 0.0684 - acc: 0.979 - ETA: 0s - loss: 0.0667 - acc: 0.981 - ETA: 0s - loss: 0.0632 - acc: 0.982 - ETA: 0s - loss: 0.0623 - acc: 0.982 - 1s 24us/step - loss: 0.0624 - acc: 0.9828\n",
      "Epoch 63/100\n",
      "31500/31500 [==============================] - ETA: 0s - loss: 0.0559 - acc: 0.986 - ETA: 0s - loss: 0.0531 - acc: 0.987 - ETA: 0s - loss: 0.0539 - acc: 0.986 - ETA: 0s - loss: 0.0537 - acc: 0.986 - ETA: 0s - loss: 0.0538 - acc: 0.986 - 1s 24us/step - loss: 0.0535 - acc: 0.9866\n",
      "Epoch 64/100\n",
      "31500/31500 [==============================] - ETA: 0s - loss: 0.0525 - acc: 0.986 - ETA: 0s - loss: 0.0537 - acc: 0.986 - ETA: 0s - loss: 0.0522 - acc: 0.986 - ETA: 0s - loss: 0.0528 - acc: 0.986 - ETA: 0s - loss: 0.0523 - acc: 0.986 - 1s 24us/step - loss: 0.0523 - acc: 0.9865\n",
      "Epoch 65/100\n",
      "31500/31500 [==============================] - ETA: 0s - loss: 0.0614 - acc: 0.982 - ETA: 0s - loss: 0.0644 - acc: 0.981 - ETA: 0s - loss: 0.0614 - acc: 0.982 - ETA: 0s - loss: 0.0609 - acc: 0.982 - ETA: 0s - loss: 0.0606 - acc: 0.982 - 1s 25us/step - loss: 0.0608 - acc: 0.9827\n",
      "Epoch 66/100\n",
      "31500/31500 [==============================] - ETA: 0s - loss: 0.0533 - acc: 0.986 - ETA: 0s - loss: 0.0516 - acc: 0.986 - ETA: 0s - loss: 0.0530 - acc: 0.986 - ETA: 0s - loss: 0.0514 - acc: 0.986 - ETA: 0s - loss: 0.0515 - acc: 0.986 - 1s 24us/step - loss: 0.0515 - acc: 0.9867\n",
      "Epoch 67/100\n",
      "31500/31500 [==============================] - ETA: 0s - loss: 0.0492 - acc: 0.988 - ETA: 0s - loss: 0.0503 - acc: 0.988 - ETA: 0s - loss: 0.0500 - acc: 0.987 - ETA: 0s - loss: 0.0503 - acc: 0.987 - ETA: 0s - loss: 0.0495 - acc: 0.987 - 1s 23us/step - loss: 0.0493 - acc: 0.9880\n",
      "Epoch 68/100\n",
      "31500/31500 [==============================] - ETA: 0s - loss: 0.0482 - acc: 0.988 - ETA: 0s - loss: 0.0506 - acc: 0.987 - ETA: 0s - loss: 0.0496 - acc: 0.987 - ETA: 0s - loss: 0.0510 - acc: 0.986 - ETA: 0s - loss: 0.0529 - acc: 0.985 - 1s 24us/step - loss: 0.0530 - acc: 0.9857\n",
      "Epoch 69/100\n",
      "31500/31500 [==============================] - ETA: 0s - loss: 0.0463 - acc: 0.989 - ETA: 0s - loss: 0.0456 - acc: 0.989 - ETA: 0s - loss: 0.0468 - acc: 0.988 - ETA: 0s - loss: 0.0472 - acc: 0.988 - ETA: 0s - loss: 0.0479 - acc: 0.988 - 1s 25us/step - loss: 0.0482 - acc: 0.9880\n",
      "Epoch 70/100\n",
      "31500/31500 [==============================] - ETA: 0s - loss: 0.0536 - acc: 0.985 - ETA: 0s - loss: 0.0524 - acc: 0.986 - ETA: 0s - loss: 0.0507 - acc: 0.986 - ETA: 0s - loss: 0.0500 - acc: 0.986 - ETA: 0s - loss: 0.0484 - acc: 0.987 - 1s 24us/step - loss: 0.0487 - acc: 0.9875\n",
      "Epoch 71/100\n",
      "31500/31500 [==============================] - ETA: 0s - loss: 0.0554 - acc: 0.985 - ETA: 0s - loss: 0.0550 - acc: 0.984 - ETA: 0s - loss: 0.0531 - acc: 0.985 - ETA: 0s - loss: 0.0522 - acc: 0.985 - ETA: 0s - loss: 0.0506 - acc: 0.986 - 1s 23us/step - loss: 0.0501 - acc: 0.9866\n",
      "Epoch 72/100\n",
      "31500/31500 [==============================] - ETA: 0s - loss: 0.0436 - acc: 0.990 - ETA: 0s - loss: 0.0437 - acc: 0.990 - ETA: 0s - loss: 0.0426 - acc: 0.990 - ETA: 0s - loss: 0.0423 - acc: 0.990 - ETA: 0s - loss: 0.0420 - acc: 0.990 - 1s 25us/step - loss: 0.0419 - acc: 0.9903\n",
      "Epoch 73/100\n",
      "31500/31500 [==============================] - ETA: 0s - loss: 0.0444 - acc: 0.990 - ETA: 0s - loss: 0.0423 - acc: 0.990 - ETA: 0s - loss: 0.0441 - acc: 0.989 - ETA: 0s - loss: 0.0441 - acc: 0.989 - ETA: 0s - loss: 0.0439 - acc: 0.989 - 1s 23us/step - loss: 0.0446 - acc: 0.9890\n",
      "Epoch 74/100\n",
      "31500/31500 [==============================] - ETA: 0s - loss: 0.0408 - acc: 0.990 - ETA: 0s - loss: 0.0399 - acc: 0.989 - ETA: 0s - loss: 0.0416 - acc: 0.989 - ETA: 0s - loss: 0.0434 - acc: 0.989 - ETA: 0s - loss: 0.0436 - acc: 0.988 - 1s 25us/step - loss: 0.0437 - acc: 0.9890\n",
      "Epoch 75/100\n",
      "31500/31500 [==============================] - ETA: 0s - loss: 0.0402 - acc: 0.990 - ETA: 0s - loss: 0.0403 - acc: 0.990 - ETA: 0s - loss: 0.0408 - acc: 0.990 - ETA: 0s - loss: 0.0406 - acc: 0.990 - ETA: 0s - loss: 0.0410 - acc: 0.990 - 1s 25us/step - loss: 0.0411 - acc: 0.9899\n",
      "Epoch 76/100\n",
      "31500/31500 [==============================] - ETA: 0s - loss: 0.0431 - acc: 0.988 - ETA: 0s - loss: 0.0476 - acc: 0.987 - ETA: 0s - loss: 0.0471 - acc: 0.987 - ETA: 0s - loss: 0.0456 - acc: 0.988 - ETA: 0s - loss: 0.0453 - acc: 0.988 - 1s 24us/step - loss: 0.0452 - acc: 0.9883\n",
      "Epoch 77/100\n",
      "31500/31500 [==============================] - ETA: 0s - loss: 0.0487 - acc: 0.986 - ETA: 0s - loss: 0.0446 - acc: 0.988 - ETA: 0s - loss: 0.0426 - acc: 0.988 - ETA: 0s - loss: 0.0423 - acc: 0.989 - ETA: 0s - loss: 0.0410 - acc: 0.989 - 1s 24us/step - loss: 0.0410 - acc: 0.9898\n",
      "Epoch 78/100\n",
      "31500/31500 [==============================] - ETA: 0s - loss: 0.0353 - acc: 0.992 - ETA: 0s - loss: 0.0351 - acc: 0.992 - ETA: 0s - loss: 0.0365 - acc: 0.991 - ETA: 0s - loss: 0.0377 - acc: 0.991 - ETA: 0s - loss: 0.0371 - acc: 0.991 - 1s 24us/step - loss: 0.0372 - acc: 0.9918\n",
      "Epoch 79/100\n",
      "31500/31500 [==============================] - ETA: 0s - loss: 0.0398 - acc: 0.991 - ETA: 0s - loss: 0.0389 - acc: 0.991 - ETA: 0s - loss: 0.0368 - acc: 0.992 - ETA: 0s - loss: 0.0360 - acc: 0.992 - ETA: 0s - loss: 0.0374 - acc: 0.991 - 1s 24us/step - loss: 0.0381 - acc: 0.9911\n",
      "Epoch 80/100\n",
      "31500/31500 [==============================] - ETA: 0s - loss: 0.0432 - acc: 0.988 - ETA: 0s - loss: 0.0410 - acc: 0.989 - ETA: 0s - loss: 0.0391 - acc: 0.990 - ETA: 0s - loss: 0.0378 - acc: 0.991 - ETA: 0s - loss: 0.0382 - acc: 0.990 - 1s 24us/step - loss: 0.0380 - acc: 0.9908\n",
      "Epoch 81/100\n",
      "31500/31500 [==============================] - ETA: 0s - loss: 0.0407 - acc: 0.990 - ETA: 0s - loss: 0.0388 - acc: 0.990 - ETA: 0s - loss: 0.0375 - acc: 0.990 - ETA: 0s - loss: 0.0374 - acc: 0.990 - ETA: 0s - loss: 0.0373 - acc: 0.991 - 1s 24us/step - loss: 0.0373 - acc: 0.9911\n",
      "Epoch 82/100\n",
      "31500/31500 [==============================] - ETA: 0s - loss: 0.0365 - acc: 0.990 - ETA: 0s - loss: 0.0377 - acc: 0.990 - ETA: 0s - loss: 0.0353 - acc: 0.991 - ETA: 0s - loss: 0.0350 - acc: 0.991 - ETA: 0s - loss: 0.0351 - acc: 0.992 - 1s 23us/step - loss: 0.0349 - acc: 0.9921\n",
      "Epoch 83/100\n",
      "31500/31500 [==============================] - ETA: 0s - loss: 0.0338 - acc: 0.992 - ETA: 0s - loss: 0.0371 - acc: 0.991 - ETA: 0s - loss: 0.0368 - acc: 0.991 - ETA: 0s - loss: 0.0351 - acc: 0.991 - ETA: 0s - loss: 0.0350 - acc: 0.992 - 1s 24us/step - loss: 0.0350 - acc: 0.9921\n",
      "Epoch 84/100\n",
      "31500/31500 [==============================] - ETA: 0s - loss: 0.0384 - acc: 0.989 - ETA: 0s - loss: 0.0421 - acc: 0.988 - ETA: 0s - loss: 0.0409 - acc: 0.988 - ETA: 0s - loss: 0.0402 - acc: 0.989 - ETA: 0s - loss: 0.0390 - acc: 0.990 - 1s 24us/step - loss: 0.0389 - acc: 0.9900\n",
      "Epoch 85/100\n"
     ]
    },
    {
     "name": "stdout",
     "output_type": "stream",
     "text": [
      "31500/31500 [==============================] - ETA: 0s - loss: 0.0319 - acc: 0.992 - ETA: 0s - loss: 0.0326 - acc: 0.992 - ETA: 0s - loss: 0.0327 - acc: 0.991 - ETA: 0s - loss: 0.0330 - acc: 0.991 - ETA: 0s - loss: 0.0336 - acc: 0.991 - 1s 25us/step - loss: 0.0339 - acc: 0.9917\n",
      "Epoch 86/100\n",
      "31500/31500 [==============================] - ETA: 0s - loss: 0.0333 - acc: 0.992 - ETA: 0s - loss: 0.0319 - acc: 0.993 - ETA: 0s - loss: 0.0310 - acc: 0.993 - ETA: 0s - loss: 0.0306 - acc: 0.994 - ETA: 0s - loss: 0.0301 - acc: 0.994 - 1s 25us/step - loss: 0.0303 - acc: 0.9940\n",
      "Epoch 87/100\n",
      "31500/31500 [==============================] - ETA: 0s - loss: 0.0333 - acc: 0.992 - ETA: 0s - loss: 0.0314 - acc: 0.992 - ETA: 0s - loss: 0.0308 - acc: 0.993 - ETA: 0s - loss: 0.0305 - acc: 0.993 - ETA: 0s - loss: 0.0309 - acc: 0.993 - 1s 24us/step - loss: 0.0310 - acc: 0.9930\n",
      "Epoch 88/100\n",
      "31500/31500 [==============================] - ETA: 0s - loss: 0.0327 - acc: 0.993 - ETA: 0s - loss: 0.0312 - acc: 0.993 - ETA: 0s - loss: 0.0312 - acc: 0.993 - ETA: 0s - loss: 0.0296 - acc: 0.993 - ETA: 0s - loss: 0.0301 - acc: 0.993 - 1s 24us/step - loss: 0.0301 - acc: 0.9938\n",
      "Epoch 89/100\n",
      "31500/31500 [==============================] - ETA: 0s - loss: 0.0302 - acc: 0.994 - ETA: 0s - loss: 0.0300 - acc: 0.994 - ETA: 0s - loss: 0.0300 - acc: 0.993 - ETA: 0s - loss: 0.0316 - acc: 0.992 - ETA: 0s - loss: 0.0327 - acc: 0.992 - 1s 25us/step - loss: 0.0327 - acc: 0.9920\n",
      "Epoch 90/100\n",
      "31500/31500 [==============================] - ETA: 0s - loss: 0.0347 - acc: 0.991 - ETA: 0s - loss: 0.0312 - acc: 0.993 - ETA: 0s - loss: 0.0291 - acc: 0.993 - ETA: 0s - loss: 0.0287 - acc: 0.994 - ETA: 0s - loss: 0.0287 - acc: 0.994 - 1s 24us/step - loss: 0.0285 - acc: 0.9943\n",
      "Epoch 91/100\n",
      "31500/31500 [==============================] - ETA: 0s - loss: 0.0296 - acc: 0.993 - ETA: 0s - loss: 0.0293 - acc: 0.994 - ETA: 0s - loss: 0.0288 - acc: 0.994 - ETA: 0s - loss: 0.0288 - acc: 0.994 - ETA: 0s - loss: 0.0288 - acc: 0.993 - 1s 25us/step - loss: 0.0289 - acc: 0.9938\n",
      "Epoch 92/100\n",
      "31500/31500 [==============================] - ETA: 0s - loss: 0.0311 - acc: 0.992 - ETA: 0s - loss: 0.0298 - acc: 0.992 - ETA: 0s - loss: 0.0291 - acc: 0.993 - ETA: 0s - loss: 0.0283 - acc: 0.993 - ETA: 0s - loss: 0.0283 - acc: 0.993 - 1s 25us/step - loss: 0.0279 - acc: 0.9940\n",
      "Epoch 93/100\n",
      "31500/31500 [==============================] - ETA: 0s - loss: 0.0254 - acc: 0.995 - ETA: 0s - loss: 0.0258 - acc: 0.994 - ETA: 0s - loss: 0.0256 - acc: 0.994 - ETA: 0s - loss: 0.0260 - acc: 0.994 - ETA: 0s - loss: 0.0268 - acc: 0.994 - 1s 23us/step - loss: 0.0271 - acc: 0.9941\n",
      "Epoch 94/100\n",
      "31500/31500 [==============================] - ETA: 0s - loss: 0.0303 - acc: 0.993 - ETA: 0s - loss: 0.0288 - acc: 0.993 - ETA: 0s - loss: 0.0281 - acc: 0.993 - ETA: 0s - loss: 0.0274 - acc: 0.993 - ETA: 0s - loss: 0.0272 - acc: 0.993 - 1s 25us/step - loss: 0.0270 - acc: 0.9939\n",
      "Epoch 95/100\n",
      "31500/31500 [==============================] - ETA: 0s - loss: 0.0245 - acc: 0.995 - ETA: 0s - loss: 0.0251 - acc: 0.995 - ETA: 0s - loss: 0.0242 - acc: 0.995 - ETA: 0s - loss: 0.0250 - acc: 0.995 - ETA: 0s - loss: 0.0250 - acc: 0.995 - 1s 23us/step - loss: 0.0252 - acc: 0.9951\n",
      "Epoch 96/100\n",
      "31500/31500 [==============================] - ETA: 0s - loss: 0.0349 - acc: 0.990 - ETA: 0s - loss: 0.0346 - acc: 0.990 - ETA: 0s - loss: 0.0323 - acc: 0.991 - ETA: 0s - loss: 0.0301 - acc: 0.992 - ETA: 0s - loss: 0.0288 - acc: 0.993 - 1s 25us/step - loss: 0.0286 - acc: 0.9934\n",
      "Epoch 97/100\n",
      "31500/31500 [==============================] - ETA: 0s - loss: 0.0240 - acc: 0.995 - ETA: 0s - loss: 0.0231 - acc: 0.995 - ETA: 0s - loss: 0.0238 - acc: 0.995 - ETA: 0s - loss: 0.0241 - acc: 0.995 - ETA: 0s - loss: 0.0246 - acc: 0.995 - 1s 25us/step - loss: 0.0250 - acc: 0.9948\n",
      "Epoch 98/100\n",
      "31500/31500 [==============================] - ETA: 0s - loss: 0.0289 - acc: 0.994 - ETA: 0s - loss: 0.0271 - acc: 0.994 - ETA: 0s - loss: 0.0255 - acc: 0.995 - ETA: 0s - loss: 0.0247 - acc: 0.995 - ETA: 0s - loss: 0.0242 - acc: 0.995 - 1s 23us/step - loss: 0.0241 - acc: 0.9954\n",
      "Epoch 99/100\n",
      "31500/31500 [==============================] - ETA: 0s - loss: 0.0250 - acc: 0.994 - ETA: 0s - loss: 0.0255 - acc: 0.995 - ETA: 0s - loss: 0.0246 - acc: 0.995 - ETA: 0s - loss: 0.0243 - acc: 0.995 - ETA: 0s - loss: 0.0240 - acc: 0.995 - 1s 24us/step - loss: 0.0240 - acc: 0.9951\n",
      "Epoch 100/100\n",
      "31500/31500 [==============================] - ETA: 0s - loss: 0.0221 - acc: 0.996 - ETA: 0s - loss: 0.0232 - acc: 0.996 - ETA: 0s - loss: 0.0226 - acc: 0.996 - ETA: 0s - loss: 0.0220 - acc: 0.996 - ETA: 0s - loss: 0.0213 - acc: 0.996 - 1s 24us/step - loss: 0.0217 - acc: 0.9965\n"
     ]
    },
    {
     "data": {
      "text/plain": [
       "<keras.callbacks.History at 0x27104773f28>"
      ]
     },
     "execution_count": 45,
     "metadata": {},
     "output_type": "execute_result"
    }
   ],
   "source": [
    "model2.fit(x_train, y_train2, epochs=100, batch_size=6000)"
   ]
  },
  {
   "cell_type": "code",
   "execution_count": 64,
   "metadata": {
    "ExecuteTime": {
     "end_time": "2019-05-22T11:58:11.117595Z",
     "start_time": "2019-05-22T11:58:10.845324Z"
    }
   },
   "outputs": [
    {
     "data": {
      "text/plain": [
       "array([[ 5.63433915e-02,  1.36174932e-02,  2.26571858e-02,\n",
       "         5.59981763e-02, -7.27177635e-02, -6.94254786e-02,\n",
       "        -1.72447860e-02, -2.74499469e-02,  5.78431785e-02,\n",
       "         5.00231981e-02, -1.56212039e-02, -7.48312324e-02,\n",
       "         8.29266682e-02,  6.86230958e-02,  6.03793859e-02,\n",
       "        -3.62637267e-02,  1.11597851e-02, -2.99619883e-03,\n",
       "         3.17451730e-02,  3.30137238e-02, -4.93524149e-02,\n",
       "        -4.98887189e-02, -7.58543313e-02,  2.81326622e-02,\n",
       "        -6.23776503e-02,  3.09541449e-02, -4.57228646e-02,\n",
       "         2.36074701e-02],\n",
       "       [ 6.88681751e-03, -3.41208316e-02, -2.67106928e-02,\n",
       "         5.35881966e-02, -5.23927808e-03,  3.40057947e-02,\n",
       "         6.51833713e-02,  1.15485035e-01,  1.31039307e-01,\n",
       "         5.71579933e-02,  1.17726222e-01,  4.35612835e-02,\n",
       "         7.75793195e-02,  7.19496384e-02,  1.52041450e-01,\n",
       "         2.08413929e-01,  2.73488849e-01,  2.38892257e-01,\n",
       "         2.13139862e-01,  1.76754504e-01,  1.56085581e-01,\n",
       "         9.53948423e-02, -2.67871190e-03,  9.26553309e-02,\n",
       "        -4.01719436e-02, -1.84698366e-02,  2.29765996e-02,\n",
       "         5.41184396e-02],\n",
       "       [ 2.27000862e-02,  3.84637043e-02, -1.35349957e-02,\n",
       "         1.49417296e-01,  1.14263907e-01,  2.68964022e-02,\n",
       "         2.17192054e-01,  1.55718490e-01,  2.69247800e-01,\n",
       "         1.76200837e-01,  2.32784003e-01,  2.65265703e-01,\n",
       "         1.39305115e-01,  2.29474247e-01,  1.48889318e-01,\n",
       "         5.31809963e-02, -4.36718110e-03,  2.23832317e-02,\n",
       "        -1.47327006e-01, -1.86827540e-01, -1.31784245e-01,\n",
       "         1.08882345e-01,  2.16899544e-01,  9.25354362e-02,\n",
       "         1.08948439e-01,  3.06903813e-02, -5.50170094e-02,\n",
       "         3.49870846e-02],\n",
       "       [-6.22547977e-02, -6.74943626e-02, -1.58560765e-03,\n",
       "         1.19301848e-01,  8.66364986e-02, -1.51702568e-01,\n",
       "         3.34668010e-02,  2.94256508e-02,  6.07334077e-02,\n",
       "         8.22149217e-02, -5.04600219e-02, -1.27737626e-01,\n",
       "        -5.86154461e-02,  1.52059384e-02,  3.18881571e-02,\n",
       "         2.94109364e-03,  1.44538596e-01,  7.26818442e-02,\n",
       "         1.15720015e-02,  1.65770292e-01,  5.59019409e-02,\n",
       "        -2.83887293e-02,  5.85681349e-02,  2.48841837e-01,\n",
       "         2.41750553e-01,  1.89404842e-02,  1.74804598e-01,\n",
       "         5.78182936e-03],\n",
       "       [-5.51854074e-03,  1.84616856e-02,  1.79090761e-02,\n",
       "         9.16878693e-03, -1.42564654e-01, -1.79554727e-02,\n",
       "        -4.92978953e-02,  6.84250221e-02,  5.61061427e-02,\n",
       "        -1.17499575e-01, -2.16537490e-01, -1.44674137e-01,\n",
       "        -3.12907770e-02, -9.90020018e-03, -3.77449691e-02,\n",
       "         3.48292142e-02,  1.65449586e-02,  7.14579001e-02,\n",
       "         2.11367514e-02,  2.21897066e-02,  3.95928398e-02,\n",
       "        -7.82184079e-02, -1.61706824e-02,  1.10806465e-01,\n",
       "        -9.19610113e-02, -2.28233524e-02,  2.11352780e-01,\n",
       "        -2.48707831e-03],\n",
       "       [-1.27616897e-02, -6.25396520e-02, -4.44652140e-03,\n",
       "        -5.98423183e-02,  6.57376498e-02, -1.95646863e-02,\n",
       "        -5.20131476e-02, -4.81986962e-02, -1.90761257e-02,\n",
       "        -1.86213881e-01, -1.01310592e-02, -4.20768708e-02,\n",
       "         4.57460135e-02,  8.60989317e-02, -1.37645286e-04,\n",
       "         8.07757005e-02,  1.10360958e-01,  1.00262314e-01,\n",
       "         7.82503709e-02,  1.12580970e-01, -3.46026383e-02,\n",
       "         8.33212659e-02, -1.02621086e-01, -9.37252194e-02,\n",
       "        -3.81787233e-02,  1.06881119e-01, -7.51059577e-02,\n",
       "        -5.02932593e-02],\n",
       "       [ 3.82031500e-03,  6.99843168e-02, -9.82159004e-02,\n",
       "         8.42918642e-03,  7.33008683e-02, -3.15895900e-02,\n",
       "        -7.91350231e-02, -1.46493912e-01, -1.58143342e-01,\n",
       "        -9.72631499e-02, -6.43909909e-03, -5.35357781e-02,\n",
       "        -2.76084710e-02, -6.06401963e-03,  1.20487109e-01,\n",
       "         7.34066069e-02,  1.57296151e-01,  1.21069044e-01,\n",
       "         8.47449377e-02,  9.74900723e-02,  1.11845724e-01,\n",
       "         6.64914697e-02, -2.41059605e-02, -8.96787271e-02,\n",
       "        -1.58813402e-01, -8.57071206e-03, -7.19058588e-02,\n",
       "         1.77482795e-02],\n",
       "       [-4.92646247e-02, -2.88497172e-02,  4.41175029e-02,\n",
       "         1.04260117e-01,  1.14322916e-01, -1.40686659e-02,\n",
       "        -1.81417674e-01, -1.66561618e-01, -1.25012264e-01,\n",
       "        -6.93535879e-02,  6.60279021e-02,  3.34977806e-02,\n",
       "         1.95425600e-02,  5.53719476e-02,  1.02052659e-01,\n",
       "         1.36967108e-01,  1.08123623e-01,  7.26068020e-02,\n",
       "         2.05668822e-01,  2.27842517e-02,  7.67567307e-02,\n",
       "         4.62897681e-02,  7.98132643e-02,  1.26107693e-01,\n",
       "        -4.79990169e-02,  4.87615392e-02, -8.42139572e-02,\n",
       "        -1.24664612e-01],\n",
       "       [ 7.89279863e-02,  2.10103132e-02,  9.51275826e-02,\n",
       "         1.36929005e-01, -1.21981120e-02, -9.92063433e-02,\n",
       "        -1.25607416e-01, -1.19405456e-01,  2.75833458e-02,\n",
       "        -3.35962139e-02,  7.41972104e-02, -5.14080748e-03,\n",
       "         1.20224571e-02,  4.37663123e-02, -6.81720255e-03,\n",
       "         5.74470721e-02,  6.53692931e-02,  5.72475642e-02,\n",
       "         9.11300108e-02,  1.16627052e-01,  9.21554491e-02,\n",
       "         3.70804816e-02,  1.06886648e-01,  2.11812809e-01,\n",
       "         8.76057073e-02, -2.45659035e-02, -1.21381238e-01,\n",
       "        -4.82688881e-02],\n",
       "       [-3.37229744e-02, -3.58658060e-02, -3.15650962e-02,\n",
       "         1.59483999e-02, -8.44661496e-04, -4.63145450e-02,\n",
       "        -1.51412413e-01, -2.93579735e-02, -5.56959212e-02,\n",
       "        -3.04400045e-02, -2.48700716e-02,  3.75154172e-03,\n",
       "         5.28831072e-02,  4.48110625e-02,  6.98799193e-02,\n",
       "        -5.42589873e-02, -8.27752613e-03,  2.65091788e-02,\n",
       "         7.01488629e-02,  2.04458125e-02,  1.08002961e-01,\n",
       "         3.67148593e-02,  5.52122593e-02,  4.42496724e-02,\n",
       "         9.20634866e-02,  6.60837740e-02, -7.88528845e-02,\n",
       "         8.61215815e-02],\n",
       "       [ 2.45267479e-03, -1.16657183e-01,  4.80156206e-03,\n",
       "        -1.59204081e-02, -1.93477184e-01, -8.23121071e-02,\n",
       "        -9.59413797e-02,  3.49942669e-02,  2.03288104e-02,\n",
       "        -7.08531663e-02,  5.49913235e-02, -7.01037943e-02,\n",
       "        -7.50501454e-02, -8.52878913e-02, -1.33791864e-01,\n",
       "        -1.65433154e-01, -6.61821961e-02, -8.91324133e-02,\n",
       "        -7.38531426e-02, -5.43479361e-02,  1.14535443e-01,\n",
       "        -7.36968890e-02, -6.06571399e-02, -5.28261811e-02,\n",
       "         6.42858520e-02, -5.33961095e-02, -1.57481834e-01,\n",
       "        -8.39400589e-02],\n",
       "       [ 6.71619847e-02,  9.68573987e-03, -7.88603351e-02,\n",
       "        -8.78503472e-02, -1.71678692e-01, -8.61220583e-02,\n",
       "        -8.71685892e-02, -8.81002471e-03, -7.91122002e-05,\n",
       "         4.77300212e-02, -9.66785476e-02,  4.41618003e-02,\n",
       "        -5.06583937e-02, -3.70447375e-02, -1.74111560e-01,\n",
       "        -5.74011169e-02, -8.60273018e-02, -7.60729089e-02,\n",
       "        -8.64639599e-03, -1.95538327e-02, -5.63441701e-02,\n",
       "        -5.15011065e-02,  5.38307801e-02,  4.40405235e-02,\n",
       "         8.24085698e-02, -1.57854840e-01, -3.51080716e-01,\n",
       "        -1.43724754e-01],\n",
       "       [-5.24956286e-02, -5.32764085e-02,  5.70617383e-04,\n",
       "        -1.64166689e-01, -1.64488167e-01, -7.07108676e-02,\n",
       "        -8.29942822e-02, -4.45364043e-03, -2.06069611e-02,\n",
       "        -3.61192785e-02, -6.30796850e-02,  2.19868775e-02,\n",
       "        -3.35359387e-02, -6.08794875e-02, -7.99939856e-02,\n",
       "        -8.89963843e-03, -5.89414462e-02, -1.14995036e-02,\n",
       "        -3.59709200e-04, -6.78753927e-02,  4.17640200e-04,\n",
       "        -6.05418952e-03,  2.50743926e-02, -7.35132396e-02,\n",
       "        -3.17502730e-02, -1.38600543e-01, -2.02781886e-01,\n",
       "        -5.63273430e-02],\n",
       "       [ 5.27125597e-02,  1.09337702e-01,  1.65453643e-01,\n",
       "        -1.69011019e-02, -1.04280539e-01, -1.78790033e-01,\n",
       "        -1.09865554e-01,  1.58059597e-02, -4.83947434e-02,\n",
       "        -2.87707765e-02,  1.97510771e-03,  2.88665257e-02,\n",
       "         2.67981179e-02,  8.85267258e-02,  6.21245280e-02,\n",
       "        -9.03785080e-02, -3.68626341e-02, -7.59293139e-02,\n",
       "        -4.71613072e-02, -2.26799008e-02, -3.54101211e-02,\n",
       "         4.25494313e-02, -4.98539535e-03,  3.75806838e-02,\n",
       "        -1.97386518e-02, -1.76546559e-01, -1.76060900e-01,\n",
       "         5.24655916e-02],\n",
       "       [-1.55900382e-02, -4.60551307e-02,  4.12413105e-02,\n",
       "        -1.75164729e-01, -8.44979510e-02, -1.58767417e-01,\n",
       "         1.94291566e-02,  6.46364018e-02, -2.77760904e-04,\n",
       "         8.50303918e-02, -4.88977470e-02,  3.02160140e-02,\n",
       "         9.16602761e-02,  8.68002623e-02, -1.34396413e-02,\n",
       "         6.27174601e-02, -5.99741749e-02, -1.04468152e-01,\n",
       "         2.19803788e-02, -1.23888135e-01, -1.24455258e-01,\n",
       "        -1.13073707e-01, -4.18478213e-02, -6.29356802e-02,\n",
       "        -1.16262510e-01, -1.11452810e-01,  9.40170363e-02,\n",
       "         8.76576900e-02],\n",
       "       [ 4.93271053e-02,  2.44065002e-02, -1.35985315e-01,\n",
       "        -1.28135562e-01, -1.25527933e-01, -1.75140426e-02,\n",
       "        -5.00608515e-03,  2.25373209e-02, -1.32263107e-02,\n",
       "         9.12166610e-02, -3.73141840e-02,  1.03022270e-01,\n",
       "         7.76698589e-02, -3.31248976e-02, -5.19470982e-02,\n",
       "        -7.53120929e-02, -3.97675820e-02, -2.24092463e-03,\n",
       "        -1.85180008e-02,  1.74339637e-02,  7.04382453e-03,\n",
       "        -5.33723123e-02, -7.06329718e-02, -5.20345680e-02,\n",
       "        -6.80580661e-02, -1.32208973e-01, -8.97182226e-02,\n",
       "         9.58314165e-02],\n",
       "       [ 3.00561488e-02,  1.07404040e-02, -1.56307265e-01,\n",
       "        -1.10567383e-01, -8.40681940e-02,  1.69389974e-02,\n",
       "        -9.37140314e-04,  1.25286477e-02,  7.71348737e-03,\n",
       "         4.27515507e-02, -3.47276628e-02,  4.25316989e-02,\n",
       "         9.36139002e-03, -1.06788963e-01, -9.18874517e-02,\n",
       "         5.48641803e-03, -7.06404969e-02, -6.03540130e-02,\n",
       "        -2.84950472e-02, -4.59695235e-02, -1.18597843e-01,\n",
       "        -2.94747460e-03, -7.26240873e-02,  6.64068572e-03,\n",
       "        -3.86194475e-02,  1.69542655e-01,  2.00128138e-01,\n",
       "         1.55216232e-01],\n",
       "       [ 6.45885319e-02, -1.38489768e-01, -1.37717858e-01,\n",
       "        -1.55920029e-01, -2.92991772e-02,  7.81579539e-02,\n",
       "         5.18039726e-02, -1.70206465e-02,  7.41071105e-02,\n",
       "         4.02256697e-02,  5.85610382e-02, -9.15920585e-02,\n",
       "        -5.75015955e-02, -3.19033563e-02, -1.18149668e-01,\n",
       "         1.36428764e-02, -9.77414772e-02, -8.22543353e-02,\n",
       "         3.40139791e-02, -7.48554319e-02, -1.07356898e-01,\n",
       "        -9.11758989e-02, -5.84256835e-02, -3.82992215e-02,\n",
       "        -5.64640351e-02,  2.95938760e-01, -3.37737873e-02,\n",
       "         8.89612585e-02],\n",
       "       [ 2.19752401e-01, -1.11986533e-01, -2.15442047e-01,\n",
       "        -2.30697915e-01,  8.87048692e-02,  7.38368258e-02,\n",
       "         3.35358456e-02,  8.33169296e-02,  3.80419046e-02,\n",
       "        -2.64851339e-02, -4.76063974e-02, -1.05946139e-01,\n",
       "        -9.54558924e-02, -3.80630754e-02, -1.53530523e-01,\n",
       "        -9.72452760e-02,  2.66901329e-02,  5.24171591e-02,\n",
       "        -3.74471918e-02, -7.08700866e-02, -7.95428269e-03,\n",
       "        -7.83862248e-02, -4.44091577e-03, -2.33764518e-02,\n",
       "        -6.77332133e-02,  3.22232187e-01, -8.05855989e-02,\n",
       "         1.02478452e-01],\n",
       "       [-7.05356598e-02, -1.38009861e-01, -8.82378072e-02,\n",
       "        -8.66348892e-02,  2.66417246e-02, -6.15870468e-02,\n",
       "         5.90896234e-02,  6.76804557e-02,  6.00183308e-02,\n",
       "         9.78653785e-03, -6.59743026e-02,  7.56787555e-03,\n",
       "        -6.76778555e-02, -1.45743731e-02, -3.09617706e-02,\n",
       "        -1.92800257e-02,  1.83951780e-02, -5.78778051e-02,\n",
       "         3.16958725e-02,  4.44637835e-02, -4.79400195e-02,\n",
       "        -7.11092278e-02,  7.89191350e-02,  1.23472223e-02,\n",
       "         2.34304126e-02,  2.00596288e-01,  5.62751666e-02,\n",
       "         1.78421274e-01],\n",
       "       [-5.62544167e-03, -1.80965841e-01, -1.11488241e-03,\n",
       "        -3.89942527e-02,  9.03259441e-02,  3.37793902e-02,\n",
       "         1.24583170e-01,  7.94631988e-02,  4.46674526e-02,\n",
       "        -8.15310553e-02, -1.47757763e-02,  2.06832420e-02,\n",
       "        -1.11934766e-02, -1.58975571e-02,  1.01087661e-02,\n",
       "        -1.47659034e-02,  3.45513113e-02,  3.46500166e-02,\n",
       "        -3.17606293e-02,  5.27160279e-02, -9.30008516e-02,\n",
       "        -5.71097655e-04,  5.91854528e-02,  6.19742349e-02,\n",
       "        -1.00936025e-01,  2.72180378e-01, -1.30326882e-01,\n",
       "        -5.49290925e-02],\n",
       "       [-1.21725105e-01, -1.89294696e-01,  5.84544651e-02,\n",
       "        -2.39667222e-02,  9.40373167e-02,  8.67389217e-02,\n",
       "         6.75634965e-02, -3.95721849e-03,  3.27707119e-02,\n",
       "         6.01001419e-02, -9.14567802e-03,  1.00151869e-02,\n",
       "         1.21372662e-01,  1.00665882e-01,  1.07272021e-01,\n",
       "         1.19409068e-02,  2.18867734e-02,  5.47539145e-02,\n",
       "         5.13550900e-02,  3.51387560e-02, -7.39343613e-02,\n",
       "        -7.94835165e-02,  4.86971661e-02,  2.06219424e-02,\n",
       "        -3.38219441e-02,  3.20171379e-02,  1.04217902e-01,\n",
       "         8.14277083e-02],\n",
       "       [-1.26116887e-01, -8.32550824e-02,  1.62459627e-01,\n",
       "         6.82488782e-03,  3.84591483e-02,  1.37374001e-02,\n",
       "         7.12677687e-02,  1.67762622e-01,  3.66373099e-02,\n",
       "         1.15820453e-01,  1.46674603e-01,  3.59868705e-02,\n",
       "         4.97198068e-02,  1.18255302e-01,  9.05645490e-02,\n",
       "         3.50328200e-02, -1.67236570e-02,  4.87578772e-02,\n",
       "        -2.53030453e-02,  5.10942228e-02,  3.44295218e-03,\n",
       "        -5.25182486e-03,  9.65617374e-02,  3.36889084e-03,\n",
       "         1.65572222e-02, -1.14554107e-01, -3.26521173e-02,\n",
       "         9.98369977e-02],\n",
       "       [ 1.67432353e-02, -8.44525546e-03, -1.05455309e-01,\n",
       "        -9.14178193e-02,  1.00146741e-01,  4.20985781e-02,\n",
       "         7.96762481e-02,  6.83377162e-02,  8.15824643e-02,\n",
       "         6.78568706e-02,  1.13876954e-01, -8.81053321e-03,\n",
       "         3.48731056e-02,  1.41072810e-01,  4.37188484e-02,\n",
       "         7.19143227e-02,  8.81127864e-02,  1.11565806e-01,\n",
       "         8.67719799e-02,  7.33647645e-02, -2.83375569e-02,\n",
       "        -8.21831524e-02,  8.94665942e-02,  5.59519380e-02,\n",
       "        -2.32935566e-02, -2.20160633e-01, -1.33038551e-01,\n",
       "        -3.71885821e-02],\n",
       "       [ 9.63329524e-03, -2.56822556e-02,  8.30847174e-02,\n",
       "        -1.75469056e-01, -8.25537667e-02, -2.26893239e-02,\n",
       "        -4.21052203e-02, -7.33668134e-02,  9.66003686e-02,\n",
       "         1.07941270e-01,  1.03330337e-01,  4.94562574e-02,\n",
       "         9.86099541e-02,  1.11749277e-01,  4.42662761e-02,\n",
       "         4.53130193e-02,  1.35745347e-01, -4.17761155e-04,\n",
       "         7.52266571e-02, -7.15069519e-03, -1.02385424e-01,\n",
       "        -1.10130413e-02, -2.56801881e-02,  1.93947285e-01,\n",
       "         1.77010000e-01,  3.75218429e-02,  2.07802821e-02,\n",
       "        -6.60322830e-02],\n",
       "       [ 1.85508579e-02,  3.11902389e-02,  1.75967161e-02,\n",
       "        -1.59365386e-01, -1.61925972e-01, -2.17699945e-01,\n",
       "        -1.16181940e-01, -7.31622353e-02,  1.73197649e-02,\n",
       "         8.53906274e-02,  1.81428194e-02,  5.17068990e-02,\n",
       "        -1.93060953e-02,  4.05622460e-02, -1.32198364e-01,\n",
       "        -3.45923863e-02, -8.68646950e-02, -1.52094318e-02,\n",
       "         1.51438802e-01,  1.06463917e-01,  5.46592735e-02,\n",
       "         9.33726281e-02,  5.59579283e-02,  1.64425522e-02,\n",
       "        -1.69086143e-01,  6.41036406e-02,  1.70698781e-02,\n",
       "        -5.33954017e-02],\n",
       "       [ 5.37444949e-02, -5.85257336e-02,  4.58044782e-02,\n",
       "        -6.37220442e-02,  7.52737001e-02, -1.46071658e-01,\n",
       "        -8.22146758e-02,  5.79191409e-02,  1.10640004e-01,\n",
       "         7.46953636e-02,  9.24491212e-02,  2.40048077e-02,\n",
       "         6.19689040e-02,  1.77014649e-01,  8.30008015e-02,\n",
       "         6.47287443e-02,  4.74694371e-02, -2.24396922e-02,\n",
       "         3.13332051e-01,  3.31728190e-01,  5.17280139e-02,\n",
       "        -1.11616589e-01,  1.71886772e-01,  1.96344718e-01,\n",
       "        -8.20891466e-03,  1.37204230e-02, -3.77300270e-02,\n",
       "        -8.74259323e-03],\n",
       "       [ 1.70140043e-02,  3.01389098e-02,  1.26914084e-02,\n",
       "        -3.95513587e-02, -1.65325329e-02, -2.89890766e-02,\n",
       "         8.56037214e-02,  1.23877540e-01,  8.05153921e-02,\n",
       "         2.08848044e-01,  1.30143225e-01,  3.15584242e-02,\n",
       "         8.93547609e-02, -5.36460951e-02,  1.80534914e-01,\n",
       "         2.37753257e-01,  8.38628337e-02,  1.80738628e-01,\n",
       "         2.16256641e-03,  3.59912589e-02,  7.04829618e-02,\n",
       "        -2.99104471e-02, -9.19718016e-03, -5.55448644e-02,\n",
       "         1.22328103e-02,  2.05658302e-02,  5.90665489e-02,\n",
       "         5.67652434e-02]], dtype=float32)"
      ]
     },
     "execution_count": 64,
     "metadata": {},
     "output_type": "execute_result"
    }
   ],
   "source": [
    " np.array(model2.get_layer(index=0).get_weights()[0][:,0]).reshape(28,28)"
   ]
  },
  {
   "cell_type": "code",
   "execution_count": 75,
   "metadata": {
    "ExecuteTime": {
     "end_time": "2019-05-22T11:59:30.334687Z",
     "start_time": "2019-05-22T11:59:30.069220Z"
    }
   },
   "outputs": [],
   "source": [
    "weight_layer1 = np.array(model2.get_layer(index=0).get_weights()[0][:,150]).reshape(28,28)\n",
    "weight_layer2 = np.array(model2.get_layer(index=1).get_weights()[0][:,5]).reshape(16,16)"
   ]
  },
  {
   "cell_type": "code",
   "execution_count": 77,
   "metadata": {
    "ExecuteTime": {
     "end_time": "2019-05-22T17:26:16.194259Z",
     "start_time": "2019-05-22T17:26:14.987080Z"
    }
   },
   "outputs": [
    {
     "data": {
      "text/plain": [
       "<matplotlib.image.AxesImage at 0x27104cd3908>"
      ]
     },
     "execution_count": 77,
     "metadata": {},
     "output_type": "execute_result"
    },
    {
     "data": {
      "image/png": "[encoded data removed]",
      "text/plain": [
       "<Figure size 432x288 with 1 Axes>"
      ]
     },
     "metadata": {
      "needs_background": "light"
     },
     "output_type": "display_data"
    }
   ],
   "source": [
    "fig, ax =plt.subplots()\n",
    "ax.imshow(weight_layer1)"
   ]
  },
  {
   "cell_type": "code",
   "execution_count": 82,
   "metadata": {
    "ExecuteTime": {
     "end_time": "2019-05-22T17:28:13.714742Z",
     "start_time": "2019-05-22T17:28:12.140106Z"
    }
   },
   "outputs": [
    {
     "name": "stdout",
     "output_type": "stream",
     "text": [
      "accuracy score = 0.9701904761904762 \n"
     ]
    },
    {
     "data": {
      "image/png": "[encoded data removed]",
      "text/plain": [
       "<Figure size 432x288 with 2 Axes>"
      ]
     },
     "metadata": {
      "needs_background": "light"
     },
     "output_type": "display_data"
    }
   ],
   "source": [
    "plot_confusion_matrix(y_test, model2.predict_classes(x_test),classes=np.arange(10))"
   ]
  },
  {
   "cell_type": "code",
   "execution_count": null,
   "metadata": {},
   "outputs": [],
   "source": []
  },
  {
   "cell_type": "markdown",
   "metadata": {},
   "source": [
    "# What is inside a neural network"
   ]
  },
  {
   "cell_type": "code",
   "execution_count": 85,
   "metadata": {
    "ExecuteTime": {
     "end_time": "2019-05-22T17:40:26.030681Z",
     "start_time": "2019-05-22T17:40:25.408605Z"
    }
   },
   "outputs": [],
   "source": [
    "model3 = Sequential()\n",
    "model3.add(Dense(256,activation =\"relu\",input_shape = (784,)))\n",
    "model3.add(Dense(10,activation =\"softmax\"))"
   ]
  },
  {
   "cell_type": "code",
   "execution_count": 86,
   "metadata": {
    "ExecuteTime": {
     "end_time": "2019-05-22T17:40:26.881179Z",
     "start_time": "2019-05-22T17:40:26.205930Z"
    }
   },
   "outputs": [],
   "source": [
    "model3.compile(optimizer = \"adam\" , loss = \"categorical_crossentropy\", metrics=[\"accuracy\"])"
   ]
  },
  {
   "cell_type": "code",
   "execution_count": 88,
   "metadata": {
    "ExecuteTime": {
     "end_time": "2019-05-22T17:41:59.442166Z",
     "start_time": "2019-05-22T17:40:37.823689Z"
    },
    "scrolled": true
   },
   "outputs": [
    {
     "name": "stdout",
     "output_type": "stream",
     "text": [
      "Train on 31500 samples, validate on 10500 samples\n",
      "Epoch 1/50\n",
      "31500/31500 [==============================] - ETA: 7s - loss: 2.3485 - acc: 0.096 - ETA: 3s - loss: 2.2648 - acc: 0.149 - ETA: 2s - loss: 2.1687 - acc: 0.257 - ETA: 1s - loss: 2.0794 - acc: 0.344 - ETA: 1s - loss: 1.9967 - acc: 0.406 - ETA: 0s - loss: 1.9179 - acc: 0.452 - ETA: 0s - loss: 1.8422 - acc: 0.490 - ETA: 0s - loss: 1.7708 - acc: 0.521 - 2s 78us/step - loss: 1.7034 - acc: 0.5487 - val_loss: 1.0524 - val_acc: 0.7910\n",
      "Epoch 2/50\n",
      "31500/31500 [==============================] - ETA: 1s - loss: 1.0698 - acc: 0.782 - ETA: 1s - loss: 1.0131 - acc: 0.792 - ETA: 0s - loss: 0.9719 - acc: 0.797 - ETA: 0s - loss: 0.9332 - acc: 0.804 - ETA: 0s - loss: 0.8992 - acc: 0.809 - ETA: 0s - loss: 0.8660 - acc: 0.812 - ETA: 0s - loss: 0.8399 - acc: 0.815 - ETA: 0s - loss: 0.8111 - acc: 0.819 - 2s 50us/step - loss: 0.7881 - acc: 0.8218 - val_loss: 0.5769 - val_acc: 0.8510\n",
      "Epoch 3/50\n",
      "31500/31500 [==============================] - ETA: 1s - loss: 0.5790 - acc: 0.838 - ETA: 1s - loss: 0.5569 - acc: 0.849 - ETA: 0s - loss: 0.5397 - acc: 0.854 - ETA: 0s - loss: 0.5295 - acc: 0.858 - ETA: 0s - loss: 0.5198 - acc: 0.860 - ETA: 0s - loss: 0.5131 - acc: 0.861 - ETA: 0s - loss: 0.5037 - acc: 0.863 - ETA: 0s - loss: 0.4957 - acc: 0.864 - 2s 50us/step - loss: 0.4895 - acc: 0.8654 - val_loss: 0.4294 - val_acc: 0.8806\n",
      "Epoch 4/50\n",
      "31500/31500 [==============================] - ETA: 1s - loss: 0.4094 - acc: 0.881 - ETA: 1s - loss: 0.4190 - acc: 0.878 - ETA: 0s - loss: 0.4181 - acc: 0.881 - ETA: 0s - loss: 0.4114 - acc: 0.883 - ETA: 0s - loss: 0.4069 - acc: 0.883 - ETA: 0s - loss: 0.4015 - acc: 0.885 - ETA: 0s - loss: 0.3957 - acc: 0.887 - ETA: 0s - loss: 0.3905 - acc: 0.889 - 2s 50us/step - loss: 0.3856 - acc: 0.8908 - val_loss: 0.3681 - val_acc: 0.8962\n",
      "Epoch 5/50\n",
      "31500/31500 [==============================] - ETA: 1s - loss: 0.3523 - acc: 0.899 - ETA: 1s - loss: 0.3565 - acc: 0.898 - ETA: 0s - loss: 0.3508 - acc: 0.900 - ETA: 0s - loss: 0.3439 - acc: 0.901 - ETA: 0s - loss: 0.3384 - acc: 0.903 - ETA: 0s - loss: 0.3398 - acc: 0.903 - ETA: 0s - loss: 0.3412 - acc: 0.903 - ETA: 0s - loss: 0.3372 - acc: 0.903 - 2s 53us/step - loss: 0.3346 - acc: 0.9039 - val_loss: 0.3314 - val_acc: 0.9076\n",
      "Epoch 6/50\n",
      "31500/31500 [==============================] - ETA: 1s - loss: 0.2986 - acc: 0.913 - ETA: 1s - loss: 0.3019 - acc: 0.912 - ETA: 0s - loss: 0.3037 - acc: 0.913 - ETA: 0s - loss: 0.3068 - acc: 0.912 - ETA: 0s - loss: 0.3069 - acc: 0.911 - ETA: 0s - loss: 0.3039 - acc: 0.913 - ETA: 0s - loss: 0.3023 - acc: 0.913 - ETA: 0s - loss: 0.3014 - acc: 0.914 - 2s 51us/step - loss: 0.3016 - acc: 0.9139 - val_loss: 0.3079 - val_acc: 0.9141\n",
      "Epoch 7/50\n",
      "31500/31500 [==============================] - ETA: 1s - loss: 0.2647 - acc: 0.927 - ETA: 1s - loss: 0.2744 - acc: 0.921 - ETA: 0s - loss: 0.2720 - acc: 0.921 - ETA: 0s - loss: 0.2758 - acc: 0.919 - ETA: 0s - loss: 0.2742 - acc: 0.921 - ETA: 0s - loss: 0.2765 - acc: 0.920 - ETA: 0s - loss: 0.2759 - acc: 0.920 - ETA: 0s - loss: 0.2782 - acc: 0.920 - 2s 49us/step - loss: 0.2776 - acc: 0.9211 - val_loss: 0.2911 - val_acc: 0.9201\n",
      "Epoch 8/50\n",
      "31500/31500 [==============================] - ETA: 1s - loss: 0.2515 - acc: 0.928 - ETA: 0s - loss: 0.2519 - acc: 0.927 - ETA: 0s - loss: 0.2666 - acc: 0.925 - ETA: 0s - loss: 0.2646 - acc: 0.926 - ETA: 0s - loss: 0.2671 - acc: 0.924 - ETA: 0s - loss: 0.2646 - acc: 0.925 - ETA: 0s - loss: 0.2631 - acc: 0.925 - ETA: 0s - loss: 0.2596 - acc: 0.926 - 2s 48us/step - loss: 0.2594 - acc: 0.9263 - val_loss: 0.2772 - val_acc: 0.9239\n",
      "Epoch 9/50\n",
      "31500/31500 [==============================] - ETA: 1s - loss: 0.2503 - acc: 0.930 - ETA: 1s - loss: 0.2447 - acc: 0.930 - ETA: 0s - loss: 0.2447 - acc: 0.930 - ETA: 0s - loss: 0.2435 - acc: 0.929 - ETA: 0s - loss: 0.2456 - acc: 0.929 - ETA: 0s - loss: 0.2470 - acc: 0.929 - ETA: 0s - loss: 0.2472 - acc: 0.929 - ETA: 0s - loss: 0.2464 - acc: 0.930 - 2s 49us/step - loss: 0.2445 - acc: 0.9314 - val_loss: 0.2636 - val_acc: 0.9277\n",
      "Epoch 10/50\n",
      "31500/31500 [==============================] - ETA: 1s - loss: 0.2493 - acc: 0.930 - ETA: 1s - loss: 0.2321 - acc: 0.934 - ETA: 0s - loss: 0.2355 - acc: 0.935 - ETA: 0s - loss: 0.2319 - acc: 0.936 - ETA: 0s - loss: 0.2312 - acc: 0.936 - ETA: 0s - loss: 0.2313 - acc: 0.936 - ETA: 0s - loss: 0.2308 - acc: 0.936 - ETA: 0s - loss: 0.2308 - acc: 0.935 - 2s 50us/step - loss: 0.2304 - acc: 0.9362 - val_loss: 0.2530 - val_acc: 0.9313\n",
      "Epoch 11/50\n",
      "31500/31500 [==============================] - ETA: 1s - loss: 0.2225 - acc: 0.941 - ETA: 1s - loss: 0.2227 - acc: 0.938 - ETA: 0s - loss: 0.2168 - acc: 0.939 - ETA: 0s - loss: 0.2182 - acc: 0.938 - ETA: 0s - loss: 0.2187 - acc: 0.937 - ETA: 0s - loss: 0.2185 - acc: 0.938 - ETA: 0s - loss: 0.2178 - acc: 0.938 - ETA: 0s - loss: 0.2171 - acc: 0.939 - 2s 50us/step - loss: 0.2176 - acc: 0.9393 - val_loss: 0.2418 - val_acc: 0.9350\n",
      "Epoch 12/50\n",
      "31500/31500 [==============================] - ETA: 1s - loss: 0.1917 - acc: 0.945 - ETA: 1s - loss: 0.2046 - acc: 0.943 - ETA: 0s - loss: 0.2110 - acc: 0.940 - ETA: 0s - loss: 0.2082 - acc: 0.941 - ETA: 0s - loss: 0.2068 - acc: 0.942 - ETA: 0s - loss: 0.2075 - acc: 0.942 - ETA: 0s - loss: 0.2065 - acc: 0.942 - ETA: 0s - loss: 0.2063 - acc: 0.943 - 2s 51us/step - loss: 0.2064 - acc: 0.9428 - val_loss: 0.2358 - val_acc: 0.9355\n",
      "Epoch 13/50\n",
      "31500/31500 [==============================] - ETA: 1s - loss: 0.2006 - acc: 0.946 - ETA: 1s - loss: 0.2079 - acc: 0.944 - ETA: 0s - loss: 0.2015 - acc: 0.945 - ETA: 0s - loss: 0.1989 - acc: 0.945 - ETA: 0s - loss: 0.1975 - acc: 0.946 - ETA: 0s - loss: 0.1972 - acc: 0.946 - ETA: 0s - loss: 0.1935 - acc: 0.946 - ETA: 0s - loss: 0.1978 - acc: 0.945 - 2s 50us/step - loss: 0.1967 - acc: 0.9459 - val_loss: 0.2242 - val_acc: 0.9404\n",
      "Epoch 14/50\n",
      "31500/31500 [==============================] - ETA: 1s - loss: 0.2000 - acc: 0.944 - ETA: 1s - loss: 0.1932 - acc: 0.944 - ETA: 0s - loss: 0.1945 - acc: 0.942 - ETA: 0s - loss: 0.1938 - acc: 0.944 - ETA: 0s - loss: 0.1906 - acc: 0.946 - ETA: 0s - loss: 0.1876 - acc: 0.947 - ETA: 0s - loss: 0.1876 - acc: 0.947 - ETA: 0s - loss: 0.1877 - acc: 0.947 - 2s 51us/step - loss: 0.1866 - acc: 0.9482 - val_loss: 0.2173 - val_acc: 0.9406\n",
      "Epoch 15/50\n",
      "31500/31500 [==============================] - ETA: 1s - loss: 0.1844 - acc: 0.949 - ETA: 1s - loss: 0.1841 - acc: 0.949 - ETA: 0s - loss: 0.1773 - acc: 0.950 - ETA: 0s - loss: 0.1796 - acc: 0.950 - ETA: 0s - loss: 0.1811 - acc: 0.949 - ETA: 0s - loss: 0.1798 - acc: 0.951 - ETA: 0s - loss: 0.1775 - acc: 0.951 - ETA: 0s - loss: 0.1784 - acc: 0.950 - 2s 51us/step - loss: 0.1779 - acc: 0.9510 - val_loss: 0.2095 - val_acc: 0.9432\n",
      "Epoch 16/50\n",
      "31500/31500 [==============================] - ETA: 1s - loss: 0.1551 - acc: 0.958 - ETA: 1s - loss: 0.1666 - acc: 0.956 - ETA: 0s - loss: 0.1659 - acc: 0.956 - ETA: 0s - loss: 0.1688 - acc: 0.954 - ETA: 0s - loss: 0.1706 - acc: 0.954 - ETA: 0s - loss: 0.1696 - acc: 0.954 - ETA: 0s - loss: 0.1692 - acc: 0.954 - ETA: 0s - loss: 0.1692 - acc: 0.954 - 2s 50us/step - loss: 0.1694 - acc: 0.9537 - val_loss: 0.2027 - val_acc: 0.9453\n",
      "Epoch 17/50\n",
      "31500/31500 [==============================] - ETA: 1s - loss: 0.1717 - acc: 0.955 - ETA: 0s - loss: 0.1617 - acc: 0.958 - ETA: 0s - loss: 0.1619 - acc: 0.958 - ETA: 0s - loss: 0.1604 - acc: 0.957 - ETA: 0s - loss: 0.1615 - acc: 0.957 - ETA: 0s - loss: 0.1604 - acc: 0.957 - ETA: 0s - loss: 0.1608 - acc: 0.957 - ETA: 0s - loss: 0.1626 - acc: 0.956 - 2s 50us/step - loss: 0.1624 - acc: 0.9563 - val_loss: 0.1975 - val_acc: 0.9461\n",
      "Epoch 18/50\n",
      "31500/31500 [==============================] - ETA: 1s - loss: 0.1537 - acc: 0.957 - ETA: 1s - loss: 0.1616 - acc: 0.954 - ETA: 0s - loss: 0.1577 - acc: 0.957 - ETA: 0s - loss: 0.1558 - acc: 0.958 - ETA: 0s - loss: 0.1586 - acc: 0.956 - ETA: 0s - loss: 0.1573 - acc: 0.957 - ETA: 0s - loss: 0.1561 - acc: 0.957 - ETA: 0s - loss: 0.1544 - acc: 0.958 - 2s 50us/step - loss: 0.1555 - acc: 0.9577 - val_loss: 0.1919 - val_acc: 0.9467\n",
      "Epoch 19/50\n"
     ]
    },
    {
     "name": "stdout",
     "output_type": "stream",
     "text": [
      "31500/31500 [==============================] - ETA: 1s - loss: 0.1542 - acc: 0.958 - ETA: 0s - loss: 0.1500 - acc: 0.960 - ETA: 0s - loss: 0.1493 - acc: 0.959 - ETA: 0s - loss: 0.1513 - acc: 0.958 - ETA: 0s - loss: 0.1549 - acc: 0.957 - ETA: 0s - loss: 0.1512 - acc: 0.959 - ETA: 0s - loss: 0.1497 - acc: 0.959 - ETA: 0s - loss: 0.1495 - acc: 0.959 - 2s 51us/step - loss: 0.1488 - acc: 0.9592 - val_loss: 0.1855 - val_acc: 0.9485\n",
      "Epoch 20/50\n",
      "31500/31500 [==============================] - ETA: 1s - loss: 0.1378 - acc: 0.968 - ETA: 1s - loss: 0.1468 - acc: 0.962 - ETA: 0s - loss: 0.1457 - acc: 0.961 - ETA: 0s - loss: 0.1464 - acc: 0.962 - ETA: 0s - loss: 0.1467 - acc: 0.961 - ETA: 0s - loss: 0.1452 - acc: 0.961 - ETA: 0s - loss: 0.1449 - acc: 0.961 - ETA: 0s - loss: 0.1424 - acc: 0.962 - 2s 51us/step - loss: 0.1425 - acc: 0.9619 - val_loss: 0.1817 - val_acc: 0.9498\n",
      "Epoch 21/50\n",
      "31500/31500 [==============================] - ETA: 1s - loss: 0.1330 - acc: 0.962 - ETA: 1s - loss: 0.1350 - acc: 0.963 - ETA: 0s - loss: 0.1397 - acc: 0.962 - ETA: 0s - loss: 0.1396 - acc: 0.962 - ETA: 0s - loss: 0.1372 - acc: 0.963 - ETA: 0s - loss: 0.1355 - acc: 0.963 - ETA: 0s - loss: 0.1364 - acc: 0.963 - ETA: 0s - loss: 0.1384 - acc: 0.962 - 2s 50us/step - loss: 0.1369 - acc: 0.9631 - val_loss: 0.1768 - val_acc: 0.9510\n",
      "Epoch 22/50\n",
      "31500/31500 [==============================] - ETA: 1s - loss: 0.1342 - acc: 0.966 - ETA: 1s - loss: 0.1317 - acc: 0.965 - ETA: 0s - loss: 0.1310 - acc: 0.965 - ETA: 0s - loss: 0.1304 - acc: 0.966 - ETA: 0s - loss: 0.1291 - acc: 0.965 - ETA: 0s - loss: 0.1302 - acc: 0.964 - ETA: 0s - loss: 0.1313 - acc: 0.964 - ETA: 0s - loss: 0.1315 - acc: 0.964 - 2s 51us/step - loss: 0.1314 - acc: 0.9645 - val_loss: 0.1721 - val_acc: 0.9516\n",
      "Epoch 23/50\n",
      "31500/31500 [==============================] - ETA: 1s - loss: 0.1276 - acc: 0.967 - ETA: 0s - loss: 0.1233 - acc: 0.967 - ETA: 0s - loss: 0.1214 - acc: 0.968 - ETA: 0s - loss: 0.1257 - acc: 0.965 - ETA: 0s - loss: 0.1268 - acc: 0.965 - ETA: 0s - loss: 0.1258 - acc: 0.965 - ETA: 0s - loss: 0.1261 - acc: 0.966 - ETA: 0s - loss: 0.1263 - acc: 0.966 - 2s 51us/step - loss: 0.1262 - acc: 0.9665 - val_loss: 0.1687 - val_acc: 0.9528\n",
      "Epoch 24/50\n",
      "31500/31500 [==============================] - ETA: 1s - loss: 0.1185 - acc: 0.968 - ETA: 1s - loss: 0.1183 - acc: 0.969 - ETA: 0s - loss: 0.1200 - acc: 0.968 - ETA: 0s - loss: 0.1177 - acc: 0.968 - ETA: 0s - loss: 0.1197 - acc: 0.968 - ETA: 0s - loss: 0.1185 - acc: 0.968 - ETA: 0s - loss: 0.1201 - acc: 0.968 - ETA: 0s - loss: 0.1204 - acc: 0.968 - 2s 51us/step - loss: 0.1216 - acc: 0.9676 - val_loss: 0.1651 - val_acc: 0.9535\n",
      "Epoch 25/50\n",
      "31500/31500 [==============================] - ETA: 1s - loss: 0.1112 - acc: 0.968 - ETA: 1s - loss: 0.1149 - acc: 0.967 - ETA: 0s - loss: 0.1156 - acc: 0.968 - ETA: 0s - loss: 0.1166 - acc: 0.967 - ETA: 0s - loss: 0.1164 - acc: 0.968 - ETA: 0s - loss: 0.1173 - acc: 0.968 - ETA: 0s - loss: 0.1180 - acc: 0.968 - ETA: 0s - loss: 0.1181 - acc: 0.968 - 2s 51us/step - loss: 0.1172 - acc: 0.9688 - val_loss: 0.1620 - val_acc: 0.9550\n",
      "Epoch 26/50\n",
      "31500/31500 [==============================] - ETA: 1s - loss: 0.1074 - acc: 0.970 - ETA: 1s - loss: 0.1081 - acc: 0.970 - ETA: 0s - loss: 0.1084 - acc: 0.971 - ETA: 0s - loss: 0.1087 - acc: 0.971 - ETA: 0s - loss: 0.1095 - acc: 0.972 - ETA: 0s - loss: 0.1113 - acc: 0.971 - ETA: 0s - loss: 0.1113 - acc: 0.971 - ETA: 0s - loss: 0.1122 - acc: 0.970 - 2s 50us/step - loss: 0.1126 - acc: 0.9702 - val_loss: 0.1573 - val_acc: 0.9554\n",
      "Epoch 27/50\n",
      "31500/31500 [==============================] - ETA: 1s - loss: 0.1043 - acc: 0.969 - ETA: 1s - loss: 0.1028 - acc: 0.971 - ETA: 0s - loss: 0.1021 - acc: 0.972 - ETA: 0s - loss: 0.1040 - acc: 0.971 - ETA: 0s - loss: 0.1057 - acc: 0.971 - ETA: 0s - loss: 0.1054 - acc: 0.972 - ETA: 0s - loss: 0.1078 - acc: 0.971 - ETA: 0s - loss: 0.1074 - acc: 0.971 - 2s 50us/step - loss: 0.1083 - acc: 0.9715 - val_loss: 0.1555 - val_acc: 0.9559\n",
      "Epoch 28/50\n",
      "31500/31500 [==============================] - ETA: 1s - loss: 0.1039 - acc: 0.973 - ETA: 1s - loss: 0.1049 - acc: 0.972 - ETA: 0s - loss: 0.1060 - acc: 0.971 - ETA: 0s - loss: 0.1051 - acc: 0.972 - ETA: 0s - loss: 0.1058 - acc: 0.972 - ETA: 0s - loss: 0.1054 - acc: 0.973 - ETA: 0s - loss: 0.1063 - acc: 0.973 - ETA: 0s - loss: 0.1047 - acc: 0.973 - 2s 48us/step - loss: 0.1046 - acc: 0.9731 - val_loss: 0.1525 - val_acc: 0.9563\n",
      "Epoch 29/50\n",
      "31500/31500 [==============================] - ETA: 1s - loss: 0.1131 - acc: 0.970 - ETA: 1s - loss: 0.1073 - acc: 0.971 - ETA: 0s - loss: 0.1057 - acc: 0.973 - ETA: 0s - loss: 0.1041 - acc: 0.973 - ETA: 0s - loss: 0.1041 - acc: 0.973 - ETA: 0s - loss: 0.1023 - acc: 0.973 - ETA: 0s - loss: 0.1009 - acc: 0.974 - ETA: 0s - loss: 0.1019 - acc: 0.973 - 2s 48us/step - loss: 0.1009 - acc: 0.9740 - val_loss: 0.1493 - val_acc: 0.9585\n",
      "Epoch 30/50\n",
      "31500/31500 [==============================] - ETA: 1s - loss: 0.0922 - acc: 0.975 - ETA: 1s - loss: 0.0950 - acc: 0.975 - ETA: 0s - loss: 0.0955 - acc: 0.976 - ETA: 0s - loss: 0.0958 - acc: 0.975 - ETA: 0s - loss: 0.0976 - acc: 0.975 - ETA: 0s - loss: 0.0974 - acc: 0.975 - ETA: 0s - loss: 0.0984 - acc: 0.974 - ETA: 0s - loss: 0.0980 - acc: 0.974 - 2s 49us/step - loss: 0.0971 - acc: 0.9746 - val_loss: 0.1474 - val_acc: 0.9590\n",
      "Epoch 31/50\n",
      "31500/31500 [==============================] - ETA: 1s - loss: 0.0893 - acc: 0.977 - ETA: 1s - loss: 0.0913 - acc: 0.977 - ETA: 0s - loss: 0.0920 - acc: 0.976 - ETA: 0s - loss: 0.0919 - acc: 0.976 - ETA: 0s - loss: 0.0915 - acc: 0.976 - ETA: 0s - loss: 0.0916 - acc: 0.976 - ETA: 0s - loss: 0.0924 - acc: 0.976 - ETA: 0s - loss: 0.0939 - acc: 0.975 - 2s 49us/step - loss: 0.0935 - acc: 0.9754 - val_loss: 0.1437 - val_acc: 0.9595\n",
      "Epoch 32/50\n",
      "31500/31500 [==============================] - ETA: 1s - loss: 0.0914 - acc: 0.975 - ETA: 0s - loss: 0.0927 - acc: 0.976 - ETA: 0s - loss: 0.0910 - acc: 0.977 - ETA: 0s - loss: 0.0901 - acc: 0.977 - ETA: 0s - loss: 0.0909 - acc: 0.976 - ETA: 0s - loss: 0.0925 - acc: 0.976 - ETA: 0s - loss: 0.0925 - acc: 0.975 - ETA: 0s - loss: 0.0911 - acc: 0.976 - 2s 50us/step - loss: 0.0907 - acc: 0.9762 - val_loss: 0.1423 - val_acc: 0.9606\n",
      "Epoch 33/50\n",
      "31500/31500 [==============================] - ETA: 1s - loss: 0.0847 - acc: 0.978 - ETA: 1s - loss: 0.0815 - acc: 0.979 - ETA: 0s - loss: 0.0852 - acc: 0.977 - ETA: 0s - loss: 0.0858 - acc: 0.977 - ETA: 0s - loss: 0.0857 - acc: 0.977 - ETA: 0s - loss: 0.0862 - acc: 0.976 - ETA: 0s - loss: 0.0875 - acc: 0.976 - ETA: 0s - loss: 0.0876 - acc: 0.977 - 2s 48us/step - loss: 0.0872 - acc: 0.9773 - val_loss: 0.1399 - val_acc: 0.9611\n",
      "Epoch 34/50\n",
      "31500/31500 [==============================] - ETA: 1s - loss: 0.0873 - acc: 0.976 - ETA: 1s - loss: 0.0857 - acc: 0.976 - ETA: 0s - loss: 0.0824 - acc: 0.978 - ETA: 0s - loss: 0.0843 - acc: 0.977 - ETA: 0s - loss: 0.0820 - acc: 0.978 - ETA: 0s - loss: 0.0830 - acc: 0.978 - ETA: 0s - loss: 0.0844 - acc: 0.977 - ETA: 0s - loss: 0.0844 - acc: 0.977 - 2s 51us/step - loss: 0.0845 - acc: 0.9779 - val_loss: 0.1374 - val_acc: 0.9624\n",
      "Epoch 35/50\n",
      "31500/31500 [==============================] - ETA: 1s - loss: 0.0832 - acc: 0.977 - ETA: 1s - loss: 0.0824 - acc: 0.978 - ETA: 0s - loss: 0.0804 - acc: 0.978 - ETA: 0s - loss: 0.0803 - acc: 0.978 - ETA: 0s - loss: 0.0804 - acc: 0.978 - ETA: 0s - loss: 0.0813 - acc: 0.978 - ETA: 0s - loss: 0.0817 - acc: 0.978 - ETA: 0s - loss: 0.0826 - acc: 0.978 - 2s 50us/step - loss: 0.0818 - acc: 0.9785 - val_loss: 0.1359 - val_acc: 0.9618\n",
      "Epoch 36/50\n",
      "31500/31500 [==============================] - ETA: 1s - loss: 0.0625 - acc: 0.984 - ETA: 1s - loss: 0.0700 - acc: 0.982 - ETA: 0s - loss: 0.0780 - acc: 0.979 - ETA: 0s - loss: 0.0779 - acc: 0.979 - ETA: 0s - loss: 0.0802 - acc: 0.979 - ETA: 0s - loss: 0.0807 - acc: 0.979 - ETA: 0s - loss: 0.0791 - acc: 0.979 - ETA: 0s - loss: 0.0791 - acc: 0.979 - 2s 51us/step - loss: 0.0787 - acc: 0.9791 - val_loss: 0.1342 - val_acc: 0.9620\n",
      "Epoch 37/50\n"
     ]
    },
    {
     "name": "stdout",
     "output_type": "stream",
     "text": [
      "31500/31500 [==============================] - ETA: 1s - loss: 0.0762 - acc: 0.978 - ETA: 0s - loss: 0.0767 - acc: 0.980 - ETA: 0s - loss: 0.0791 - acc: 0.979 - ETA: 0s - loss: 0.0786 - acc: 0.979 - ETA: 0s - loss: 0.0778 - acc: 0.980 - ETA: 0s - loss: 0.0770 - acc: 0.979 - ETA: 0s - loss: 0.0767 - acc: 0.980 - ETA: 0s - loss: 0.0764 - acc: 0.980 - 2s 51us/step - loss: 0.0759 - acc: 0.9804 - val_loss: 0.1327 - val_acc: 0.9630\n",
      "Epoch 38/50\n",
      "31500/31500 [==============================] - ETA: 1s - loss: 0.0687 - acc: 0.984 - ETA: 1s - loss: 0.0687 - acc: 0.982 - ETA: 1s - loss: 0.0690 - acc: 0.981 - ETA: 0s - loss: 0.0694 - acc: 0.982 - ETA: 0s - loss: 0.0703 - acc: 0.982 - ETA: 0s - loss: 0.0715 - acc: 0.981 - ETA: 0s - loss: 0.0733 - acc: 0.980 - ETA: 0s - loss: 0.0724 - acc: 0.981 - 2s 52us/step - loss: 0.0734 - acc: 0.9810 - val_loss: 0.1309 - val_acc: 0.9632\n",
      "Epoch 39/50\n",
      "31500/31500 [==============================] - ETA: 1s - loss: 0.0822 - acc: 0.978 - ETA: 1s - loss: 0.0781 - acc: 0.979 - ETA: 0s - loss: 0.0772 - acc: 0.979 - ETA: 0s - loss: 0.0753 - acc: 0.980 - ETA: 0s - loss: 0.0737 - acc: 0.980 - ETA: 0s - loss: 0.0715 - acc: 0.981 - ETA: 0s - loss: 0.0714 - acc: 0.981 - ETA: 0s - loss: 0.0711 - acc: 0.981 - 2s 51us/step - loss: 0.0710 - acc: 0.9817 - val_loss: 0.1287 - val_acc: 0.9641\n",
      "Epoch 40/50\n",
      "31500/31500 [==============================] - ETA: 1s - loss: 0.0663 - acc: 0.984 - ETA: 1s - loss: 0.0658 - acc: 0.984 - ETA: 0s - loss: 0.0673 - acc: 0.983 - ETA: 0s - loss: 0.0675 - acc: 0.983 - ETA: 0s - loss: 0.0684 - acc: 0.982 - ETA: 0s - loss: 0.0686 - acc: 0.982 - ETA: 0s - loss: 0.0692 - acc: 0.981 - ETA: 0s - loss: 0.0686 - acc: 0.982 - 2s 51us/step - loss: 0.0689 - acc: 0.9821 - val_loss: 0.1280 - val_acc: 0.9647\n",
      "Epoch 41/50\n",
      "31500/31500 [==============================] - ETA: 1s - loss: 0.0696 - acc: 0.981 - ETA: 1s - loss: 0.0688 - acc: 0.982 - ETA: 0s - loss: 0.0696 - acc: 0.982 - ETA: 0s - loss: 0.0698 - acc: 0.982 - ETA: 0s - loss: 0.0689 - acc: 0.982 - ETA: 0s - loss: 0.0689 - acc: 0.982 - ETA: 0s - loss: 0.0684 - acc: 0.982 - ETA: 0s - loss: 0.0670 - acc: 0.982 - 2s 51us/step - loss: 0.0667 - acc: 0.9830 - val_loss: 0.1269 - val_acc: 0.9646\n",
      "Epoch 42/50\n",
      "31500/31500 [==============================] - ETA: 1s - loss: 0.0664 - acc: 0.984 - ETA: 1s - loss: 0.0640 - acc: 0.984 - ETA: 0s - loss: 0.0615 - acc: 0.985 - ETA: 0s - loss: 0.0611 - acc: 0.986 - ETA: 0s - loss: 0.0626 - acc: 0.985 - ETA: 0s - loss: 0.0638 - acc: 0.984 - ETA: 0s - loss: 0.0631 - acc: 0.984 - ETA: 0s - loss: 0.0639 - acc: 0.984 - 2s 49us/step - loss: 0.0644 - acc: 0.9839 - val_loss: 0.1241 - val_acc: 0.9660\n",
      "Epoch 43/50\n",
      "31500/31500 [==============================] - ETA: 1s - loss: 0.0666 - acc: 0.984 - ETA: 0s - loss: 0.0658 - acc: 0.984 - ETA: 0s - loss: 0.0614 - acc: 0.985 - ETA: 0s - loss: 0.0640 - acc: 0.984 - ETA: 0s - loss: 0.0644 - acc: 0.984 - ETA: 0s - loss: 0.0634 - acc: 0.984 - ETA: 0s - loss: 0.0632 - acc: 0.984 - ETA: 0s - loss: 0.0624 - acc: 0.984 - 2s 49us/step - loss: 0.0622 - acc: 0.9847 - val_loss: 0.1234 - val_acc: 0.9664\n",
      "Epoch 44/50\n",
      "31500/31500 [==============================] - ETA: 1s - loss: 0.0636 - acc: 0.982 - ETA: 1s - loss: 0.0612 - acc: 0.984 - ETA: 0s - loss: 0.0612 - acc: 0.984 - ETA: 0s - loss: 0.0624 - acc: 0.984 - ETA: 0s - loss: 0.0625 - acc: 0.984 - ETA: 0s - loss: 0.0626 - acc: 0.984 - ETA: 0s - loss: 0.0607 - acc: 0.984 - ETA: 0s - loss: 0.0608 - acc: 0.984 - 2s 50us/step - loss: 0.0602 - acc: 0.9848 - val_loss: 0.1221 - val_acc: 0.9674\n",
      "Epoch 45/50\n",
      "31500/31500 [==============================] - ETA: 0s - loss: 0.0599 - acc: 0.985 - ETA: 0s - loss: 0.0557 - acc: 0.985 - ETA: 0s - loss: 0.0558 - acc: 0.986 - ETA: 0s - loss: 0.0573 - acc: 0.986 - ETA: 0s - loss: 0.0577 - acc: 0.986 - ETA: 0s - loss: 0.0577 - acc: 0.986 - ETA: 0s - loss: 0.0580 - acc: 0.986 - ETA: 0s - loss: 0.0578 - acc: 0.985 - 2s 49us/step - loss: 0.0583 - acc: 0.9857 - val_loss: 0.1220 - val_acc: 0.9666\n",
      "Epoch 46/50\n",
      "31500/31500 [==============================] - ETA: 1s - loss: 0.0554 - acc: 0.985 - ETA: 1s - loss: 0.0573 - acc: 0.984 - ETA: 0s - loss: 0.0561 - acc: 0.985 - ETA: 0s - loss: 0.0565 - acc: 0.985 - ETA: 0s - loss: 0.0564 - acc: 0.985 - ETA: 0s - loss: 0.0563 - acc: 0.986 - ETA: 0s - loss: 0.0558 - acc: 0.986 - ETA: 0s - loss: 0.0572 - acc: 0.986 - 2s 48us/step - loss: 0.0563 - acc: 0.9865 - val_loss: 0.1199 - val_acc: 0.9674\n",
      "Epoch 47/50\n",
      "31500/31500 [==============================] - ETA: 1s - loss: 0.0551 - acc: 0.988 - ETA: 1s - loss: 0.0552 - acc: 0.987 - ETA: 0s - loss: 0.0559 - acc: 0.987 - ETA: 0s - loss: 0.0534 - acc: 0.988 - ETA: 0s - loss: 0.0542 - acc: 0.987 - ETA: 0s - loss: 0.0541 - acc: 0.987 - ETA: 0s - loss: 0.0543 - acc: 0.987 - ETA: 0s - loss: 0.0542 - acc: 0.987 - 2s 49us/step - loss: 0.0544 - acc: 0.9870 - val_loss: 0.1186 - val_acc: 0.9678\n",
      "Epoch 48/50\n",
      "31500/31500 [==============================] - ETA: 1s - loss: 0.0574 - acc: 0.984 - ETA: 0s - loss: 0.0563 - acc: 0.984 - ETA: 0s - loss: 0.0540 - acc: 0.986 - ETA: 0s - loss: 0.0533 - acc: 0.987 - ETA: 0s - loss: 0.0535 - acc: 0.986 - ETA: 0s - loss: 0.0531 - acc: 0.987 - ETA: 0s - loss: 0.0533 - acc: 0.987 - ETA: 0s - loss: 0.0531 - acc: 0.987 - 2s 50us/step - loss: 0.0526 - acc: 0.9874 - val_loss: 0.1175 - val_acc: 0.9683\n",
      "Epoch 49/50\n",
      "31500/31500 [==============================] - ETA: 1s - loss: 0.0545 - acc: 0.986 - ETA: 0s - loss: 0.0502 - acc: 0.987 - ETA: 0s - loss: 0.0508 - acc: 0.987 - ETA: 0s - loss: 0.0510 - acc: 0.987 - ETA: 0s - loss: 0.0510 - acc: 0.987 - ETA: 0s - loss: 0.0512 - acc: 0.987 - ETA: 0s - loss: 0.0507 - acc: 0.987 - ETA: 0s - loss: 0.0506 - acc: 0.988 - 2s 50us/step - loss: 0.0508 - acc: 0.9881 - val_loss: 0.1164 - val_acc: 0.9684\n",
      "Epoch 50/50\n",
      "31500/31500 [==============================] - ETA: 1s - loss: 0.0494 - acc: 0.989 - ETA: 1s - loss: 0.0486 - acc: 0.990 - ETA: 0s - loss: 0.0479 - acc: 0.989 - ETA: 0s - loss: 0.0471 - acc: 0.989 - ETA: 0s - loss: 0.0475 - acc: 0.989 - ETA: 0s - loss: 0.0483 - acc: 0.989 - ETA: 0s - loss: 0.0482 - acc: 0.989 - ETA: 0s - loss: 0.0489 - acc: 0.988 - 2s 48us/step - loss: 0.0492 - acc: 0.9885 - val_loss: 0.1164 - val_acc: 0.9684\n"
     ]
    },
    {
     "data": {
      "text/plain": [
       "<keras.callbacks.History at 0x2710508b3c8>"
      ]
     },
     "execution_count": 88,
     "metadata": {},
     "output_type": "execute_result"
    }
   ],
   "source": [
    "model3.fit(x_train,y_train2,epochs = 50,batch_size=3500,validation_data=(x_test,y_test2))"
   ]
  },
  {
   "cell_type": "code",
   "execution_count": 96,
   "metadata": {
    "ExecuteTime": {
     "end_time": "2019-05-22T17:53:38.401578Z",
     "start_time": "2019-05-22T17:53:37.765979Z"
    }
   },
   "outputs": [
    {
     "name": "stdout",
     "output_type": "stream",
     "text": [
      "_________________________________________________________________\n",
      "Layer (type)                 Output Shape              Param #   \n",
      "=================================================================\n",
      "dense_4 (Dense)              (None, 256)               200960    \n",
      "_________________________________________________________________\n",
      "dense_5 (Dense)              (None, 10)                2570      \n",
      "=================================================================\n",
      "Total params: 203,530\n",
      "Trainable params: 203,530\n",
      "Non-trainable params: 0\n",
      "_________________________________________________________________\n"
     ]
    }
   ],
   "source": [
    "model3.summary()"
   ]
  },
  {
   "cell_type": "markdown",
   "metadata": {},
   "source": [
    "<strong> Soit une couche L :<br></strong>\n",
    " dimension input = n[L-1] * m <br>\n",
    " dimension de la matrice des poids = n[L] * n[L-1] <br>\n",
    " dimension des biais : n[L] * 1<br>\n",
    " dimension de l'output : n[L] * m<br>\n",
    " Dans keras il ne font pas la transposée. n[L] = nombre de noeuds dans la couche L <br>"
   ]
  },
  {
   "cell_type": "code",
   "execution_count": 102,
   "metadata": {
    "ExecuteTime": {
     "end_time": "2019-05-22T17:56:50.735944Z",
     "start_time": "2019-05-22T17:56:50.100697Z"
    }
   },
   "outputs": [
    {
     "data": {
      "text/plain": [
       "((784, 256), (256,))"
      ]
     },
     "execution_count": 102,
     "metadata": {},
     "output_type": "execute_result"
    }
   ],
   "source": [
    "model3.get_layer(index=0).get_weights()[0].shape,model3.get_layer(index=0).get_weights()[1].shape"
   ]
  },
  {
   "cell_type": "code",
   "execution_count": 103,
   "metadata": {
    "ExecuteTime": {
     "end_time": "2019-05-22T17:57:14.285417Z",
     "start_time": "2019-05-22T17:57:13.693178Z"
    }
   },
   "outputs": [
    {
     "data": {
      "text/plain": [
       "((10,), (10,))"
      ]
     },
     "execution_count": 103,
     "metadata": {},
     "output_type": "execute_result"
    }
   ],
   "source": [
    "model3.get_layer(index=1).get_weights()[1].shape,model3.get_layer(index=1).get_weights()[1].shape"
   ]
  },
  {
   "cell_type": "code",
   "execution_count": 94,
   "metadata": {
    "ExecuteTime": {
     "end_time": "2019-05-22T17:47:06.235584Z",
     "start_time": "2019-05-22T17:47:05.585952Z"
    }
   },
   "outputs": [
    {
     "data": {
      "text/plain": [
       "TensorShape([Dimension(None), Dimension(784)])"
      ]
     },
     "execution_count": 94,
     "metadata": {},
     "output_type": "execute_result"
    }
   ],
   "source": [
    "model3.get_input_at(node_index=0).shape"
   ]
  },
  {
   "cell_type": "code",
   "execution_count": 107,
   "metadata": {
    "ExecuteTime": {
     "end_time": "2019-05-22T18:12:39.801541Z",
     "start_time": "2019-05-22T18:12:39.284139Z"
    }
   },
   "outputs": [
    {
     "data": {
      "text/plain": [
       "<tf.Tensor 'dense_4/Relu:0' shape=(?, 256) dtype=float32>"
      ]
     },
     "execution_count": 107,
     "metadata": {},
     "output_type": "execute_result"
    }
   ],
   "source": [
    "model3.layers[0].output"
   ]
  },
  {
   "cell_type": "code",
   "execution_count": 147,
   "metadata": {
    "ExecuteTime": {
     "end_time": "2019-05-22T18:30:02.533131Z",
     "start_time": "2019-05-22T18:30:01.903077Z"
    }
   },
   "outputs": [],
   "source": [
    "#comment récupérer une sortie intermédiaire de mon réseau \n",
    "#V1\n",
    "from keras import backend as K\n",
    "\n",
    "inp = model3.input                                           # input placeholder\n",
    "outputs = [layer.output for layer in model3.layers]          # all layer outputs\n",
    "functors = [K.function([inp], [out]) for out in outputs]    # evaluation functions\n",
    "\n",
    "# Testing\n",
    "\n",
    "layer_outs = [func([np.array(x_test.iloc[0,:]).reshape(1,784)]) for func in functors]"
   ]
  },
  {
   "cell_type": "code",
   "execution_count": 123,
   "metadata": {
    "ExecuteTime": {
     "end_time": "2019-05-22T18:20:16.913811Z",
     "start_time": "2019-05-22T18:20:16.299581Z"
    }
   },
   "outputs": [
    {
     "data": {
      "text/plain": [
       "(1, 256)"
      ]
     },
     "execution_count": 123,
     "metadata": {},
     "output_type": "execute_result"
    }
   ],
   "source": [
    "layer_outs[0][0].shape"
   ]
  },
  {
   "cell_type": "code",
   "execution_count": 148,
   "metadata": {
    "ExecuteTime": {
     "end_time": "2019-05-22T18:31:31.943986Z",
     "start_time": "2019-05-22T18:31:31.522703Z"
    }
   },
   "outputs": [
    {
     "data": {
      "image/png": "[encoded data removed]",
      "text/plain": [
       "<Figure size 432x288 with 2 Axes>"
      ]
     },
     "metadata": {
      "needs_background": "light"
     },
     "output_type": "display_data"
    }
   ],
   "source": [
    "i=3\n",
    "layer_outs = [func([np.array(x_test.iloc[i,:]).reshape(1,784)]) for func in functors]\n",
    "fig,ax = plt.subplots(ncols=2)\n",
    "ax[0].imshow(np.array(x_test.iloc[i,:]).reshape(28,28))\n",
    "ax[1].imshow(np.array(layer_outs[0][0]).reshape(16,16))\n",
    "plt.show()"
   ]
  },
  {
   "cell_type": "markdown",
   "metadata": {},
   "source": [
    "# Optimize my neural network"
   ]
  },
  {
   "cell_type": "code",
   "execution_count": 150,
   "metadata": {
    "ExecuteTime": {
     "end_time": "2019-05-22T18:42:08.209410Z",
     "start_time": "2019-05-22T18:42:06.553968Z"
    }
   },
   "outputs": [
    {
     "name": "stdout",
     "output_type": "stream",
     "text": [
      "accuracy score = 0.9683809523809523 \n"
     ]
    },
    {
     "data": {
      "image/png": "[encoded data removed]",
      "text/plain": [
       "<Figure size 432x288 with 2 Axes>"
      ]
     },
     "metadata": {
      "needs_background": "light"
     },
     "output_type": "display_data"
    }
   ],
   "source": [
    "plot_confusion_matrix(y_test,model3.predict_classes(x_test),classes=np.arange(10))"
   ]
  },
  {
   "cell_type": "markdown",
   "metadata": {},
   "source": [
    "## Play with the learning rate of my optimizer "
   ]
  },
  {
   "cell_type": "markdown",
   "metadata": {},
   "source": [
    "SGD(lr=0.01, momentum=0.0, decay=0.0, nesterov=False) <br>\n",
    "RMSprop(lr=0.001, rho=0.9, epsilon=None, decay=0.0)<br>\n"
   ]
  },
  {
   "cell_type": "code",
   "execution_count": null,
   "metadata": {},
   "outputs": [],
   "source": [
    "optimizer = RMSprop(lr=0.001, rho=0.9, epsilon=1e-08, decay=0.0)"
   ]
  },
  {
   "cell_type": "code",
   "execution_count": null,
   "metadata": {},
   "outputs": [],
   "source": []
  },
  {
   "cell_type": "code",
   "execution_count": null,
   "metadata": {},
   "outputs": [],
   "source": []
  },
  {
   "cell_type": "code",
   "execution_count": null,
   "metadata": {},
   "outputs": [],
   "source": []
  },
  {
   "cell_type": "code",
   "execution_count": null,
   "metadata": {},
   "outputs": [],
   "source": []
  },
  {
   "cell_type": "code",
   "execution_count": null,
   "metadata": {},
   "outputs": [],
   "source": []
  },
  {
   "cell_type": "code",
   "execution_count": null,
   "metadata": {},
   "outputs": [],
   "source": []
  },
  {
   "cell_type": "code",
   "execution_count": null,
   "metadata": {},
   "outputs": [],
   "source": []
  }
 ],
 "metadata": {
  "kernelspec": {
   "display_name": "Python 3",
   "language": "python",
   "name": "python3"
  },
  "language_info": {
   "codemirror_mode": {
    "name": "ipython",
    "version": 3
   },
   "file_extension": ".py",
   "mimetype": "text/x-python",
   "name": "python",
   "nbconvert_exporter": "python",
   "pygments_lexer": "ipython3",
   "version": "3.7.0"
  },
  "toc": {
   "base_numbering": 1,
   "nav_menu": {},
   "number_sections": true,
   "sideBar": true,
   "skip_h1_title": false,
   "title_cell": "Table of Contents",
   "title_sidebar": "Contents",
   "toc_cell": false,
   "toc_position": {
    "height": "calc(100% - 180px)",
    "left": "10px",
    "top": "150px",
    "width": "384px"
   },
   "toc_section_display": true,
   "toc_window_display": true
  }
 },
 "nbformat": 4,
 "nbformat_minor": 2
}
